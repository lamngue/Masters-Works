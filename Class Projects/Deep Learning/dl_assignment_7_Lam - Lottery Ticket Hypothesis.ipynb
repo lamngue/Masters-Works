{
  "cells": [
    {
      "cell_type": "markdown",
      "metadata": {
        "id": "kQ6K1JrScedM"
      },
      "source": [
        "# Deep Learning &mdash; Assignment 7"
      ]
    },
    {
      "cell_type": "markdown",
      "metadata": {
        "id": "rMhYN-HtcedP"
      },
      "source": [
        "Seventh assignment for the 2022 Deep Learning course (NWI-IMC070) of the Radboud University.\n",
        "\n",
        "_Gijs van Tulder (g.vantulder@cs.ru.nl) and Twan van Laarhoven (tvanlaarhoven@cs.ru.nl)_\n",
        "\n",
        "_October 2022_"
      ]
    },
    {
      "cell_type": "markdown",
      "metadata": {
        "id": "dk_I8JzgcedQ"
      },
      "source": [
        "-----\n",
        "\n",
        "**Names:** Lam Nguyen\n",
        "\n",
        "**Group:** 41\n",
        "\n",
        "-----"
      ]
    },
    {
      "cell_type": "markdown",
      "metadata": {
        "id": "H8YxBgudcedR"
      },
      "source": [
        "**Instructions:**\n",
        "* Fill in your names and the name of your group.\n",
        "* Clean up your notebook before submitting, remove any debug code etc.\n",
        "* Re-run the whole notebook before you submit your work.\n",
        "* Use checkpoints to avoid duplicating work. You do not have to hand in the checkpoint files, but make sure that the code that generated those checkpoints is included.\n",
        "* You may use standalone `.py` files. Of course, hand those in as well.\n",
        "* Save the notebook as a PDF and submit that in Brightspace together with the `.ipynb` notebook file.\n",
        "* The easiest way to make a PDF of your notebook is via File > Print Preview and then use your browser's print option to print to PDF."
      ]
    },
    {
      "cell_type": "markdown",
      "metadata": {
        "id": "VhxZpMLUcedS"
      },
      "source": [
        "## Introduction\n",
        "\n",
        "For this assignment we are doing things a bit different.\n",
        "* Your task is to reproduce the paper [The Lottery Ticket Hypothesis: Finding Sparse, Trainable Neural Networks;      Jonathan Frankle, Michael Carbin](https://arxiv.org/pdf/1803.03635.pdf).\n",
        "* Try to reproduce the experiments and figures as closely as possible.\n",
        "* If the paper is not clear on some details, make a reasonable choice yourself, and motivate that choice.\n",
        "* You will have 3 weeks to work on this assignment.\n",
        "* We will *not* be providing you with much code. You will have to implement many things yourself.\n",
        "* You may freely use code from earlier weeks, and from the d2l books. Please add a comment to reference the original source.\n",
        "* You may *not* use implementations of the paper you find online.\n",
        "* You have a more freedom in how you approach the problem. If you don't like the structure proposed here, you may deviate from it.\n",
        "* This assignment is open ended. You can decide for yourself how much to implement and if you want to go beyond just reproducing the paper. See the grading section for how much effort is expected.\n",
        "\n",
        "**Tips and hints**\n",
        "* It is allowed and recommended to use more than just this notebook. Make separate python files for a library of functions, and for training and analyses.\n",
        "* If you like working with jupyter notebooks: make a separate notebook for trying things out, and keep this one clean.\n",
        "* Use checkpoint files before and during training.\n",
        "* In the notebook only display and discuss these results.\n",
        "* You may add new cells to this notebook as needed.\n",
        "* It is allowed to discuss the assignment with other groups, but try not to spoil too much.\n",
        "* If you get stuck, contact the teachers via discord.\n",
        "\n",
        "**Grading**\n",
        "\n",
        "Grading of this assignment is based on the following rubric:\n",
        "\n",
        "| Aspect       | Poor (<6) | Sufficient (6-7) | Good (8+)   |\n",
        "|--------------|-----------|------------------|-------------|\n",
        "| **Correctness**  | Many errors in implementation and/or understanding | Some minor errors that do not significantly effect the conclusions | No errors |\n",
        "| **Effort**       | Did not reproduce many aspects the paper | Reproduced sections 1-3 | Reproduced section 4; or going beyond the paper |\n",
        "| **Experimental setup** | It is not clear which experiments are done. | It is clear which results belong to which experiment | Documentation of all experiments. Clear separation of training and evaluation. |\n",
        "| **Code quality** | Ugly or missing code | Ok code | Modular code with good documentation |\n",
        "| **Understanding** | Conclusions make no sense | Observing what is going on | Clearly observe and understand what is going on and why |"
      ]
    },
    {
      "cell_type": "markdown",
      "metadata": {
        "id": "e8dh1_XWcedU"
      },
      "source": [
        "## Required software\n",
        "\n",
        "If you need to import any additional libraries, add them below."
      ]
    },
    {
      "cell_type": "code",
      "source": [
        "!pip install d2l\n",
        "!pip install matplotlib_inline"
      ],
      "metadata": {
        "id": "LhBwGKaWf-3H",
        "colab": {
          "base_uri": "https://localhost:8080/",
          "height": 1000
        },
        "outputId": "1a6794ad-a0ce-40e8-c6f9-f11ebbf08e8e"
      },
      "execution_count": null,
      "outputs": [
        {
          "output_type": "stream",
          "name": "stdout",
          "text": [
            "Looking in indexes: https://pypi.org/simple, https://us-python.pkg.dev/colab-wheels/public/simple/\n",
            "Collecting d2l\n",
            "  Downloading d2l-0.17.6-py3-none-any.whl (112 kB)\n",
            "\u001b[K     |████████████████████████████████| 112 kB 4.7 MB/s \n",
            "\u001b[?25hCollecting matplotlib==3.5.1\n",
            "  Downloading matplotlib-3.5.1-cp37-cp37m-manylinux_2_5_x86_64.manylinux1_x86_64.whl (11.2 MB)\n",
            "\u001b[K     |████████████████████████████████| 11.2 MB 8.8 MB/s \n",
            "\u001b[?25hCollecting jupyter==1.0.0\n",
            "  Downloading jupyter-1.0.0-py2.py3-none-any.whl (2.7 kB)\n",
            "Collecting requests==2.25.1\n",
            "  Downloading requests-2.25.1-py2.py3-none-any.whl (61 kB)\n",
            "\u001b[K     |████████████████████████████████| 61 kB 8.4 MB/s \n",
            "\u001b[?25hCollecting pandas==1.2.4\n",
            "  Downloading pandas-1.2.4-cp37-cp37m-manylinux1_x86_64.whl (9.9 MB)\n",
            "\u001b[K     |████████████████████████████████| 9.9 MB 37.1 MB/s \n",
            "\u001b[?25hCollecting numpy==1.21.5\n",
            "  Downloading numpy-1.21.5-cp37-cp37m-manylinux_2_12_x86_64.manylinux2010_x86_64.whl (15.7 MB)\n",
            "\u001b[K     |████████████████████████████████| 15.7 MB 62.6 MB/s \n",
            "\u001b[?25hRequirement already satisfied: ipykernel in /usr/local/lib/python3.7/dist-packages (from jupyter==1.0.0->d2l) (5.3.4)\n",
            "Requirement already satisfied: notebook in /usr/local/lib/python3.7/dist-packages (from jupyter==1.0.0->d2l) (5.7.16)\n",
            "Collecting qtconsole\n",
            "  Downloading qtconsole-5.4.0-py3-none-any.whl (121 kB)\n",
            "\u001b[K     |████████████████████████████████| 121 kB 96.4 MB/s \n",
            "\u001b[?25hRequirement already satisfied: ipywidgets in /usr/local/lib/python3.7/dist-packages (from jupyter==1.0.0->d2l) (7.7.1)\n",
            "Requirement already satisfied: nbconvert in /usr/local/lib/python3.7/dist-packages (from jupyter==1.0.0->d2l) (5.6.1)\n",
            "Requirement already satisfied: jupyter-console in /usr/local/lib/python3.7/dist-packages (from jupyter==1.0.0->d2l) (6.1.0)\n",
            "Collecting fonttools>=4.22.0\n",
            "  Downloading fonttools-4.38.0-py3-none-any.whl (965 kB)\n",
            "\u001b[K     |████████████████████████████████| 965 kB 70.3 MB/s \n",
            "\u001b[?25hRequirement already satisfied: python-dateutil>=2.7 in /usr/local/lib/python3.7/dist-packages (from matplotlib==3.5.1->d2l) (2.8.2)\n",
            "Requirement already satisfied: packaging>=20.0 in /usr/local/lib/python3.7/dist-packages (from matplotlib==3.5.1->d2l) (21.3)\n",
            "Requirement already satisfied: pillow>=6.2.0 in /usr/local/lib/python3.7/dist-packages (from matplotlib==3.5.1->d2l) (7.1.2)\n",
            "Requirement already satisfied: pyparsing>=2.2.1 in /usr/local/lib/python3.7/dist-packages (from matplotlib==3.5.1->d2l) (3.0.9)\n",
            "Requirement already satisfied: kiwisolver>=1.0.1 in /usr/local/lib/python3.7/dist-packages (from matplotlib==3.5.1->d2l) (1.4.4)\n",
            "Requirement already satisfied: cycler>=0.10 in /usr/local/lib/python3.7/dist-packages (from matplotlib==3.5.1->d2l) (0.11.0)\n",
            "Requirement already satisfied: pytz>=2017.3 in /usr/local/lib/python3.7/dist-packages (from pandas==1.2.4->d2l) (2022.6)\n",
            "Requirement already satisfied: certifi>=2017.4.17 in /usr/local/lib/python3.7/dist-packages (from requests==2.25.1->d2l) (2022.9.24)\n",
            "Requirement already satisfied: idna<3,>=2.5 in /usr/local/lib/python3.7/dist-packages (from requests==2.25.1->d2l) (2.10)\n",
            "Requirement already satisfied: urllib3<1.27,>=1.21.1 in /usr/local/lib/python3.7/dist-packages (from requests==2.25.1->d2l) (1.24.3)\n",
            "Requirement already satisfied: chardet<5,>=3.0.2 in /usr/local/lib/python3.7/dist-packages (from requests==2.25.1->d2l) (3.0.4)\n",
            "Requirement already satisfied: typing-extensions in /usr/local/lib/python3.7/dist-packages (from kiwisolver>=1.0.1->matplotlib==3.5.1->d2l) (4.1.1)\n",
            "Requirement already satisfied: six>=1.5 in /usr/local/lib/python3.7/dist-packages (from python-dateutil>=2.7->matplotlib==3.5.1->d2l) (1.15.0)\n",
            "Requirement already satisfied: jupyter-client in /usr/local/lib/python3.7/dist-packages (from ipykernel->jupyter==1.0.0->d2l) (6.1.12)\n",
            "Requirement already satisfied: tornado>=4.2 in /usr/local/lib/python3.7/dist-packages (from ipykernel->jupyter==1.0.0->d2l) (6.0.4)\n",
            "Requirement already satisfied: traitlets>=4.1.0 in /usr/local/lib/python3.7/dist-packages (from ipykernel->jupyter==1.0.0->d2l) (5.1.1)\n",
            "Requirement already satisfied: ipython>=5.0.0 in /usr/local/lib/python3.7/dist-packages (from ipykernel->jupyter==1.0.0->d2l) (7.9.0)\n",
            "Requirement already satisfied: pickleshare in /usr/local/lib/python3.7/dist-packages (from ipython>=5.0.0->ipykernel->jupyter==1.0.0->d2l) (0.7.5)\n",
            "Collecting jedi>=0.10\n",
            "  Downloading jedi-0.18.1-py2.py3-none-any.whl (1.6 MB)\n",
            "\u001b[K     |████████████████████████████████| 1.6 MB 64.3 MB/s \n",
            "\u001b[?25hRequirement already satisfied: setuptools>=18.5 in /usr/local/lib/python3.7/dist-packages (from ipython>=5.0.0->ipykernel->jupyter==1.0.0->d2l) (57.4.0)\n",
            "Requirement already satisfied: pexpect in /usr/local/lib/python3.7/dist-packages (from ipython>=5.0.0->ipykernel->jupyter==1.0.0->d2l) (4.8.0)\n",
            "Requirement already satisfied: pygments in /usr/local/lib/python3.7/dist-packages (from ipython>=5.0.0->ipykernel->jupyter==1.0.0->d2l) (2.6.1)\n",
            "Requirement already satisfied: backcall in /usr/local/lib/python3.7/dist-packages (from ipython>=5.0.0->ipykernel->jupyter==1.0.0->d2l) (0.2.0)\n",
            "Requirement already satisfied: prompt-toolkit<2.1.0,>=2.0.0 in /usr/local/lib/python3.7/dist-packages (from ipython>=5.0.0->ipykernel->jupyter==1.0.0->d2l) (2.0.10)\n",
            "Requirement already satisfied: decorator in /usr/local/lib/python3.7/dist-packages (from ipython>=5.0.0->ipykernel->jupyter==1.0.0->d2l) (4.4.2)\n",
            "Requirement already satisfied: parso<0.9.0,>=0.8.0 in /usr/local/lib/python3.7/dist-packages (from jedi>=0.10->ipython>=5.0.0->ipykernel->jupyter==1.0.0->d2l) (0.8.3)\n",
            "Requirement already satisfied: wcwidth in /usr/local/lib/python3.7/dist-packages (from prompt-toolkit<2.1.0,>=2.0.0->ipython>=5.0.0->ipykernel->jupyter==1.0.0->d2l) (0.2.5)\n",
            "Requirement already satisfied: ipython-genutils~=0.2.0 in /usr/local/lib/python3.7/dist-packages (from ipywidgets->jupyter==1.0.0->d2l) (0.2.0)\n",
            "Requirement already satisfied: widgetsnbextension~=3.6.0 in /usr/local/lib/python3.7/dist-packages (from ipywidgets->jupyter==1.0.0->d2l) (3.6.1)\n",
            "Requirement already satisfied: jupyterlab-widgets>=1.0.0 in /usr/local/lib/python3.7/dist-packages (from ipywidgets->jupyter==1.0.0->d2l) (3.0.3)\n",
            "Requirement already satisfied: jupyter-core>=4.4.0 in /usr/local/lib/python3.7/dist-packages (from notebook->jupyter==1.0.0->d2l) (4.11.2)\n",
            "Requirement already satisfied: pyzmq>=17 in /usr/local/lib/python3.7/dist-packages (from notebook->jupyter==1.0.0->d2l) (23.2.1)\n",
            "Requirement already satisfied: Send2Trash in /usr/local/lib/python3.7/dist-packages (from notebook->jupyter==1.0.0->d2l) (1.8.0)\n",
            "Requirement already satisfied: prometheus-client in /usr/local/lib/python3.7/dist-packages (from notebook->jupyter==1.0.0->d2l) (0.15.0)\n",
            "Requirement already satisfied: nbformat in /usr/local/lib/python3.7/dist-packages (from notebook->jupyter==1.0.0->d2l) (5.7.0)\n",
            "Requirement already satisfied: jinja2<=3.0.0 in /usr/local/lib/python3.7/dist-packages (from notebook->jupyter==1.0.0->d2l) (2.11.3)\n",
            "Requirement already satisfied: terminado>=0.8.1 in /usr/local/lib/python3.7/dist-packages (from notebook->jupyter==1.0.0->d2l) (0.13.3)\n",
            "Requirement already satisfied: MarkupSafe>=0.23 in /usr/local/lib/python3.7/dist-packages (from jinja2<=3.0.0->notebook->jupyter==1.0.0->d2l) (2.0.1)\n",
            "Requirement already satisfied: mistune<2,>=0.8.1 in /usr/local/lib/python3.7/dist-packages (from nbconvert->jupyter==1.0.0->d2l) (0.8.4)\n",
            "Requirement already satisfied: pandocfilters>=1.4.1 in /usr/local/lib/python3.7/dist-packages (from nbconvert->jupyter==1.0.0->d2l) (1.5.0)\n",
            "Requirement already satisfied: entrypoints>=0.2.2 in /usr/local/lib/python3.7/dist-packages (from nbconvert->jupyter==1.0.0->d2l) (0.4)\n",
            "Requirement already satisfied: defusedxml in /usr/local/lib/python3.7/dist-packages (from nbconvert->jupyter==1.0.0->d2l) (0.7.1)\n",
            "Requirement already satisfied: testpath in /usr/local/lib/python3.7/dist-packages (from nbconvert->jupyter==1.0.0->d2l) (0.6.0)\n",
            "Requirement already satisfied: bleach in /usr/local/lib/python3.7/dist-packages (from nbconvert->jupyter==1.0.0->d2l) (5.0.1)\n",
            "Requirement already satisfied: fastjsonschema in /usr/local/lib/python3.7/dist-packages (from nbformat->notebook->jupyter==1.0.0->d2l) (2.16.2)\n",
            "Requirement already satisfied: importlib-metadata>=3.6 in /usr/local/lib/python3.7/dist-packages (from nbformat->notebook->jupyter==1.0.0->d2l) (4.13.0)\n",
            "Requirement already satisfied: jsonschema>=2.6 in /usr/local/lib/python3.7/dist-packages (from nbformat->notebook->jupyter==1.0.0->d2l) (4.3.3)\n",
            "Requirement already satisfied: zipp>=0.5 in /usr/local/lib/python3.7/dist-packages (from importlib-metadata>=3.6->nbformat->notebook->jupyter==1.0.0->d2l) (3.10.0)\n",
            "Requirement already satisfied: pyrsistent!=0.17.0,!=0.17.1,!=0.17.2,>=0.14.0 in /usr/local/lib/python3.7/dist-packages (from jsonschema>=2.6->nbformat->notebook->jupyter==1.0.0->d2l) (0.19.2)\n",
            "Requirement already satisfied: importlib-resources>=1.4.0 in /usr/local/lib/python3.7/dist-packages (from jsonschema>=2.6->nbformat->notebook->jupyter==1.0.0->d2l) (5.10.0)\n",
            "Requirement already satisfied: attrs>=17.4.0 in /usr/local/lib/python3.7/dist-packages (from jsonschema>=2.6->nbformat->notebook->jupyter==1.0.0->d2l) (22.1.0)\n",
            "Requirement already satisfied: ptyprocess in /usr/local/lib/python3.7/dist-packages (from terminado>=0.8.1->notebook->jupyter==1.0.0->d2l) (0.7.0)\n",
            "Requirement already satisfied: webencodings in /usr/local/lib/python3.7/dist-packages (from bleach->nbconvert->jupyter==1.0.0->d2l) (0.5.1)\n",
            "Collecting qtpy>=2.0.1\n",
            "  Downloading QtPy-2.3.0-py3-none-any.whl (83 kB)\n",
            "\u001b[K     |████████████████████████████████| 83 kB 2.5 MB/s \n",
            "\u001b[?25hInstalling collected packages: jedi, qtpy, qtconsole, numpy, fonttools, requests, pandas, matplotlib, jupyter, d2l\n",
            "  Attempting uninstall: numpy\n",
            "    Found existing installation: numpy 1.21.6\n",
            "    Uninstalling numpy-1.21.6:\n",
            "      Successfully uninstalled numpy-1.21.6\n",
            "  Attempting uninstall: requests\n",
            "    Found existing installation: requests 2.23.0\n",
            "    Uninstalling requests-2.23.0:\n",
            "      Successfully uninstalled requests-2.23.0\n",
            "  Attempting uninstall: pandas\n",
            "    Found existing installation: pandas 1.3.5\n",
            "    Uninstalling pandas-1.3.5:\n",
            "      Successfully uninstalled pandas-1.3.5\n",
            "  Attempting uninstall: matplotlib\n",
            "    Found existing installation: matplotlib 3.2.2\n",
            "    Uninstalling matplotlib-3.2.2:\n",
            "      Successfully uninstalled matplotlib-3.2.2\n",
            "Successfully installed d2l-0.17.6 fonttools-4.38.0 jedi-0.18.1 jupyter-1.0.0 matplotlib-3.5.1 numpy-1.21.5 pandas-1.2.4 qtconsole-5.4.0 qtpy-2.3.0 requests-2.25.1\n"
          ]
        },
        {
          "output_type": "display_data",
          "data": {
            "application/vnd.colab-display-data+json": {
              "pip_warning": {
                "packages": [
                  "matplotlib",
                  "mpl_toolkits",
                  "numpy"
                ]
              }
            }
          },
          "metadata": {}
        },
        {
          "output_type": "stream",
          "name": "stdout",
          "text": [
            "Looking in indexes: https://pypi.org/simple, https://us-python.pkg.dev/colab-wheels/public/simple/\n",
            "Collecting matplotlib_inline\n",
            "  Downloading matplotlib_inline-0.1.6-py3-none-any.whl (9.4 kB)\n",
            "Requirement already satisfied: traitlets in /usr/local/lib/python3.7/dist-packages (from matplotlib_inline) (5.1.1)\n",
            "Installing collected packages: matplotlib-inline\n",
            "Successfully installed matplotlib-inline-0.1.6\n"
          ]
        }
      ]
    },
    {
      "cell_type": "code",
      "execution_count": null,
      "metadata": {
        "id": "4bjXV8wwcedV",
        "colab": {
          "base_uri": "https://localhost:8080/"
        },
        "outputId": "3c674231-c9cf-44be-9005-5ac31aa7d4b7"
      },
      "outputs": [
        {
          "output_type": "stream",
          "name": "stdout",
          "text": [
            "The autoreload extension is already loaded. To reload it, use:\n",
            "  %reload_ext autoreload\n"
          ]
        }
      ],
      "source": [
        "%config InlineBackend.figure_formats = ['png']\n",
        "%matplotlib inline\n",
        "%load_ext autoreload\n",
        "%autoreload 2\n",
        "import torch\n",
        "import sys\n",
        "import torch.nn as nn\n",
        "import torchvision\n",
        "import numpy as np\n",
        "import matplotlib.pyplot as plt\n",
        "import tensorflow as tf\n",
        "import torchvision.models as models\n",
        "import torch.nn.utils.prune as prune\n",
        "import csv\n",
        "\n",
        "from torchvision import datasets, transforms\n",
        "from torch.nn.utils.prune import l1_unstructured, random_unstructured\n",
        "from d2l import torch as d2l\n",
        "from google.colab import drive\n",
        "from dl_assignment_7_common import *  # Your functions should go here if you want to use them from scripts\n",
        "\n",
        "device = d2l.try_gpu()"
      ]
    },
    {
      "cell_type": "code",
      "source": [
        "!mkdir \"checkpoints\"\n",
        "!mkdir \"checkpoints_simple\"\n",
        "!mkdir \"lenet\"\n",
        "!mkdir \"conv-2\"\n",
        "!mkdir \"conv-4\"\n",
        "!mkdir \"conv-6\"\n",
        "!touch \"runs_count.txt\"\n",
        "\n",
        "!touch \"lenet/train_results_iteration_lenet.txt\"\n",
        "!touch \"lenet/train_results_iteration_lenet_random.txt\""
      ],
      "metadata": {
        "id": "xKz_03Vaxsyn"
      },
      "execution_count": null,
      "outputs": []
    },
    {
      "cell_type": "code",
      "source": [
        "!touch \"conv-2/train_results_iteration_conv-2.txt\"\n",
        "!touch \"conv-2/train_results_iteration_conv-2_random.txt\"\n",
        "!touch \"conv-4/train_results_iteration_conv-4.txt\"\n",
        "!touch \"conv-4/train_results_iteration_conv-4_random.txt\"\n",
        "!touch \"conv-6/train_results_iteration_conv-6.txt\"\n",
        "!touch \"conv-6/train_results_iteration_conv-6_random.txt\""
      ],
      "metadata": {
        "id": "qoP-J6wgO2Hi"
      },
      "execution_count": null,
      "outputs": []
    },
    {
      "cell_type": "code",
      "source": [
        "drive.mount('/content/drive')"
      ],
      "metadata": {
        "colab": {
          "base_uri": "https://localhost:8080/"
        },
        "id": "mheiRboNdhk7",
        "outputId": "8932f246-4c9a-4815-d0a4-5e8d038d5d61"
      },
      "execution_count": null,
      "outputs": [
        {
          "output_type": "stream",
          "name": "stdout",
          "text": [
            "Mounted at /content/drive\n"
          ]
        }
      ]
    },
    {
      "cell_type": "markdown",
      "metadata": {
        "id": "anoPw_4EcedW"
      },
      "source": [
        "## 7.1 The paper"
      ]
    },
    {
      "cell_type": "markdown",
      "metadata": {
        "id": "LyaRF_f6cedX"
      },
      "source": [
        "**(a) Read the paper [The Lottery Ticket Hypothesis: Finding Sparse, Trainable Neural Networks; by Jonathan Frankle, Michael Carbin](https://arxiv.org/pdf/1803.03635.pdf)**\n",
        "\n",
        "You should focus on the main paper, ignore the appendices."
      ]
    },
    {
      "cell_type": "markdown",
      "metadata": {
        "id": "7RVyAcNEcedX"
      },
      "source": [
        "## 7.2 Preliminaries"
      ]
    },
    {
      "cell_type": "markdown",
      "metadata": {
        "id": "CzzayM3bcedX"
      },
      "source": [
        "**(a) What neural network architectures are used in the paper?**"
      ]
    },
    {
      "cell_type": "markdown",
      "metadata": {
        "id": "A3kFRBWBcedY"
      },
      "source": [
        "Convolutional networks (Conv-2,\n",
        "Conv-4, and Conv-6), Deep Convolutional network (VGG-19), residual network  Resnet18 and fully-connected networks (Lenet-300-100 architecture)."
      ]
    },
    {
      "cell_type": "markdown",
      "metadata": {
        "id": "n7NslnbfcedY"
      },
      "source": [
        "**(b) For each of these architectures, define a function that returns a PyTorch network.**\n",
        "\n",
        "Copy these definitions to `dl_assignment_7_common.py`.\n",
        "\n",
        "Hint: VGG16 and Resnet18 are [predefined in torchvision](https://pytorch.org/vision/0.12/models.html)."
      ]
    },
    {
      "cell_type": "markdown",
      "metadata": {
        "id": "zAj7GJvMcedZ"
      },
      "source": [
        "**(c) Define a function that can construct a network given the architecture name.**\n",
        "\n",
        "Move the function below to `dl_assignment_7_common.py`, and don't forget to remove it here."
      ]
    },
    {
      "cell_type": "markdown",
      "metadata": {
        "id": "aL5wZMX4cedZ"
      },
      "source": [
        "**(d) Which datasets are used in the experiments?**"
      ]
    },
    {
      "cell_type": "markdown",
      "metadata": {
        "id": "O-L879micedZ"
      },
      "source": [
        "The MNIST and CIFAR10 dataset, the ones that contain images."
      ]
    },
    {
      "cell_type": "markdown",
      "metadata": {
        "id": "m-BL8CL_ceda"
      },
      "source": [
        "**(e) Define a function that loads a dataset given the dataset name.**\n",
        "\n",
        "Hint: Standard datasets such as MNIST and CIFAR10 are available in the [torchvision](https://pytorch.org/vision/stable/datasets.html#image-classification) library."
      ]
    },
    {
      "cell_type": "markdown",
      "metadata": {
        "id": "l-Tq9eReceda"
      },
      "source": [
        "TODO: Function implemented as: `TODO` in `dl_assignment_7_common.py`"
      ]
    },
    {
      "cell_type": "markdown",
      "metadata": {
        "id": "WdyO9o60ceda"
      },
      "source": [
        "**(f) Most of these datasets come with a predefined train/test split. Is this used in the paper? If so, update the dataset loader to return a pair `(trainset, testset)`**"
      ]
    },
    {
      "cell_type": "markdown",
      "metadata": {
        "id": "yoJa55Hnceda"
      },
      "source": [
        "Yes, it is used."
      ]
    },
    {
      "cell_type": "markdown",
      "metadata": {
        "id": "N1IXnuZ0cedb"
      },
      "source": [
        "**(g) Does the paper use a validation set? If so, update the dataset loader to return `(trainset, validationset, testset)`.**\n",
        "\n",
        "Hint: [`random_split`](https://pytorch.org/docs/stable/data.html#torch.utils.data.random_split), and/or see assignment 2."
      ]
    },
    {
      "cell_type": "markdown",
      "metadata": {
        "id": "AWngAKwccedb"
      },
      "source": [
        "Yes, it is used"
      ]
    },
    {
      "cell_type": "markdown",
      "metadata": {
        "id": "_4y29APvcedb"
      },
      "source": [
        "## 7.3 Training"
      ]
    },
    {
      "cell_type": "markdown",
      "metadata": {
        "id": "AZkpLD-Ucedb"
      },
      "source": [
        "**(a) What optimization algorithm is used in the paper? What are the hyperparameters?**\n",
        "\n",
        "If you are unable to find the values used for some of the hyperparameters, use reasonable default values."
      ]
    },
    {
      "cell_type": "markdown",
      "metadata": {
        "id": "-CyZWZfYcedc"
      },
      "source": [
        "Algorithm: Stochastic gradient descent and momentum.\n",
        "\n",
        "Hyperparameters: Learning rate,number of iterations, batch size, optimizer, pruning rate"
      ]
    },
    {
      "cell_type": "markdown",
      "metadata": {
        "id": "ckcFzyn_cedc"
      },
      "source": [
        "**(b) Implement an evaluation function, that evaluates a model on a validation or test set (passed as an argument).**\n",
        "\n",
        "The function should return loss and accuracy.\n",
        "\n",
        "Hints: the book defines a function for this that you may use (see assignment 3)."
      ]
    },
    {
      "cell_type": "markdown",
      "metadata": {
        "id": "B0xDn0_Wcedc"
      },
      "source": [
        "Because you will be doing many experiments, it would be a shame to have to re-run them when you reload the notebook. A better solution is to save model checkpoints.\n",
        "See [the tutorial on saving and loading model parameters](https://pytorch.org/tutorials/beginner/basics/saveloadrun_tutorial.html) for how to implement this in PyTorch.\n",
        "\n",
        "**(c) Define a function to save a model checkpoint.**\n",
        "\n",
        "Hint: saving a model requires a filename. Because you will be running many experiments, come up with a descriptive naming convention and/or directory structure. Example: `path = f\"checkpoints/model-{arch}-{run}-{phase_of_the_moon}-{iteration}.pth\"`.\n",
        "\n",
        "Hint 2: it is easier to save the whole model, see the bottom of the tutorial."
      ]
    },
    {
      "cell_type": "markdown",
      "metadata": {
        "id": "5ok-8SX-cedc"
      },
      "source": [
        "**(d) Implement a training loop.**\n",
        "\n",
        "Make sure that the network parameters are saved to a file before and during training."
      ]
    },
    {
      "cell_type": "markdown",
      "metadata": {
        "id": "EMDJL2_bcedd"
      },
      "source": [
        "**(e) Train a simple network on a simple dataset.**\n",
        "\n",
        "You may want to create a new python script (`simple_training.py`), and just load the network here instead."
      ]
    },
    {
      "cell_type": "code",
      "source": [
        "network, params = get_network_and_params('lenet')\n",
        "train(network, 'lenet', params, 'mnist')"
      ],
      "metadata": {
        "id": "i9Blfaz6_Apq",
        "colab": {
          "base_uri": "https://localhost:8080/",
          "height": 499
        },
        "outputId": "8b73c2a5-6243-46f9-cb8a-e92da7c94f4b"
      },
      "execution_count": null,
      "outputs": [
        {
          "output_type": "stream",
          "name": "stdout",
          "text": [
            "loss 0.006, train acc 0.999, test acc 0.981\n",
            "29200321.6 examples/sec on cuda:0\n"
          ]
        },
        {
          "output_type": "display_data",
          "data": {
            "text/plain": [
              "<Figure size 720x360 with 1 Axes>"
            ],
            "image/svg+xml": "<?xml version=\"1.0\" encoding=\"utf-8\" standalone=\"no\"?>\n<!DOCTYPE svg PUBLIC \"-//W3C//DTD SVG 1.1//EN\"\n  \"http://www.w3.org/Graphics/SVG/1.1/DTD/svg11.dtd\">\n<svg xmlns:xlink=\"http://www.w3.org/1999/xlink\" width=\"595.303125pt\" height=\"316.55625pt\" viewBox=\"0 0 595.303125 316.55625\" xmlns=\"http://www.w3.org/2000/svg\" version=\"1.1\">\n <metadata>\n  <rdf:RDF xmlns:dc=\"http://purl.org/dc/elements/1.1/\" xmlns:cc=\"http://creativecommons.org/ns#\" xmlns:rdf=\"http://www.w3.org/1999/02/22-rdf-syntax-ns#\">\n   <cc:Work>\n    <dc:type rdf:resource=\"http://purl.org/dc/dcmitype/StillImage\"/>\n    <dc:date>2022-11-16T07:36:00.694680</dc:date>\n    <dc:format>image/svg+xml</dc:format>\n    <dc:creator>\n     <cc:Agent>\n      <dc:title>Matplotlib v3.5.1, https://matplotlib.org/</dc:title>\n     </cc:Agent>\n    </dc:creator>\n   </cc:Work>\n  </rdf:RDF>\n </metadata>\n <defs>\n  <style type=\"text/css\">*{stroke-linejoin: round; stroke-linecap: butt}</style>\n </defs>\n <g id=\"figure_1\">\n  <g id=\"patch_1\">\n   <path d=\"M -0 316.55625 \nL 595.303125 316.55625 \nL 595.303125 0 \nL -0 0 \nL -0 316.55625 \nz\n\" style=\"fill: none\"/>\n  </g>\n  <g id=\"axes_1\">\n   <g id=\"patch_2\">\n    <path d=\"M 30.103125 279 \nL 588.103125 279 \nL 588.103125 7.2 \nL 30.103125 7.2 \nz\n\" style=\"fill: #ffffff\"/>\n   </g>\n   <g id=\"matplotlib.axis_1\">\n    <g id=\"xtick_1\">\n     <g id=\"line2d_1\">\n      <path d=\"M 53.585117 279 \nL 53.585117 7.2 \n\" clip-path=\"url(#p598ec999fb)\" style=\"fill: none; stroke: #b0b0b0; stroke-width: 0.8; stroke-linecap: square\"/>\n     </g>\n     <g id=\"line2d_2\">\n      <defs>\n       <path id=\"mc111139165\" d=\"M 0 0 \nL 0 3.5 \n\" style=\"stroke: #000000; stroke-width: 0.8\"/>\n      </defs>\n      <g>\n       <use xlink:href=\"#mc111139165\" x=\"53.585117\" y=\"279\" style=\"stroke: #000000; stroke-width: 0.8\"/>\n      </g>\n     </g>\n     <g id=\"text_1\">\n      <!-- 0 -->\n      <g transform=\"translate(50.403867 293.598437)scale(0.1 -0.1)\">\n       <defs>\n        <path id=\"DejaVuSans-30\" d=\"M 2034 4250 \nQ 1547 4250 1301 3770 \nQ 1056 3291 1056 2328 \nQ 1056 1369 1301 889 \nQ 1547 409 2034 409 \nQ 2525 409 2770 889 \nQ 3016 1369 3016 2328 \nQ 3016 3291 2770 3770 \nQ 2525 4250 2034 4250 \nz\nM 2034 4750 \nQ 2819 4750 3233 4129 \nQ 3647 3509 3647 2328 \nQ 3647 1150 3233 529 \nQ 2819 -91 2034 -91 \nQ 1250 -91 836 529 \nQ 422 1150 422 2328 \nQ 422 3509 836 4129 \nQ 1250 4750 2034 4750 \nz\n\" transform=\"scale(0.015625)\"/>\n       </defs>\n       <use xlink:href=\"#DejaVuSans-30\"/>\n      </g>\n     </g>\n    </g>\n    <g id=\"xtick_2\">\n     <g id=\"line2d_3\">\n      <path d=\"M 147.872964 279 \nL 147.872964 7.2 \n\" clip-path=\"url(#p598ec999fb)\" style=\"fill: none; stroke: #b0b0b0; stroke-width: 0.8; stroke-linecap: square\"/>\n     </g>\n     <g id=\"line2d_4\">\n      <g>\n       <use xlink:href=\"#mc111139165\" x=\"147.872964\" y=\"279\" style=\"stroke: #000000; stroke-width: 0.8\"/>\n      </g>\n     </g>\n     <g id=\"text_2\">\n      <!-- 10 -->\n      <g transform=\"translate(141.510464 293.598437)scale(0.1 -0.1)\">\n       <defs>\n        <path id=\"DejaVuSans-31\" d=\"M 794 531 \nL 1825 531 \nL 1825 4091 \nL 703 3866 \nL 703 4441 \nL 1819 4666 \nL 2450 4666 \nL 2450 531 \nL 3481 531 \nL 3481 0 \nL 794 0 \nL 794 531 \nz\n\" transform=\"scale(0.015625)\"/>\n       </defs>\n       <use xlink:href=\"#DejaVuSans-31\"/>\n       <use xlink:href=\"#DejaVuSans-30\" x=\"63.623047\"/>\n      </g>\n     </g>\n    </g>\n    <g id=\"xtick_3\">\n     <g id=\"line2d_5\">\n      <path d=\"M 242.16081 279 \nL 242.16081 7.2 \n\" clip-path=\"url(#p598ec999fb)\" style=\"fill: none; stroke: #b0b0b0; stroke-width: 0.8; stroke-linecap: square\"/>\n     </g>\n     <g id=\"line2d_6\">\n      <g>\n       <use xlink:href=\"#mc111139165\" x=\"242.16081\" y=\"279\" style=\"stroke: #000000; stroke-width: 0.8\"/>\n      </g>\n     </g>\n     <g id=\"text_3\">\n      <!-- 20 -->\n      <g transform=\"translate(235.79831 293.598437)scale(0.1 -0.1)\">\n       <defs>\n        <path id=\"DejaVuSans-32\" d=\"M 1228 531 \nL 3431 531 \nL 3431 0 \nL 469 0 \nL 469 531 \nQ 828 903 1448 1529 \nQ 2069 2156 2228 2338 \nQ 2531 2678 2651 2914 \nQ 2772 3150 2772 3378 \nQ 2772 3750 2511 3984 \nQ 2250 4219 1831 4219 \nQ 1534 4219 1204 4116 \nQ 875 4013 500 3803 \nL 500 4441 \nQ 881 4594 1212 4672 \nQ 1544 4750 1819 4750 \nQ 2544 4750 2975 4387 \nQ 3406 4025 3406 3419 \nQ 3406 3131 3298 2873 \nQ 3191 2616 2906 2266 \nQ 2828 2175 2409 1742 \nQ 1991 1309 1228 531 \nz\n\" transform=\"scale(0.015625)\"/>\n       </defs>\n       <use xlink:href=\"#DejaVuSans-32\"/>\n       <use xlink:href=\"#DejaVuSans-30\" x=\"63.623047\"/>\n      </g>\n     </g>\n    </g>\n    <g id=\"xtick_4\">\n     <g id=\"line2d_7\">\n      <path d=\"M 336.448657 279 \nL 336.448657 7.2 \n\" clip-path=\"url(#p598ec999fb)\" style=\"fill: none; stroke: #b0b0b0; stroke-width: 0.8; stroke-linecap: square\"/>\n     </g>\n     <g id=\"line2d_8\">\n      <g>\n       <use xlink:href=\"#mc111139165\" x=\"336.448657\" y=\"279\" style=\"stroke: #000000; stroke-width: 0.8\"/>\n      </g>\n     </g>\n     <g id=\"text_4\">\n      <!-- 30 -->\n      <g transform=\"translate(330.086157 293.598437)scale(0.1 -0.1)\">\n       <defs>\n        <path id=\"DejaVuSans-33\" d=\"M 2597 2516 \nQ 3050 2419 3304 2112 \nQ 3559 1806 3559 1356 \nQ 3559 666 3084 287 \nQ 2609 -91 1734 -91 \nQ 1441 -91 1130 -33 \nQ 819 25 488 141 \nL 488 750 \nQ 750 597 1062 519 \nQ 1375 441 1716 441 \nQ 2309 441 2620 675 \nQ 2931 909 2931 1356 \nQ 2931 1769 2642 2001 \nQ 2353 2234 1838 2234 \nL 1294 2234 \nL 1294 2753 \nL 1863 2753 \nQ 2328 2753 2575 2939 \nQ 2822 3125 2822 3475 \nQ 2822 3834 2567 4026 \nQ 2313 4219 1838 4219 \nQ 1578 4219 1281 4162 \nQ 984 4106 628 3988 \nL 628 4550 \nQ 988 4650 1302 4700 \nQ 1616 4750 1894 4750 \nQ 2613 4750 3031 4423 \nQ 3450 4097 3450 3541 \nQ 3450 3153 3228 2886 \nQ 3006 2619 2597 2516 \nz\n\" transform=\"scale(0.015625)\"/>\n       </defs>\n       <use xlink:href=\"#DejaVuSans-33\"/>\n       <use xlink:href=\"#DejaVuSans-30\" x=\"63.623047\"/>\n      </g>\n     </g>\n    </g>\n    <g id=\"xtick_5\">\n     <g id=\"line2d_9\">\n      <path d=\"M 430.736503 279 \nL 430.736503 7.2 \n\" clip-path=\"url(#p598ec999fb)\" style=\"fill: none; stroke: #b0b0b0; stroke-width: 0.8; stroke-linecap: square\"/>\n     </g>\n     <g id=\"line2d_10\">\n      <g>\n       <use xlink:href=\"#mc111139165\" x=\"430.736503\" y=\"279\" style=\"stroke: #000000; stroke-width: 0.8\"/>\n      </g>\n     </g>\n     <g id=\"text_5\">\n      <!-- 40 -->\n      <g transform=\"translate(424.374003 293.598437)scale(0.1 -0.1)\">\n       <defs>\n        <path id=\"DejaVuSans-34\" d=\"M 2419 4116 \nL 825 1625 \nL 2419 1625 \nL 2419 4116 \nz\nM 2253 4666 \nL 3047 4666 \nL 3047 1625 \nL 3713 1625 \nL 3713 1100 \nL 3047 1100 \nL 3047 0 \nL 2419 0 \nL 2419 1100 \nL 313 1100 \nL 313 1709 \nL 2253 4666 \nz\n\" transform=\"scale(0.015625)\"/>\n       </defs>\n       <use xlink:href=\"#DejaVuSans-34\"/>\n       <use xlink:href=\"#DejaVuSans-30\" x=\"63.623047\"/>\n      </g>\n     </g>\n    </g>\n    <g id=\"xtick_6\">\n     <g id=\"line2d_11\">\n      <path d=\"M 525.02435 279 \nL 525.02435 7.2 \n\" clip-path=\"url(#p598ec999fb)\" style=\"fill: none; stroke: #b0b0b0; stroke-width: 0.8; stroke-linecap: square\"/>\n     </g>\n     <g id=\"line2d_12\">\n      <g>\n       <use xlink:href=\"#mc111139165\" x=\"525.02435\" y=\"279\" style=\"stroke: #000000; stroke-width: 0.8\"/>\n      </g>\n     </g>\n     <g id=\"text_6\">\n      <!-- 50 -->\n      <g transform=\"translate(518.66185 293.598437)scale(0.1 -0.1)\">\n       <defs>\n        <path id=\"DejaVuSans-35\" d=\"M 691 4666 \nL 3169 4666 \nL 3169 4134 \nL 1269 4134 \nL 1269 2991 \nQ 1406 3038 1543 3061 \nQ 1681 3084 1819 3084 \nQ 2600 3084 3056 2656 \nQ 3513 2228 3513 1497 \nQ 3513 744 3044 326 \nQ 2575 -91 1722 -91 \nQ 1428 -91 1123 -41 \nQ 819 9 494 109 \nL 494 744 \nQ 775 591 1075 516 \nQ 1375 441 1709 441 \nQ 2250 441 2565 725 \nQ 2881 1009 2881 1497 \nQ 2881 1984 2565 2268 \nQ 2250 2553 1709 2553 \nQ 1456 2553 1204 2497 \nQ 953 2441 691 2322 \nL 691 4666 \nz\n\" transform=\"scale(0.015625)\"/>\n       </defs>\n       <use xlink:href=\"#DejaVuSans-35\"/>\n       <use xlink:href=\"#DejaVuSans-30\" x=\"63.623047\"/>\n      </g>\n     </g>\n    </g>\n    <g id=\"text_7\">\n     <!-- epoch -->\n     <g transform=\"translate(293.875 307.276562)scale(0.1 -0.1)\">\n      <defs>\n       <path id=\"DejaVuSans-65\" d=\"M 3597 1894 \nL 3597 1613 \nL 953 1613 \nQ 991 1019 1311 708 \nQ 1631 397 2203 397 \nQ 2534 397 2845 478 \nQ 3156 559 3463 722 \nL 3463 178 \nQ 3153 47 2828 -22 \nQ 2503 -91 2169 -91 \nQ 1331 -91 842 396 \nQ 353 884 353 1716 \nQ 353 2575 817 3079 \nQ 1281 3584 2069 3584 \nQ 2775 3584 3186 3129 \nQ 3597 2675 3597 1894 \nz\nM 3022 2063 \nQ 3016 2534 2758 2815 \nQ 2500 3097 2075 3097 \nQ 1594 3097 1305 2825 \nQ 1016 2553 972 2059 \nL 3022 2063 \nz\n\" transform=\"scale(0.015625)\"/>\n       <path id=\"DejaVuSans-70\" d=\"M 1159 525 \nL 1159 -1331 \nL 581 -1331 \nL 581 3500 \nL 1159 3500 \nL 1159 2969 \nQ 1341 3281 1617 3432 \nQ 1894 3584 2278 3584 \nQ 2916 3584 3314 3078 \nQ 3713 2572 3713 1747 \nQ 3713 922 3314 415 \nQ 2916 -91 2278 -91 \nQ 1894 -91 1617 61 \nQ 1341 213 1159 525 \nz\nM 3116 1747 \nQ 3116 2381 2855 2742 \nQ 2594 3103 2138 3103 \nQ 1681 3103 1420 2742 \nQ 1159 2381 1159 1747 \nQ 1159 1113 1420 752 \nQ 1681 391 2138 391 \nQ 2594 391 2855 752 \nQ 3116 1113 3116 1747 \nz\n\" transform=\"scale(0.015625)\"/>\n       <path id=\"DejaVuSans-6f\" d=\"M 1959 3097 \nQ 1497 3097 1228 2736 \nQ 959 2375 959 1747 \nQ 959 1119 1226 758 \nQ 1494 397 1959 397 \nQ 2419 397 2687 759 \nQ 2956 1122 2956 1747 \nQ 2956 2369 2687 2733 \nQ 2419 3097 1959 3097 \nz\nM 1959 3584 \nQ 2709 3584 3137 3096 \nQ 3566 2609 3566 1747 \nQ 3566 888 3137 398 \nQ 2709 -91 1959 -91 \nQ 1206 -91 779 398 \nQ 353 888 353 1747 \nQ 353 2609 779 3096 \nQ 1206 3584 1959 3584 \nz\n\" transform=\"scale(0.015625)\"/>\n       <path id=\"DejaVuSans-63\" d=\"M 3122 3366 \nL 3122 2828 \nQ 2878 2963 2633 3030 \nQ 2388 3097 2138 3097 \nQ 1578 3097 1268 2742 \nQ 959 2388 959 1747 \nQ 959 1106 1268 751 \nQ 1578 397 2138 397 \nQ 2388 397 2633 464 \nQ 2878 531 3122 666 \nL 3122 134 \nQ 2881 22 2623 -34 \nQ 2366 -91 2075 -91 \nQ 1284 -91 818 406 \nQ 353 903 353 1747 \nQ 353 2603 823 3093 \nQ 1294 3584 2113 3584 \nQ 2378 3584 2631 3529 \nQ 2884 3475 3122 3366 \nz\n\" transform=\"scale(0.015625)\"/>\n       <path id=\"DejaVuSans-68\" d=\"M 3513 2113 \nL 3513 0 \nL 2938 0 \nL 2938 2094 \nQ 2938 2591 2744 2837 \nQ 2550 3084 2163 3084 \nQ 1697 3084 1428 2787 \nQ 1159 2491 1159 1978 \nL 1159 0 \nL 581 0 \nL 581 4863 \nL 1159 4863 \nL 1159 2956 \nQ 1366 3272 1645 3428 \nQ 1925 3584 2291 3584 \nQ 2894 3584 3203 3211 \nQ 3513 2838 3513 2113 \nz\n\" transform=\"scale(0.015625)\"/>\n      </defs>\n      <use xlink:href=\"#DejaVuSans-65\"/>\n      <use xlink:href=\"#DejaVuSans-70\" x=\"61.523438\"/>\n      <use xlink:href=\"#DejaVuSans-6f\" x=\"125\"/>\n      <use xlink:href=\"#DejaVuSans-63\" x=\"186.181641\"/>\n      <use xlink:href=\"#DejaVuSans-68\" x=\"241.162109\"/>\n     </g>\n    </g>\n   </g>\n   <g id=\"matplotlib.axis_2\">\n    <g id=\"ytick_1\">\n     <g id=\"line2d_13\">\n      <path d=\"M 30.103125 266.945996 \nL 588.103125 266.945996 \n\" clip-path=\"url(#p598ec999fb)\" style=\"fill: none; stroke: #b0b0b0; stroke-width: 0.8; stroke-linecap: square\"/>\n     </g>\n     <g id=\"line2d_14\">\n      <defs>\n       <path id=\"m259004622a\" d=\"M 0 0 \nL -3.5 0 \n\" style=\"stroke: #000000; stroke-width: 0.8\"/>\n      </defs>\n      <g>\n       <use xlink:href=\"#m259004622a\" x=\"30.103125\" y=\"266.945996\" style=\"stroke: #000000; stroke-width: 0.8\"/>\n      </g>\n     </g>\n     <g id=\"text_8\">\n      <!-- 0.0 -->\n      <g transform=\"translate(7.2 270.745215)scale(0.1 -0.1)\">\n       <defs>\n        <path id=\"DejaVuSans-2e\" d=\"M 684 794 \nL 1344 794 \nL 1344 0 \nL 684 0 \nL 684 794 \nz\n\" transform=\"scale(0.015625)\"/>\n       </defs>\n       <use xlink:href=\"#DejaVuSans-30\"/>\n       <use xlink:href=\"#DejaVuSans-2e\" x=\"63.623047\"/>\n       <use xlink:href=\"#DejaVuSans-30\" x=\"95.410156\"/>\n      </g>\n     </g>\n    </g>\n    <g id=\"ytick_2\">\n     <g id=\"line2d_15\">\n      <path d=\"M 30.103125 217.445165 \nL 588.103125 217.445165 \n\" clip-path=\"url(#p598ec999fb)\" style=\"fill: none; stroke: #b0b0b0; stroke-width: 0.8; stroke-linecap: square\"/>\n     </g>\n     <g id=\"line2d_16\">\n      <g>\n       <use xlink:href=\"#m259004622a\" x=\"30.103125\" y=\"217.445165\" style=\"stroke: #000000; stroke-width: 0.8\"/>\n      </g>\n     </g>\n     <g id=\"text_9\">\n      <!-- 0.2 -->\n      <g transform=\"translate(7.2 221.244384)scale(0.1 -0.1)\">\n       <use xlink:href=\"#DejaVuSans-30\"/>\n       <use xlink:href=\"#DejaVuSans-2e\" x=\"63.623047\"/>\n       <use xlink:href=\"#DejaVuSans-32\" x=\"95.410156\"/>\n      </g>\n     </g>\n    </g>\n    <g id=\"ytick_3\">\n     <g id=\"line2d_17\">\n      <path d=\"M 30.103125 167.944333 \nL 588.103125 167.944333 \n\" clip-path=\"url(#p598ec999fb)\" style=\"fill: none; stroke: #b0b0b0; stroke-width: 0.8; stroke-linecap: square\"/>\n     </g>\n     <g id=\"line2d_18\">\n      <g>\n       <use xlink:href=\"#m259004622a\" x=\"30.103125\" y=\"167.944333\" style=\"stroke: #000000; stroke-width: 0.8\"/>\n      </g>\n     </g>\n     <g id=\"text_10\">\n      <!-- 0.4 -->\n      <g transform=\"translate(7.2 171.743552)scale(0.1 -0.1)\">\n       <use xlink:href=\"#DejaVuSans-30\"/>\n       <use xlink:href=\"#DejaVuSans-2e\" x=\"63.623047\"/>\n       <use xlink:href=\"#DejaVuSans-34\" x=\"95.410156\"/>\n      </g>\n     </g>\n    </g>\n    <g id=\"ytick_4\">\n     <g id=\"line2d_19\">\n      <path d=\"M 30.103125 118.443502 \nL 588.103125 118.443502 \n\" clip-path=\"url(#p598ec999fb)\" style=\"fill: none; stroke: #b0b0b0; stroke-width: 0.8; stroke-linecap: square\"/>\n     </g>\n     <g id=\"line2d_20\">\n      <g>\n       <use xlink:href=\"#m259004622a\" x=\"30.103125\" y=\"118.443502\" style=\"stroke: #000000; stroke-width: 0.8\"/>\n      </g>\n     </g>\n     <g id=\"text_11\">\n      <!-- 0.6 -->\n      <g transform=\"translate(7.2 122.24272)scale(0.1 -0.1)\">\n       <defs>\n        <path id=\"DejaVuSans-36\" d=\"M 2113 2584 \nQ 1688 2584 1439 2293 \nQ 1191 2003 1191 1497 \nQ 1191 994 1439 701 \nQ 1688 409 2113 409 \nQ 2538 409 2786 701 \nQ 3034 994 3034 1497 \nQ 3034 2003 2786 2293 \nQ 2538 2584 2113 2584 \nz\nM 3366 4563 \nL 3366 3988 \nQ 3128 4100 2886 4159 \nQ 2644 4219 2406 4219 \nQ 1781 4219 1451 3797 \nQ 1122 3375 1075 2522 \nQ 1259 2794 1537 2939 \nQ 1816 3084 2150 3084 \nQ 2853 3084 3261 2657 \nQ 3669 2231 3669 1497 \nQ 3669 778 3244 343 \nQ 2819 -91 2113 -91 \nQ 1303 -91 875 529 \nQ 447 1150 447 2328 \nQ 447 3434 972 4092 \nQ 1497 4750 2381 4750 \nQ 2619 4750 2861 4703 \nQ 3103 4656 3366 4563 \nz\n\" transform=\"scale(0.015625)\"/>\n       </defs>\n       <use xlink:href=\"#DejaVuSans-30\"/>\n       <use xlink:href=\"#DejaVuSans-2e\" x=\"63.623047\"/>\n       <use xlink:href=\"#DejaVuSans-36\" x=\"95.410156\"/>\n      </g>\n     </g>\n    </g>\n    <g id=\"ytick_5\">\n     <g id=\"line2d_21\">\n      <path d=\"M 30.103125 68.94267 \nL 588.103125 68.94267 \n\" clip-path=\"url(#p598ec999fb)\" style=\"fill: none; stroke: #b0b0b0; stroke-width: 0.8; stroke-linecap: square\"/>\n     </g>\n     <g id=\"line2d_22\">\n      <g>\n       <use xlink:href=\"#m259004622a\" x=\"30.103125\" y=\"68.94267\" style=\"stroke: #000000; stroke-width: 0.8\"/>\n      </g>\n     </g>\n     <g id=\"text_12\">\n      <!-- 0.8 -->\n      <g transform=\"translate(7.2 72.741889)scale(0.1 -0.1)\">\n       <defs>\n        <path id=\"DejaVuSans-38\" d=\"M 2034 2216 \nQ 1584 2216 1326 1975 \nQ 1069 1734 1069 1313 \nQ 1069 891 1326 650 \nQ 1584 409 2034 409 \nQ 2484 409 2743 651 \nQ 3003 894 3003 1313 \nQ 3003 1734 2745 1975 \nQ 2488 2216 2034 2216 \nz\nM 1403 2484 \nQ 997 2584 770 2862 \nQ 544 3141 544 3541 \nQ 544 4100 942 4425 \nQ 1341 4750 2034 4750 \nQ 2731 4750 3128 4425 \nQ 3525 4100 3525 3541 \nQ 3525 3141 3298 2862 \nQ 3072 2584 2669 2484 \nQ 3125 2378 3379 2068 \nQ 3634 1759 3634 1313 \nQ 3634 634 3220 271 \nQ 2806 -91 2034 -91 \nQ 1263 -91 848 271 \nQ 434 634 434 1313 \nQ 434 1759 690 2068 \nQ 947 2378 1403 2484 \nz\nM 1172 3481 \nQ 1172 3119 1398 2916 \nQ 1625 2713 2034 2713 \nQ 2441 2713 2670 2916 \nQ 2900 3119 2900 3481 \nQ 2900 3844 2670 4047 \nQ 2441 4250 2034 4250 \nQ 1625 4250 1398 4047 \nQ 1172 3844 1172 3481 \nz\n\" transform=\"scale(0.015625)\"/>\n       </defs>\n       <use xlink:href=\"#DejaVuSans-30\"/>\n       <use xlink:href=\"#DejaVuSans-2e\" x=\"63.623047\"/>\n       <use xlink:href=\"#DejaVuSans-38\" x=\"95.410156\"/>\n      </g>\n     </g>\n    </g>\n    <g id=\"ytick_6\">\n     <g id=\"line2d_23\">\n      <path d=\"M 30.103125 19.441839 \nL 588.103125 19.441839 \n\" clip-path=\"url(#p598ec999fb)\" style=\"fill: none; stroke: #b0b0b0; stroke-width: 0.8; stroke-linecap: square\"/>\n     </g>\n     <g id=\"line2d_24\">\n      <g>\n       <use xlink:href=\"#m259004622a\" x=\"30.103125\" y=\"19.441839\" style=\"stroke: #000000; stroke-width: 0.8\"/>\n      </g>\n     </g>\n     <g id=\"text_13\">\n      <!-- 1.0 -->\n      <g transform=\"translate(7.2 23.241057)scale(0.1 -0.1)\">\n       <use xlink:href=\"#DejaVuSans-31\"/>\n       <use xlink:href=\"#DejaVuSans-2e\" x=\"63.623047\"/>\n       <use xlink:href=\"#DejaVuSans-30\" x=\"95.410156\"/>\n      </g>\n     </g>\n    </g>\n   </g>\n   <g id=\"line2d_25\">\n    <path d=\"M 55.466761 115.9221 \nL 57.348405 158.290399 \nL 59.230049 176.743245 \nL 61.111694 188.111277 \nL 63.013902 196.320174 \nL 64.895546 238.057587 \nL 66.77719 237.373839 \nL 68.658834 237.977027 \nL 70.540478 238.931626 \nL 72.442687 240.082304 \nL 74.324331 250.300937 \nL 76.205975 249.406104 \nL 81.871471 249.303057 \nL 83.753115 254.529899 \nL 85.634759 254.951974 \nL 87.516403 254.885971 \nL 89.398047 254.385233 \nL 91.300256 254.258224 \nL 93.1819 257.892583 \nL 95.063544 258.557746 \nL 96.945188 258.297353 \nL 98.826832 257.589427 \nL 100.729041 257.687242 \nL 102.610685 260.944206 \nL 104.492329 259.398227 \nL 106.373973 259.421514 \nL 108.255617 259.218305 \nL 110.157825 259.156181 \nL 112.039469 261.450565 \nL 115.802757 261.517131 \nL 117.684401 261.398138 \nL 119.58661 261.072494 \nL 121.468254 263.022774 \nL 123.349898 263.169727 \nL 125.231542 262.387895 \nL 127.113186 261.821173 \nL 129.015395 261.684618 \nL 130.897039 263.845743 \nL 134.660327 262.982333 \nL 138.444179 262.556089 \nL 140.325823 264.09809 \nL 142.207467 264.170072 \nL 144.089111 263.114129 \nL 145.970755 263.144634 \nL 147.872964 262.863464 \nL 149.754608 264.211046 \nL 151.636252 264.294477 \nL 155.39954 263.388225 \nL 157.301749 263.453483 \nL 159.183393 263.242747 \nL 161.065037 263.401651 \nL 162.946681 263.394951 \nL 164.828325 263.53233 \nL 166.730533 263.509069 \nL 168.612177 265.305747 \nL 170.493821 265.480907 \nL 174.257109 264.597494 \nL 176.159318 263.971383 \nL 178.040962 264.530303 \nL 179.922606 264.825345 \nL 181.80425 264.866724 \nL 183.685894 264.14535 \nL 185.588102 263.591115 \nL 187.469747 265.150888 \nL 189.351391 264.692234 \nL 191.233035 264.459698 \nL 193.114679 264.507613 \nL 196.898531 264.093984 \nL 202.543463 263.826779 \nL 204.445672 263.962701 \nL 206.327316 265.586318 \nL 210.090604 265.576478 \nL 211.972248 265.654639 \nL 215.7561 264.677725 \nL 217.637745 264.875175 \nL 219.519389 264.777948 \nL 221.401033 264.341727 \nL 223.303241 264.230667 \nL 225.184885 265.046846 \nL 227.066529 264.967705 \nL 232.732026 265.067147 \nL 234.61367 265.323305 \nL 238.376958 265.32708 \nL 240.258602 264.897254 \nL 242.16081 264.700878 \nL 244.042454 264.183375 \nL 245.924098 264.841666 \nL 247.805743 264.807395 \nL 249.687387 264.56456 \nL 251.589595 264.655942 \nL 253.471239 265.429682 \nL 255.352883 265.313152 \nL 257.234527 264.724352 \nL 259.116171 264.398538 \nL 261.01838 264.687089 \nL 262.900024 265.474965 \nL 266.663312 265.577323 \nL 268.544956 265.600663 \nL 270.447164 265.198138 \nL 272.328808 264.464807 \nL 274.210452 265.009709 \nL 276.092097 265.300661 \nL 281.757593 264.826775 \nL 283.639237 265.151623 \nL 285.520881 264.641074 \nL 287.402525 264.788245 \nL 289.304734 264.804588 \nL 291.186378 266.475523 \nL 293.068022 266.333826 \nL 294.949666 265.851086 \nL 296.83131 265.576432 \nL 298.733518 265.003688 \nL 300.615162 265.684379 \nL 302.496806 265.626076 \nL 306.260095 265.050424 \nL 308.162303 264.878139 \nL 310.043947 265.338604 \nL 313.807235 265.44097 \nL 315.688879 265.626205 \nL 317.591088 265.614282 \nL 319.472732 266.423475 \nL 321.354376 266.58098 \nL 323.23602 266.430619 \nL 325.117664 266.047062 \nL 328.901516 265.678626 \nL 332.664804 266.016472 \nL 336.448657 265.234796 \nL 340.211945 265.76353 \nL 342.093589 265.284255 \nL 343.975233 265.456275 \nL 345.877442 264.935866 \nL 347.759086 264.8088 \nL 349.64073 264.29532 \nL 353.404018 265.017349 \nL 355.306226 265.058676 \nL 357.18787 265.593077 \nL 359.069514 265.628106 \nL 362.832802 265.213517 \nL 364.735011 265.357547 \nL 366.616655 266.115676 \nL 368.498299 266.299577 \nL 374.163796 265.924166 \nL 376.04544 264.198104 \nL 381.690372 265.245712 \nL 383.59258 265.238651 \nL 385.474224 266.155446 \nL 387.355868 265.886404 \nL 389.237512 265.912869 \nL 393.021365 265.579848 \nL 394.903009 265.90133 \nL 402.45015 265.348792 \nL 404.331794 266.22265 \nL 406.213438 266.373225 \nL 408.095082 265.896283 \nL 409.976726 265.740664 \nL 411.878934 265.778822 \nL 413.760578 266.502859 \nL 415.642222 265.704555 \nL 417.523866 265.304519 \nL 419.40551 265.413283 \nL 421.307719 265.050423 \nL 423.189363 265.574298 \nL 426.952651 265.914029 \nL 430.736503 266.002541 \nL 432.618148 266.645455 \nL 434.499792 266.237961 \nL 436.381436 265.63416 \nL 440.165288 265.237055 \nL 442.046932 266.246114 \nL 443.928576 266.203674 \nL 445.81022 265.892622 \nL 447.691864 265.997207 \nL 449.594073 265.895429 \nL 451.475717 263.886445 \nL 453.357361 264.93111 \nL 455.239005 265.483964 \nL 457.120649 265.726659 \nL 459.022857 265.715485 \nL 460.904501 264.668978 \nL 462.786146 265.522087 \nL 464.66779 265.488981 \nL 466.549434 265.723057 \nL 468.451642 265.767831 \nL 470.333286 265.279381 \nL 474.096574 265.198113 \nL 475.978218 265.379763 \nL 477.880427 265.414946 \nL 479.762071 266.175535 \nL 481.643715 265.137701 \nL 483.525359 265.436662 \nL 485.407003 265.5742 \nL 487.309211 265.540806 \nL 489.190855 266.144718 \nL 491.072499 265.989554 \nL 492.954144 265.265633 \nL 496.737996 265.114183 \nL 500.501284 265.766207 \nL 502.382928 265.293581 \nL 504.264572 265.320259 \nL 506.166781 265.479841 \nL 508.048425 265.500803 \nL 509.930069 265.910597 \nL 511.811713 265.941213 \nL 513.693357 265.744658 \nL 515.595565 265.759737 \nL 517.477209 266.305648 \nL 523.122142 266.157089 \nL 525.02435 265.964955 \nL 526.905994 265.985127 \nL 528.787638 265.40752 \nL 530.669282 265.484629 \nL 532.550926 265.711459 \nL 534.453135 265.579491 \nL 536.334779 266.018943 \nL 538.216423 265.965619 \nL 540.098067 265.771217 \nL 541.979711 265.930895 \nL 543.881919 265.730174 \nL 545.763563 265.097556 \nL 547.645207 265.469557 \nL 555.192348 265.928045 \nL 557.073992 266.330043 \nL 560.83728 265.544069 \nL 562.739489 265.411026 \nL 562.739489 265.411026 \n\" clip-path=\"url(#p598ec999fb)\" style=\"fill: none; stroke: #1f77b4; stroke-width: 1.5; stroke-linecap: square\"/>\n   </g>\n   <g id=\"line2d_26\">\n    <path d=\"M 55.466761 60.940487 \nL 57.348405 49.793783 \nL 59.230049 45.078881 \nL 61.111694 42.090272 \nL 63.013902 39.926183 \nL 64.895546 27.962474 \nL 66.77719 28.447113 \nL 70.540478 27.951203 \nL 72.442687 27.618476 \nL 74.324331 24.513645 \nL 76.205975 24.817954 \nL 81.871471 24.87343 \nL 83.753115 22.93575 \nL 89.398047 23.245694 \nL 91.300256 23.298403 \nL 93.1819 22.394757 \nL 95.063544 22.180614 \nL 96.945188 22.169343 \nL 98.826832 22.411663 \nL 100.729041 22.402888 \nL 102.610685 21.29023 \nL 104.492329 21.955201 \nL 110.157825 22.038382 \nL 112.039469 21.222606 \nL 113.921113 21.087358 \nL 119.58661 21.345371 \nL 121.468254 20.681614 \nL 123.349898 20.704155 \nL 125.231542 20.974651 \nL 127.113186 21.126805 \nL 129.015395 21.165368 \nL 130.897039 20.388576 \nL 134.660327 20.801834 \nL 138.444179 20.989865 \nL 140.325823 20.411117 \nL 142.207467 20.388576 \nL 144.089111 20.711669 \nL 147.872964 20.791861 \nL 149.754608 20.478741 \nL 151.636252 20.320952 \nL 155.39954 20.69852 \nL 166.730533 20.607358 \nL 168.612177 19.915207 \nL 170.493821 19.915207 \nL 174.257109 20.242057 \nL 176.159318 20.440855 \nL 178.040962 20.230786 \nL 181.80425 20.133107 \nL 185.588102 20.593858 \nL 187.469747 20.050455 \nL 189.351391 20.208245 \nL 195.016887 20.314853 \nL 202.543463 20.552001 \nL 204.445672 20.512857 \nL 206.327316 19.915207 \nL 211.972248 19.898301 \nL 215.7561 20.208245 \nL 217.637745 20.106809 \nL 223.303241 20.346354 \nL 225.184885 20.095538 \nL 228.948173 20.133107 \nL 236.495314 19.96029 \nL 240.258602 20.106809 \nL 242.16081 20.175351 \nL 244.042454 20.478741 \nL 245.924098 20.163162 \nL 251.589595 20.193351 \nL 253.471239 19.937749 \nL 255.352883 19.892666 \nL 259.116171 20.247692 \nL 261.01838 20.166351 \nL 262.900024 19.937749 \nL 268.544956 19.909572 \nL 272.328808 20.230786 \nL 276.092097 20.005373 \nL 279.875949 20.035849 \nL 281.757593 20.230786 \nL 283.639237 20.050455 \nL 285.520881 20.2383 \nL 289.304734 20.157351 \nL 291.186378 19.599628 \nL 293.068022 19.644711 \nL 294.949666 19.825042 \nL 298.733518 20.053849 \nL 300.615162 19.825042 \nL 302.496806 19.8025 \nL 308.162303 20.076349 \nL 311.925591 19.994102 \nL 317.591088 19.923347 \nL 319.472732 19.667252 \nL 321.354376 19.577087 \nL 323.23602 19.599628 \nL 327.019872 19.837845 \nL 330.78316 19.825042 \nL 332.664804 19.764932 \nL 336.448657 19.945847 \nL 340.211945 19.836312 \nL 342.093589 19.945262 \nL 343.975233 19.903937 \nL 347.759086 20.050455 \nL 360.951158 19.810014 \nL 362.832802 19.915207 \nL 364.735011 19.905346 \nL 368.498299 19.689794 \nL 374.163796 19.783844 \nL 376.04544 20.11808 \nL 379.808728 20.050455 \nL 383.59258 19.945847 \nL 385.474224 19.62217 \nL 389.237512 19.734876 \nL 402.45015 19.923347 \nL 404.331794 19.689794 \nL 408.095082 19.749904 \nL 411.878934 19.797345 \nL 413.760578 19.554545 \nL 417.523866 19.967804 \nL 421.307719 20.026848 \nL 423.189363 19.825042 \nL 426.952651 19.74239 \nL 430.736503 19.738844 \nL 432.618148 19.577087 \nL 434.499792 19.655982 \nL 436.381436 19.862611 \nL 440.165288 19.918847 \nL 442.046932 19.62217 \nL 449.594073 19.752344 \nL 451.475717 20.253328 \nL 453.357361 19.982831 \nL 457.120649 19.79123 \nL 468.451642 19.738844 \nL 474.096574 19.96029 \nL 491.072499 19.689794 \nL 494.835788 19.870125 \nL 496.737996 19.923347 \nL 500.501284 19.768688 \nL 504.264572 19.819406 \nL 513.693357 19.729241 \nL 515.595565 19.756844 \nL 517.477209 19.62217 \nL 526.905994 19.779959 \nL 528.787638 19.926478 \nL 538.216423 19.734876 \nL 543.881919 19.797345 \nL 545.763563 19.96029 \nL 549.526851 19.840069 \nL 553.310704 19.774844 \nL 557.073992 19.577087 \nL 560.83728 19.757418 \nL 562.739489 19.779344 \nL 562.739489 19.779344 \n\" clip-path=\"url(#p598ec999fb)\" style=\"fill: none; stroke-dasharray: 5.55,2.4; stroke-dashoffset: 0; stroke: #bf00bf; stroke-width: 1.5\"/>\n   </g>\n   <g id=\"line2d_27\">\n    <path d=\"M 63.013902 29.094501 \nL 72.442687 27.28772 \nL 81.871471 25.183935 \nL 91.300256 24.688927 \nL 100.729041 25.159185 \nL 110.157825 24.342421 \nL 119.58661 25.728444 \nL 129.015395 24.367171 \nL 138.444179 24.144418 \nL 147.872964 24.88693 \nL 157.301749 25.406689 \nL 166.730533 24.713677 \nL 176.159318 25.159185 \nL 185.588102 25.060183 \nL 195.016887 25.233436 \nL 204.445672 24.589925 \nL 213.874456 23.946414 \nL 223.303241 25.109684 \nL 232.732026 24.639426 \nL 242.16081 24.639426 \nL 251.589595 24.787928 \nL 261.01838 23.946414 \nL 270.447164 24.713677 \nL 279.875949 24.589925 \nL 289.304734 24.29292 \nL 298.733518 24.515674 \nL 308.162303 24.86218 \nL 317.591088 24.466173 \nL 327.019872 24.664176 \nL 336.448657 24.985932 \nL 345.877442 24.639426 \nL 355.306226 24.466173 \nL 364.735011 24.119667 \nL 374.163796 24.29292 \nL 383.59258 24.119667 \nL 393.021365 24.070166 \nL 402.45015 23.995915 \nL 411.878934 23.896913 \nL 421.307719 24.144418 \nL 430.736503 24.367171 \nL 440.165288 24.466173 \nL 449.594073 25.060183 \nL 459.022857 24.045416 \nL 468.451642 24.045416 \nL 477.880427 23.748411 \nL 487.309211 24.070166 \nL 496.737996 23.995915 \nL 506.166781 23.946414 \nL 515.595565 23.995915 \nL 525.02435 23.847413 \nL 534.453135 23.995915 \nL 543.881919 24.29292 \nL 553.310704 23.426656 \nL 562.739489 24.243419 \n\" clip-path=\"url(#p598ec999fb)\" style=\"fill: none; stroke-dasharray: 9.6,2.4,1.5,2.4; stroke-dashoffset: 0; stroke: #008000; stroke-width: 1.5\"/>\n   </g>\n   <g id=\"patch_3\">\n    <path d=\"M 30.103125 279 \nL 30.103125 7.2 \n\" style=\"fill: none; stroke: #000000; stroke-width: 0.8; stroke-linejoin: miter; stroke-linecap: square\"/>\n   </g>\n   <g id=\"patch_4\">\n    <path d=\"M 588.103125 279 \nL 588.103125 7.2 \n\" style=\"fill: none; stroke: #000000; stroke-width: 0.8; stroke-linejoin: miter; stroke-linecap: square\"/>\n   </g>\n   <g id=\"patch_5\">\n    <path d=\"M 30.103125 279 \nL 588.103125 279 \n\" style=\"fill: none; stroke: #000000; stroke-width: 0.8; stroke-linejoin: miter; stroke-linecap: square\"/>\n   </g>\n   <g id=\"patch_6\">\n    <path d=\"M 30.103125 7.2 \nL 588.103125 7.2 \n\" style=\"fill: none; stroke: #000000; stroke-width: 0.8; stroke-linejoin: miter; stroke-linecap: square\"/>\n   </g>\n   <g id=\"legend_1\">\n    <g id=\"patch_7\">\n     <path d=\"M 479.565625 166.617188 \nL 581.103125 166.617188 \nQ 583.103125 166.617188 583.103125 164.617188 \nL 583.103125 121.582812 \nQ 583.103125 119.582812 581.103125 119.582812 \nL 479.565625 119.582812 \nQ 477.565625 119.582812 477.565625 121.582812 \nL 477.565625 164.617188 \nQ 477.565625 166.617188 479.565625 166.617188 \nz\n\" style=\"fill: #ffffff; opacity: 0.8; stroke: #cccccc; stroke-linejoin: miter\"/>\n    </g>\n    <g id=\"line2d_28\">\n     <path d=\"M 481.565625 127.68125 \nL 491.565625 127.68125 \nL 501.565625 127.68125 \n\" style=\"fill: none; stroke: #1f77b4; stroke-width: 1.5; stroke-linecap: square\"/>\n    </g>\n    <g id=\"text_14\">\n     <!-- train loss -->\n     <g transform=\"translate(509.565625 131.18125)scale(0.1 -0.1)\">\n      <defs>\n       <path id=\"DejaVuSans-74\" d=\"M 1172 4494 \nL 1172 3500 \nL 2356 3500 \nL 2356 3053 \nL 1172 3053 \nL 1172 1153 \nQ 1172 725 1289 603 \nQ 1406 481 1766 481 \nL 2356 481 \nL 2356 0 \nL 1766 0 \nQ 1100 0 847 248 \nQ 594 497 594 1153 \nL 594 3053 \nL 172 3053 \nL 172 3500 \nL 594 3500 \nL 594 4494 \nL 1172 4494 \nz\n\" transform=\"scale(0.015625)\"/>\n       <path id=\"DejaVuSans-72\" d=\"M 2631 2963 \nQ 2534 3019 2420 3045 \nQ 2306 3072 2169 3072 \nQ 1681 3072 1420 2755 \nQ 1159 2438 1159 1844 \nL 1159 0 \nL 581 0 \nL 581 3500 \nL 1159 3500 \nL 1159 2956 \nQ 1341 3275 1631 3429 \nQ 1922 3584 2338 3584 \nQ 2397 3584 2469 3576 \nQ 2541 3569 2628 3553 \nL 2631 2963 \nz\n\" transform=\"scale(0.015625)\"/>\n       <path id=\"DejaVuSans-61\" d=\"M 2194 1759 \nQ 1497 1759 1228 1600 \nQ 959 1441 959 1056 \nQ 959 750 1161 570 \nQ 1363 391 1709 391 \nQ 2188 391 2477 730 \nQ 2766 1069 2766 1631 \nL 2766 1759 \nL 2194 1759 \nz\nM 3341 1997 \nL 3341 0 \nL 2766 0 \nL 2766 531 \nQ 2569 213 2275 61 \nQ 1981 -91 1556 -91 \nQ 1019 -91 701 211 \nQ 384 513 384 1019 \nQ 384 1609 779 1909 \nQ 1175 2209 1959 2209 \nL 2766 2209 \nL 2766 2266 \nQ 2766 2663 2505 2880 \nQ 2244 3097 1772 3097 \nQ 1472 3097 1187 3025 \nQ 903 2953 641 2809 \nL 641 3341 \nQ 956 3463 1253 3523 \nQ 1550 3584 1831 3584 \nQ 2591 3584 2966 3190 \nQ 3341 2797 3341 1997 \nz\n\" transform=\"scale(0.015625)\"/>\n       <path id=\"DejaVuSans-69\" d=\"M 603 3500 \nL 1178 3500 \nL 1178 0 \nL 603 0 \nL 603 3500 \nz\nM 603 4863 \nL 1178 4863 \nL 1178 4134 \nL 603 4134 \nL 603 4863 \nz\n\" transform=\"scale(0.015625)\"/>\n       <path id=\"DejaVuSans-6e\" d=\"M 3513 2113 \nL 3513 0 \nL 2938 0 \nL 2938 2094 \nQ 2938 2591 2744 2837 \nQ 2550 3084 2163 3084 \nQ 1697 3084 1428 2787 \nQ 1159 2491 1159 1978 \nL 1159 0 \nL 581 0 \nL 581 3500 \nL 1159 3500 \nL 1159 2956 \nQ 1366 3272 1645 3428 \nQ 1925 3584 2291 3584 \nQ 2894 3584 3203 3211 \nQ 3513 2838 3513 2113 \nz\n\" transform=\"scale(0.015625)\"/>\n       <path id=\"DejaVuSans-20\" transform=\"scale(0.015625)\"/>\n       <path id=\"DejaVuSans-6c\" d=\"M 603 4863 \nL 1178 4863 \nL 1178 0 \nL 603 0 \nL 603 4863 \nz\n\" transform=\"scale(0.015625)\"/>\n       <path id=\"DejaVuSans-73\" d=\"M 2834 3397 \nL 2834 2853 \nQ 2591 2978 2328 3040 \nQ 2066 3103 1784 3103 \nQ 1356 3103 1142 2972 \nQ 928 2841 928 2578 \nQ 928 2378 1081 2264 \nQ 1234 2150 1697 2047 \nL 1894 2003 \nQ 2506 1872 2764 1633 \nQ 3022 1394 3022 966 \nQ 3022 478 2636 193 \nQ 2250 -91 1575 -91 \nQ 1294 -91 989 -36 \nQ 684 19 347 128 \nL 347 722 \nQ 666 556 975 473 \nQ 1284 391 1588 391 \nQ 1994 391 2212 530 \nQ 2431 669 2431 922 \nQ 2431 1156 2273 1281 \nQ 2116 1406 1581 1522 \nL 1381 1569 \nQ 847 1681 609 1914 \nQ 372 2147 372 2553 \nQ 372 3047 722 3315 \nQ 1072 3584 1716 3584 \nQ 2034 3584 2315 3537 \nQ 2597 3491 2834 3397 \nz\n\" transform=\"scale(0.015625)\"/>\n      </defs>\n      <use xlink:href=\"#DejaVuSans-74\"/>\n      <use xlink:href=\"#DejaVuSans-72\" x=\"39.208984\"/>\n      <use xlink:href=\"#DejaVuSans-61\" x=\"80.322266\"/>\n      <use xlink:href=\"#DejaVuSans-69\" x=\"141.601562\"/>\n      <use xlink:href=\"#DejaVuSans-6e\" x=\"169.384766\"/>\n      <use xlink:href=\"#DejaVuSans-20\" x=\"232.763672\"/>\n      <use xlink:href=\"#DejaVuSans-6c\" x=\"264.550781\"/>\n      <use xlink:href=\"#DejaVuSans-6f\" x=\"292.333984\"/>\n      <use xlink:href=\"#DejaVuSans-73\" x=\"353.515625\"/>\n      <use xlink:href=\"#DejaVuSans-73\" x=\"405.615234\"/>\n     </g>\n    </g>\n    <g id=\"line2d_29\">\n     <path d=\"M 481.565625 142.359375 \nL 491.565625 142.359375 \nL 501.565625 142.359375 \n\" style=\"fill: none; stroke-dasharray: 5.55,2.4; stroke-dashoffset: 0; stroke: #bf00bf; stroke-width: 1.5\"/>\n    </g>\n    <g id=\"text_15\">\n     <!-- train acc -->\n     <g transform=\"translate(509.565625 145.859375)scale(0.1 -0.1)\">\n      <use xlink:href=\"#DejaVuSans-74\"/>\n      <use xlink:href=\"#DejaVuSans-72\" x=\"39.208984\"/>\n      <use xlink:href=\"#DejaVuSans-61\" x=\"80.322266\"/>\n      <use xlink:href=\"#DejaVuSans-69\" x=\"141.601562\"/>\n      <use xlink:href=\"#DejaVuSans-6e\" x=\"169.384766\"/>\n      <use xlink:href=\"#DejaVuSans-20\" x=\"232.763672\"/>\n      <use xlink:href=\"#DejaVuSans-61\" x=\"264.550781\"/>\n      <use xlink:href=\"#DejaVuSans-63\" x=\"325.830078\"/>\n      <use xlink:href=\"#DejaVuSans-63\" x=\"380.810547\"/>\n     </g>\n    </g>\n    <g id=\"line2d_30\">\n     <path d=\"M 481.565625 157.0375 \nL 491.565625 157.0375 \nL 501.565625 157.0375 \n\" style=\"fill: none; stroke-dasharray: 9.6,2.4,1.5,2.4; stroke-dashoffset: 0; stroke: #008000; stroke-width: 1.5\"/>\n    </g>\n    <g id=\"text_16\">\n     <!-- validation acc -->\n     <g transform=\"translate(509.565625 160.5375)scale(0.1 -0.1)\">\n      <defs>\n       <path id=\"DejaVuSans-76\" d=\"M 191 3500 \nL 800 3500 \nL 1894 563 \nL 2988 3500 \nL 3597 3500 \nL 2284 0 \nL 1503 0 \nL 191 3500 \nz\n\" transform=\"scale(0.015625)\"/>\n       <path id=\"DejaVuSans-64\" d=\"M 2906 2969 \nL 2906 4863 \nL 3481 4863 \nL 3481 0 \nL 2906 0 \nL 2906 525 \nQ 2725 213 2448 61 \nQ 2172 -91 1784 -91 \nQ 1150 -91 751 415 \nQ 353 922 353 1747 \nQ 353 2572 751 3078 \nQ 1150 3584 1784 3584 \nQ 2172 3584 2448 3432 \nQ 2725 3281 2906 2969 \nz\nM 947 1747 \nQ 947 1113 1208 752 \nQ 1469 391 1925 391 \nQ 2381 391 2643 752 \nQ 2906 1113 2906 1747 \nQ 2906 2381 2643 2742 \nQ 2381 3103 1925 3103 \nQ 1469 3103 1208 2742 \nQ 947 2381 947 1747 \nz\n\" transform=\"scale(0.015625)\"/>\n      </defs>\n      <use xlink:href=\"#DejaVuSans-76\"/>\n      <use xlink:href=\"#DejaVuSans-61\" x=\"59.179688\"/>\n      <use xlink:href=\"#DejaVuSans-6c\" x=\"120.458984\"/>\n      <use xlink:href=\"#DejaVuSans-69\" x=\"148.242188\"/>\n      <use xlink:href=\"#DejaVuSans-64\" x=\"176.025391\"/>\n      <use xlink:href=\"#DejaVuSans-61\" x=\"239.501953\"/>\n      <use xlink:href=\"#DejaVuSans-74\" x=\"300.78125\"/>\n      <use xlink:href=\"#DejaVuSans-69\" x=\"339.990234\"/>\n      <use xlink:href=\"#DejaVuSans-6f\" x=\"367.773438\"/>\n      <use xlink:href=\"#DejaVuSans-6e\" x=\"428.955078\"/>\n      <use xlink:href=\"#DejaVuSans-20\" x=\"492.333984\"/>\n      <use xlink:href=\"#DejaVuSans-61\" x=\"524.121094\"/>\n      <use xlink:href=\"#DejaVuSans-63\" x=\"585.400391\"/>\n      <use xlink:href=\"#DejaVuSans-63\" x=\"640.380859\"/>\n     </g>\n    </g>\n   </g>\n  </g>\n </g>\n <defs>\n  <clipPath id=\"p598ec999fb\">\n   <rect x=\"30.103125\" y=\"7.2\" width=\"558\" height=\"271.8\"/>\n  </clipPath>\n </defs>\n</svg>\n"
          },
          "metadata": {
            "needs_background": "light"
          }
        }
      ]
    },
    {
      "cell_type": "markdown",
      "metadata": {
        "id": "BfEt2gImcedd"
      },
      "source": [
        "**(f) Does the training converge? How well does your network perform?**"
      ]
    },
    {
      "cell_type": "markdown",
      "metadata": {
        "id": "yGFiePYkcedd"
      },
      "source": [
        "Yes, for the `conv-4` network and the `cifar-10` dataset, the training converges at around 25 epochs. The accuracy is high (around 90 percent).\n",
        "\n",
        "for the `lenet` network and the `mnist` dataset, the training converges at around 10 epochs and the accuracy is very high (around 99 percent).\n",
        "\n"
      ]
    },
    {
      "cell_type": "markdown",
      "metadata": {
        "id": "Roynq1s2cedd"
      },
      "source": [
        "**(g) Re-train the same network, with the same initial weights. Are the results the same?**"
      ]
    },
    {
      "cell_type": "code",
      "source": [
        "network.apply(init_weights)\n",
        "train(network, 'lenet', params, 'mnist')"
      ],
      "metadata": {
        "colab": {
          "base_uri": "https://localhost:8080/",
          "height": 499
        },
        "id": "4M84Vxr1NH1t",
        "outputId": "b6e54c1e-aeda-4aac-9ee7-5ed5853b054f"
      },
      "execution_count": null,
      "outputs": [
        {
          "output_type": "stream",
          "name": "stdout",
          "text": [
            "loss 0.007, train acc 0.999, test acc 0.986\n",
            "29931020.8 examples/sec on cuda:0\n"
          ]
        },
        {
          "output_type": "display_data",
          "data": {
            "text/plain": [
              "<Figure size 720x360 with 1 Axes>"
            ],
            "image/svg+xml": "<?xml version=\"1.0\" encoding=\"utf-8\" standalone=\"no\"?>\n<!DOCTYPE svg PUBLIC \"-//W3C//DTD SVG 1.1//EN\"\n  \"http://www.w3.org/Graphics/SVG/1.1/DTD/svg11.dtd\">\n<svg xmlns:xlink=\"http://www.w3.org/1999/xlink\" width=\"595.303125pt\" height=\"316.55625pt\" viewBox=\"0 0 595.303125 316.55625\" xmlns=\"http://www.w3.org/2000/svg\" version=\"1.1\">\n <metadata>\n  <rdf:RDF xmlns:dc=\"http://purl.org/dc/elements/1.1/\" xmlns:cc=\"http://creativecommons.org/ns#\" xmlns:rdf=\"http://www.w3.org/1999/02/22-rdf-syntax-ns#\">\n   <cc:Work>\n    <dc:type rdf:resource=\"http://purl.org/dc/dcmitype/StillImage\"/>\n    <dc:date>2022-11-16T07:47:21.232136</dc:date>\n    <dc:format>image/svg+xml</dc:format>\n    <dc:creator>\n     <cc:Agent>\n      <dc:title>Matplotlib v3.5.1, https://matplotlib.org/</dc:title>\n     </cc:Agent>\n    </dc:creator>\n   </cc:Work>\n  </rdf:RDF>\n </metadata>\n <defs>\n  <style type=\"text/css\">*{stroke-linejoin: round; stroke-linecap: butt}</style>\n </defs>\n <g id=\"figure_1\">\n  <g id=\"patch_1\">\n   <path d=\"M -0 316.55625 \nL 595.303125 316.55625 \nL 595.303125 0 \nL -0 0 \nL -0 316.55625 \nz\n\" style=\"fill: none\"/>\n  </g>\n  <g id=\"axes_1\">\n   <g id=\"patch_2\">\n    <path d=\"M 30.103125 279 \nL 588.103125 279 \nL 588.103125 7.2 \nL 30.103125 7.2 \nz\n\" style=\"fill: #ffffff\"/>\n   </g>\n   <g id=\"matplotlib.axis_1\">\n    <g id=\"xtick_1\">\n     <g id=\"line2d_1\">\n      <path d=\"M 53.585117 279 \nL 53.585117 7.2 \n\" clip-path=\"url(#p2e15e26969)\" style=\"fill: none; stroke: #b0b0b0; stroke-width: 0.8; stroke-linecap: square\"/>\n     </g>\n     <g id=\"line2d_2\">\n      <defs>\n       <path id=\"m6ba924359e\" d=\"M 0 0 \nL 0 3.5 \n\" style=\"stroke: #000000; stroke-width: 0.8\"/>\n      </defs>\n      <g>\n       <use xlink:href=\"#m6ba924359e\" x=\"53.585117\" y=\"279\" style=\"stroke: #000000; stroke-width: 0.8\"/>\n      </g>\n     </g>\n     <g id=\"text_1\">\n      <!-- 0 -->\n      <g transform=\"translate(50.403867 293.598437)scale(0.1 -0.1)\">\n       <defs>\n        <path id=\"DejaVuSans-30\" d=\"M 2034 4250 \nQ 1547 4250 1301 3770 \nQ 1056 3291 1056 2328 \nQ 1056 1369 1301 889 \nQ 1547 409 2034 409 \nQ 2525 409 2770 889 \nQ 3016 1369 3016 2328 \nQ 3016 3291 2770 3770 \nQ 2525 4250 2034 4250 \nz\nM 2034 4750 \nQ 2819 4750 3233 4129 \nQ 3647 3509 3647 2328 \nQ 3647 1150 3233 529 \nQ 2819 -91 2034 -91 \nQ 1250 -91 836 529 \nQ 422 1150 422 2328 \nQ 422 3509 836 4129 \nQ 1250 4750 2034 4750 \nz\n\" transform=\"scale(0.015625)\"/>\n       </defs>\n       <use xlink:href=\"#DejaVuSans-30\"/>\n      </g>\n     </g>\n    </g>\n    <g id=\"xtick_2\">\n     <g id=\"line2d_3\">\n      <path d=\"M 147.872964 279 \nL 147.872964 7.2 \n\" clip-path=\"url(#p2e15e26969)\" style=\"fill: none; stroke: #b0b0b0; stroke-width: 0.8; stroke-linecap: square\"/>\n     </g>\n     <g id=\"line2d_4\">\n      <g>\n       <use xlink:href=\"#m6ba924359e\" x=\"147.872964\" y=\"279\" style=\"stroke: #000000; stroke-width: 0.8\"/>\n      </g>\n     </g>\n     <g id=\"text_2\">\n      <!-- 10 -->\n      <g transform=\"translate(141.510464 293.598437)scale(0.1 -0.1)\">\n       <defs>\n        <path id=\"DejaVuSans-31\" d=\"M 794 531 \nL 1825 531 \nL 1825 4091 \nL 703 3866 \nL 703 4441 \nL 1819 4666 \nL 2450 4666 \nL 2450 531 \nL 3481 531 \nL 3481 0 \nL 794 0 \nL 794 531 \nz\n\" transform=\"scale(0.015625)\"/>\n       </defs>\n       <use xlink:href=\"#DejaVuSans-31\"/>\n       <use xlink:href=\"#DejaVuSans-30\" x=\"63.623047\"/>\n      </g>\n     </g>\n    </g>\n    <g id=\"xtick_3\">\n     <g id=\"line2d_5\">\n      <path d=\"M 242.16081 279 \nL 242.16081 7.2 \n\" clip-path=\"url(#p2e15e26969)\" style=\"fill: none; stroke: #b0b0b0; stroke-width: 0.8; stroke-linecap: square\"/>\n     </g>\n     <g id=\"line2d_6\">\n      <g>\n       <use xlink:href=\"#m6ba924359e\" x=\"242.16081\" y=\"279\" style=\"stroke: #000000; stroke-width: 0.8\"/>\n      </g>\n     </g>\n     <g id=\"text_3\">\n      <!-- 20 -->\n      <g transform=\"translate(235.79831 293.598437)scale(0.1 -0.1)\">\n       <defs>\n        <path id=\"DejaVuSans-32\" d=\"M 1228 531 \nL 3431 531 \nL 3431 0 \nL 469 0 \nL 469 531 \nQ 828 903 1448 1529 \nQ 2069 2156 2228 2338 \nQ 2531 2678 2651 2914 \nQ 2772 3150 2772 3378 \nQ 2772 3750 2511 3984 \nQ 2250 4219 1831 4219 \nQ 1534 4219 1204 4116 \nQ 875 4013 500 3803 \nL 500 4441 \nQ 881 4594 1212 4672 \nQ 1544 4750 1819 4750 \nQ 2544 4750 2975 4387 \nQ 3406 4025 3406 3419 \nQ 3406 3131 3298 2873 \nQ 3191 2616 2906 2266 \nQ 2828 2175 2409 1742 \nQ 1991 1309 1228 531 \nz\n\" transform=\"scale(0.015625)\"/>\n       </defs>\n       <use xlink:href=\"#DejaVuSans-32\"/>\n       <use xlink:href=\"#DejaVuSans-30\" x=\"63.623047\"/>\n      </g>\n     </g>\n    </g>\n    <g id=\"xtick_4\">\n     <g id=\"line2d_7\">\n      <path d=\"M 336.448657 279 \nL 336.448657 7.2 \n\" clip-path=\"url(#p2e15e26969)\" style=\"fill: none; stroke: #b0b0b0; stroke-width: 0.8; stroke-linecap: square\"/>\n     </g>\n     <g id=\"line2d_8\">\n      <g>\n       <use xlink:href=\"#m6ba924359e\" x=\"336.448657\" y=\"279\" style=\"stroke: #000000; stroke-width: 0.8\"/>\n      </g>\n     </g>\n     <g id=\"text_4\">\n      <!-- 30 -->\n      <g transform=\"translate(330.086157 293.598437)scale(0.1 -0.1)\">\n       <defs>\n        <path id=\"DejaVuSans-33\" d=\"M 2597 2516 \nQ 3050 2419 3304 2112 \nQ 3559 1806 3559 1356 \nQ 3559 666 3084 287 \nQ 2609 -91 1734 -91 \nQ 1441 -91 1130 -33 \nQ 819 25 488 141 \nL 488 750 \nQ 750 597 1062 519 \nQ 1375 441 1716 441 \nQ 2309 441 2620 675 \nQ 2931 909 2931 1356 \nQ 2931 1769 2642 2001 \nQ 2353 2234 1838 2234 \nL 1294 2234 \nL 1294 2753 \nL 1863 2753 \nQ 2328 2753 2575 2939 \nQ 2822 3125 2822 3475 \nQ 2822 3834 2567 4026 \nQ 2313 4219 1838 4219 \nQ 1578 4219 1281 4162 \nQ 984 4106 628 3988 \nL 628 4550 \nQ 988 4650 1302 4700 \nQ 1616 4750 1894 4750 \nQ 2613 4750 3031 4423 \nQ 3450 4097 3450 3541 \nQ 3450 3153 3228 2886 \nQ 3006 2619 2597 2516 \nz\n\" transform=\"scale(0.015625)\"/>\n       </defs>\n       <use xlink:href=\"#DejaVuSans-33\"/>\n       <use xlink:href=\"#DejaVuSans-30\" x=\"63.623047\"/>\n      </g>\n     </g>\n    </g>\n    <g id=\"xtick_5\">\n     <g id=\"line2d_9\">\n      <path d=\"M 430.736503 279 \nL 430.736503 7.2 \n\" clip-path=\"url(#p2e15e26969)\" style=\"fill: none; stroke: #b0b0b0; stroke-width: 0.8; stroke-linecap: square\"/>\n     </g>\n     <g id=\"line2d_10\">\n      <g>\n       <use xlink:href=\"#m6ba924359e\" x=\"430.736503\" y=\"279\" style=\"stroke: #000000; stroke-width: 0.8\"/>\n      </g>\n     </g>\n     <g id=\"text_5\">\n      <!-- 40 -->\n      <g transform=\"translate(424.374003 293.598437)scale(0.1 -0.1)\">\n       <defs>\n        <path id=\"DejaVuSans-34\" d=\"M 2419 4116 \nL 825 1625 \nL 2419 1625 \nL 2419 4116 \nz\nM 2253 4666 \nL 3047 4666 \nL 3047 1625 \nL 3713 1625 \nL 3713 1100 \nL 3047 1100 \nL 3047 0 \nL 2419 0 \nL 2419 1100 \nL 313 1100 \nL 313 1709 \nL 2253 4666 \nz\n\" transform=\"scale(0.015625)\"/>\n       </defs>\n       <use xlink:href=\"#DejaVuSans-34\"/>\n       <use xlink:href=\"#DejaVuSans-30\" x=\"63.623047\"/>\n      </g>\n     </g>\n    </g>\n    <g id=\"xtick_6\">\n     <g id=\"line2d_11\">\n      <path d=\"M 525.02435 279 \nL 525.02435 7.2 \n\" clip-path=\"url(#p2e15e26969)\" style=\"fill: none; stroke: #b0b0b0; stroke-width: 0.8; stroke-linecap: square\"/>\n     </g>\n     <g id=\"line2d_12\">\n      <g>\n       <use xlink:href=\"#m6ba924359e\" x=\"525.02435\" y=\"279\" style=\"stroke: #000000; stroke-width: 0.8\"/>\n      </g>\n     </g>\n     <g id=\"text_6\">\n      <!-- 50 -->\n      <g transform=\"translate(518.66185 293.598437)scale(0.1 -0.1)\">\n       <defs>\n        <path id=\"DejaVuSans-35\" d=\"M 691 4666 \nL 3169 4666 \nL 3169 4134 \nL 1269 4134 \nL 1269 2991 \nQ 1406 3038 1543 3061 \nQ 1681 3084 1819 3084 \nQ 2600 3084 3056 2656 \nQ 3513 2228 3513 1497 \nQ 3513 744 3044 326 \nQ 2575 -91 1722 -91 \nQ 1428 -91 1123 -41 \nQ 819 9 494 109 \nL 494 744 \nQ 775 591 1075 516 \nQ 1375 441 1709 441 \nQ 2250 441 2565 725 \nQ 2881 1009 2881 1497 \nQ 2881 1984 2565 2268 \nQ 2250 2553 1709 2553 \nQ 1456 2553 1204 2497 \nQ 953 2441 691 2322 \nL 691 4666 \nz\n\" transform=\"scale(0.015625)\"/>\n       </defs>\n       <use xlink:href=\"#DejaVuSans-35\"/>\n       <use xlink:href=\"#DejaVuSans-30\" x=\"63.623047\"/>\n      </g>\n     </g>\n    </g>\n    <g id=\"text_7\">\n     <!-- epoch -->\n     <g transform=\"translate(293.875 307.276562)scale(0.1 -0.1)\">\n      <defs>\n       <path id=\"DejaVuSans-65\" d=\"M 3597 1894 \nL 3597 1613 \nL 953 1613 \nQ 991 1019 1311 708 \nQ 1631 397 2203 397 \nQ 2534 397 2845 478 \nQ 3156 559 3463 722 \nL 3463 178 \nQ 3153 47 2828 -22 \nQ 2503 -91 2169 -91 \nQ 1331 -91 842 396 \nQ 353 884 353 1716 \nQ 353 2575 817 3079 \nQ 1281 3584 2069 3584 \nQ 2775 3584 3186 3129 \nQ 3597 2675 3597 1894 \nz\nM 3022 2063 \nQ 3016 2534 2758 2815 \nQ 2500 3097 2075 3097 \nQ 1594 3097 1305 2825 \nQ 1016 2553 972 2059 \nL 3022 2063 \nz\n\" transform=\"scale(0.015625)\"/>\n       <path id=\"DejaVuSans-70\" d=\"M 1159 525 \nL 1159 -1331 \nL 581 -1331 \nL 581 3500 \nL 1159 3500 \nL 1159 2969 \nQ 1341 3281 1617 3432 \nQ 1894 3584 2278 3584 \nQ 2916 3584 3314 3078 \nQ 3713 2572 3713 1747 \nQ 3713 922 3314 415 \nQ 2916 -91 2278 -91 \nQ 1894 -91 1617 61 \nQ 1341 213 1159 525 \nz\nM 3116 1747 \nQ 3116 2381 2855 2742 \nQ 2594 3103 2138 3103 \nQ 1681 3103 1420 2742 \nQ 1159 2381 1159 1747 \nQ 1159 1113 1420 752 \nQ 1681 391 2138 391 \nQ 2594 391 2855 752 \nQ 3116 1113 3116 1747 \nz\n\" transform=\"scale(0.015625)\"/>\n       <path id=\"DejaVuSans-6f\" d=\"M 1959 3097 \nQ 1497 3097 1228 2736 \nQ 959 2375 959 1747 \nQ 959 1119 1226 758 \nQ 1494 397 1959 397 \nQ 2419 397 2687 759 \nQ 2956 1122 2956 1747 \nQ 2956 2369 2687 2733 \nQ 2419 3097 1959 3097 \nz\nM 1959 3584 \nQ 2709 3584 3137 3096 \nQ 3566 2609 3566 1747 \nQ 3566 888 3137 398 \nQ 2709 -91 1959 -91 \nQ 1206 -91 779 398 \nQ 353 888 353 1747 \nQ 353 2609 779 3096 \nQ 1206 3584 1959 3584 \nz\n\" transform=\"scale(0.015625)\"/>\n       <path id=\"DejaVuSans-63\" d=\"M 3122 3366 \nL 3122 2828 \nQ 2878 2963 2633 3030 \nQ 2388 3097 2138 3097 \nQ 1578 3097 1268 2742 \nQ 959 2388 959 1747 \nQ 959 1106 1268 751 \nQ 1578 397 2138 397 \nQ 2388 397 2633 464 \nQ 2878 531 3122 666 \nL 3122 134 \nQ 2881 22 2623 -34 \nQ 2366 -91 2075 -91 \nQ 1284 -91 818 406 \nQ 353 903 353 1747 \nQ 353 2603 823 3093 \nQ 1294 3584 2113 3584 \nQ 2378 3584 2631 3529 \nQ 2884 3475 3122 3366 \nz\n\" transform=\"scale(0.015625)\"/>\n       <path id=\"DejaVuSans-68\" d=\"M 3513 2113 \nL 3513 0 \nL 2938 0 \nL 2938 2094 \nQ 2938 2591 2744 2837 \nQ 2550 3084 2163 3084 \nQ 1697 3084 1428 2787 \nQ 1159 2491 1159 1978 \nL 1159 0 \nL 581 0 \nL 581 4863 \nL 1159 4863 \nL 1159 2956 \nQ 1366 3272 1645 3428 \nQ 1925 3584 2291 3584 \nQ 2894 3584 3203 3211 \nQ 3513 2838 3513 2113 \nz\n\" transform=\"scale(0.015625)\"/>\n      </defs>\n      <use xlink:href=\"#DejaVuSans-65\"/>\n      <use xlink:href=\"#DejaVuSans-70\" x=\"61.523438\"/>\n      <use xlink:href=\"#DejaVuSans-6f\" x=\"125\"/>\n      <use xlink:href=\"#DejaVuSans-63\" x=\"186.181641\"/>\n      <use xlink:href=\"#DejaVuSans-68\" x=\"241.162109\"/>\n     </g>\n    </g>\n   </g>\n   <g id=\"matplotlib.axis_2\">\n    <g id=\"ytick_1\">\n     <g id=\"line2d_13\">\n      <path d=\"M 30.103125 266.864061 \nL 588.103125 266.864061 \n\" clip-path=\"url(#p2e15e26969)\" style=\"fill: none; stroke: #b0b0b0; stroke-width: 0.8; stroke-linecap: square\"/>\n     </g>\n     <g id=\"line2d_14\">\n      <defs>\n       <path id=\"m72a79488e8\" d=\"M 0 0 \nL -3.5 0 \n\" style=\"stroke: #000000; stroke-width: 0.8\"/>\n      </defs>\n      <g>\n       <use xlink:href=\"#m72a79488e8\" x=\"30.103125\" y=\"266.864061\" style=\"stroke: #000000; stroke-width: 0.8\"/>\n      </g>\n     </g>\n     <g id=\"text_8\">\n      <!-- 0.0 -->\n      <g transform=\"translate(7.2 270.66328)scale(0.1 -0.1)\">\n       <defs>\n        <path id=\"DejaVuSans-2e\" d=\"M 684 794 \nL 1344 794 \nL 1344 0 \nL 684 0 \nL 684 794 \nz\n\" transform=\"scale(0.015625)\"/>\n       </defs>\n       <use xlink:href=\"#DejaVuSans-30\"/>\n       <use xlink:href=\"#DejaVuSans-2e\" x=\"63.623047\"/>\n       <use xlink:href=\"#DejaVuSans-30\" x=\"95.410156\"/>\n      </g>\n     </g>\n    </g>\n    <g id=\"ytick_2\">\n     <g id=\"line2d_15\">\n      <path d=\"M 30.103125 217.38864 \nL 588.103125 217.38864 \n\" clip-path=\"url(#p2e15e26969)\" style=\"fill: none; stroke: #b0b0b0; stroke-width: 0.8; stroke-linecap: square\"/>\n     </g>\n     <g id=\"line2d_16\">\n      <g>\n       <use xlink:href=\"#m72a79488e8\" x=\"30.103125\" y=\"217.38864\" style=\"stroke: #000000; stroke-width: 0.8\"/>\n      </g>\n     </g>\n     <g id=\"text_9\">\n      <!-- 0.2 -->\n      <g transform=\"translate(7.2 221.187859)scale(0.1 -0.1)\">\n       <use xlink:href=\"#DejaVuSans-30\"/>\n       <use xlink:href=\"#DejaVuSans-2e\" x=\"63.623047\"/>\n       <use xlink:href=\"#DejaVuSans-32\" x=\"95.410156\"/>\n      </g>\n     </g>\n    </g>\n    <g id=\"ytick_3\">\n     <g id=\"line2d_17\">\n      <path d=\"M 30.103125 167.913219 \nL 588.103125 167.913219 \n\" clip-path=\"url(#p2e15e26969)\" style=\"fill: none; stroke: #b0b0b0; stroke-width: 0.8; stroke-linecap: square\"/>\n     </g>\n     <g id=\"line2d_18\">\n      <g>\n       <use xlink:href=\"#m72a79488e8\" x=\"30.103125\" y=\"167.913219\" style=\"stroke: #000000; stroke-width: 0.8\"/>\n      </g>\n     </g>\n     <g id=\"text_10\">\n      <!-- 0.4 -->\n      <g transform=\"translate(7.2 171.712438)scale(0.1 -0.1)\">\n       <use xlink:href=\"#DejaVuSans-30\"/>\n       <use xlink:href=\"#DejaVuSans-2e\" x=\"63.623047\"/>\n       <use xlink:href=\"#DejaVuSans-34\" x=\"95.410156\"/>\n      </g>\n     </g>\n    </g>\n    <g id=\"ytick_4\">\n     <g id=\"line2d_19\">\n      <path d=\"M 30.103125 118.437798 \nL 588.103125 118.437798 \n\" clip-path=\"url(#p2e15e26969)\" style=\"fill: none; stroke: #b0b0b0; stroke-width: 0.8; stroke-linecap: square\"/>\n     </g>\n     <g id=\"line2d_20\">\n      <g>\n       <use xlink:href=\"#m72a79488e8\" x=\"30.103125\" y=\"118.437798\" style=\"stroke: #000000; stroke-width: 0.8\"/>\n      </g>\n     </g>\n     <g id=\"text_11\">\n      <!-- 0.6 -->\n      <g transform=\"translate(7.2 122.237017)scale(0.1 -0.1)\">\n       <defs>\n        <path id=\"DejaVuSans-36\" d=\"M 2113 2584 \nQ 1688 2584 1439 2293 \nQ 1191 2003 1191 1497 \nQ 1191 994 1439 701 \nQ 1688 409 2113 409 \nQ 2538 409 2786 701 \nQ 3034 994 3034 1497 \nQ 3034 2003 2786 2293 \nQ 2538 2584 2113 2584 \nz\nM 3366 4563 \nL 3366 3988 \nQ 3128 4100 2886 4159 \nQ 2644 4219 2406 4219 \nQ 1781 4219 1451 3797 \nQ 1122 3375 1075 2522 \nQ 1259 2794 1537 2939 \nQ 1816 3084 2150 3084 \nQ 2853 3084 3261 2657 \nQ 3669 2231 3669 1497 \nQ 3669 778 3244 343 \nQ 2819 -91 2113 -91 \nQ 1303 -91 875 529 \nQ 447 1150 447 2328 \nQ 447 3434 972 4092 \nQ 1497 4750 2381 4750 \nQ 2619 4750 2861 4703 \nQ 3103 4656 3366 4563 \nz\n\" transform=\"scale(0.015625)\"/>\n       </defs>\n       <use xlink:href=\"#DejaVuSans-30\"/>\n       <use xlink:href=\"#DejaVuSans-2e\" x=\"63.623047\"/>\n       <use xlink:href=\"#DejaVuSans-36\" x=\"95.410156\"/>\n      </g>\n     </g>\n    </g>\n    <g id=\"ytick_5\">\n     <g id=\"line2d_21\">\n      <path d=\"M 30.103125 68.962377 \nL 588.103125 68.962377 \n\" clip-path=\"url(#p2e15e26969)\" style=\"fill: none; stroke: #b0b0b0; stroke-width: 0.8; stroke-linecap: square\"/>\n     </g>\n     <g id=\"line2d_22\">\n      <g>\n       <use xlink:href=\"#m72a79488e8\" x=\"30.103125\" y=\"68.962377\" style=\"stroke: #000000; stroke-width: 0.8\"/>\n      </g>\n     </g>\n     <g id=\"text_12\">\n      <!-- 0.8 -->\n      <g transform=\"translate(7.2 72.761596)scale(0.1 -0.1)\">\n       <defs>\n        <path id=\"DejaVuSans-38\" d=\"M 2034 2216 \nQ 1584 2216 1326 1975 \nQ 1069 1734 1069 1313 \nQ 1069 891 1326 650 \nQ 1584 409 2034 409 \nQ 2484 409 2743 651 \nQ 3003 894 3003 1313 \nQ 3003 1734 2745 1975 \nQ 2488 2216 2034 2216 \nz\nM 1403 2484 \nQ 997 2584 770 2862 \nQ 544 3141 544 3541 \nQ 544 4100 942 4425 \nQ 1341 4750 2034 4750 \nQ 2731 4750 3128 4425 \nQ 3525 4100 3525 3541 \nQ 3525 3141 3298 2862 \nQ 3072 2584 2669 2484 \nQ 3125 2378 3379 2068 \nQ 3634 1759 3634 1313 \nQ 3634 634 3220 271 \nQ 2806 -91 2034 -91 \nQ 1263 -91 848 271 \nQ 434 634 434 1313 \nQ 434 1759 690 2068 \nQ 947 2378 1403 2484 \nz\nM 1172 3481 \nQ 1172 3119 1398 2916 \nQ 1625 2713 2034 2713 \nQ 2441 2713 2670 2916 \nQ 2900 3119 2900 3481 \nQ 2900 3844 2670 4047 \nQ 2441 4250 2034 4250 \nQ 1625 4250 1398 4047 \nQ 1172 3844 1172 3481 \nz\n\" transform=\"scale(0.015625)\"/>\n       </defs>\n       <use xlink:href=\"#DejaVuSans-30\"/>\n       <use xlink:href=\"#DejaVuSans-2e\" x=\"63.623047\"/>\n       <use xlink:href=\"#DejaVuSans-38\" x=\"95.410156\"/>\n      </g>\n     </g>\n    </g>\n    <g id=\"ytick_6\">\n     <g id=\"line2d_23\">\n      <path d=\"M 30.103125 19.486956 \nL 588.103125 19.486956 \n\" clip-path=\"url(#p2e15e26969)\" style=\"fill: none; stroke: #b0b0b0; stroke-width: 0.8; stroke-linecap: square\"/>\n     </g>\n     <g id=\"line2d_24\">\n      <g>\n       <use xlink:href=\"#m72a79488e8\" x=\"30.103125\" y=\"19.486956\" style=\"stroke: #000000; stroke-width: 0.8\"/>\n      </g>\n     </g>\n     <g id=\"text_13\">\n      <!-- 1.0 -->\n      <g transform=\"translate(7.2 23.286175)scale(0.1 -0.1)\">\n       <use xlink:href=\"#DejaVuSans-31\"/>\n       <use xlink:href=\"#DejaVuSans-2e\" x=\"63.623047\"/>\n       <use xlink:href=\"#DejaVuSans-30\" x=\"95.410156\"/>\n      </g>\n     </g>\n    </g>\n   </g>\n   <g id=\"line2d_25\">\n    <path d=\"M 55.466761 151.088124 \nL 57.348405 183.915799 \nL 59.230049 197.804926 \nL 61.111694 205.638904 \nL 63.013902 211.841044 \nL 64.895546 243.806418 \nL 66.77719 244.835024 \nL 68.658834 245.296131 \nL 70.540478 245.206314 \nL 72.442687 245.415741 \nL 74.324331 253.728725 \nL 76.205975 253.02141 \nL 79.969263 252.47554 \nL 81.871471 252.519698 \nL 83.753115 257.38037 \nL 87.516403 256.795418 \nL 89.398047 256.382473 \nL 91.300256 255.812982 \nL 93.1819 259.944087 \nL 96.945188 259.338927 \nL 100.729041 259.209582 \nL 102.610685 259.363254 \nL 104.492329 260.625572 \nL 106.373973 260.287764 \nL 108.255617 259.820737 \nL 110.157825 259.78306 \nL 112.039469 261.213258 \nL 113.921113 261.349181 \nL 115.802757 261.056011 \nL 117.684401 261.203411 \nL 119.58661 261.123631 \nL 121.468254 263.012023 \nL 123.349898 262.814706 \nL 125.231542 262.410168 \nL 129.015395 261.982516 \nL 130.897039 263.86773 \nL 134.660327 263.705148 \nL 136.541971 263.470411 \nL 138.444179 263.05712 \nL 140.325823 264.311003 \nL 142.207467 263.645393 \nL 144.089111 263.120358 \nL 145.970755 262.810367 \nL 147.872964 262.351671 \nL 149.754608 263.073174 \nL 151.636252 262.937295 \nL 153.517896 262.662306 \nL 155.39954 262.838809 \nL 157.301749 262.698908 \nL 159.183393 264.428716 \nL 161.065037 264.746524 \nL 162.946681 263.98947 \nL 166.730533 263.987551 \nL 168.612177 264.672606 \nL 170.493821 264.605122 \nL 172.375465 264.156352 \nL 174.257109 264.113916 \nL 176.159318 263.454283 \nL 178.040962 263.669527 \nL 181.80425 263.534371 \nL 183.685894 263.733832 \nL 185.588102 263.457966 \nL 187.469747 263.607734 \nL 189.351391 264.166186 \nL 193.114679 264.737348 \nL 195.016887 264.436106 \nL 196.898531 265.763899 \nL 198.780175 265.241235 \nL 200.661819 265.242005 \nL 202.543463 264.977045 \nL 204.445672 264.570746 \nL 206.327316 264.922015 \nL 208.20896 264.651 \nL 210.090604 264.183071 \nL 211.972248 264.366387 \nL 213.874456 264.39049 \nL 215.7561 264.078779 \nL 217.637745 264.019791 \nL 219.519389 263.668812 \nL 221.401033 264.009522 \nL 223.303241 263.884058 \nL 225.184885 265.606301 \nL 227.066529 264.933666 \nL 228.948173 264.604762 \nL 234.61367 264.603309 \nL 236.495314 264.62042 \nL 238.376958 264.925476 \nL 242.16081 265.001822 \nL 244.042454 262.817606 \nL 245.924098 262.942847 \nL 247.805743 263.756673 \nL 249.687387 264.053761 \nL 251.589595 264.216585 \nL 253.471239 264.908811 \nL 255.352883 265.430771 \nL 257.234527 265.173009 \nL 259.116171 265.036207 \nL 262.900024 264.350916 \nL 264.781668 264.836091 \nL 266.663312 265.007725 \nL 268.544956 265.340879 \nL 270.447164 265.21503 \nL 272.328808 265.755459 \nL 276.092097 264.822773 \nL 279.875949 264.561315 \nL 281.757593 265.036031 \nL 283.639237 265.14461 \nL 285.520881 265.394504 \nL 287.402525 265.107317 \nL 289.304734 265.080255 \nL 291.186378 265.585003 \nL 293.068022 265.198929 \nL 294.949666 265.027713 \nL 296.83131 265.212236 \nL 298.733518 265.264561 \nL 302.496806 265.781471 \nL 304.37845 265.836179 \nL 306.260095 265.394859 \nL 308.162303 265.086318 \nL 310.043947 265.820778 \nL 311.925591 265.994525 \nL 313.807235 265.114797 \nL 315.688879 265.10158 \nL 317.591088 264.9115 \nL 319.472732 265.031307 \nL 321.354376 265.379622 \nL 323.23602 265.498591 \nL 327.019872 265.145259 \nL 328.901516 265.53865 \nL 336.448657 264.853316 \nL 338.330301 265.221618 \nL 342.093589 265.499306 \nL 343.975233 265.162288 \nL 345.877442 265.16159 \nL 347.759086 265.710545 \nL 349.64073 265.831299 \nL 351.522374 265.819962 \nL 355.306226 265.449912 \nL 357.18787 266.394178 \nL 359.069514 266.278256 \nL 364.735011 265.239095 \nL 366.616655 265.517815 \nL 370.379943 265.619078 \nL 372.261587 265.332651 \nL 374.163796 265.345767 \nL 376.04544 266.184724 \nL 377.927084 266.114942 \nL 379.808728 266.31695 \nL 381.690372 266.102186 \nL 383.59258 265.641274 \nL 385.474224 263.665482 \nL 387.355868 263.175205 \nL 389.237512 263.560299 \nL 393.021365 264.051775 \nL 394.903009 265.745966 \nL 398.666297 265.701257 \nL 402.45015 265.988607 \nL 404.331794 266.645455 \nL 406.213438 266.200167 \nL 408.095082 266.024257 \nL 409.976726 266.060201 \nL 411.878934 265.778781 \nL 413.760578 262.836399 \nL 415.642222 262.811668 \nL 421.307719 263.787084 \nL 423.189363 265.26685 \nL 425.071007 265.762026 \nL 430.736503 266.038177 \nL 432.618148 266.360598 \nL 434.499792 266.367023 \nL 436.381436 265.717605 \nL 440.165288 265.326771 \nL 442.046932 265.876629 \nL 445.81022 265.708437 \nL 447.691864 265.753929 \nL 449.594073 265.672409 \nL 451.475717 266.280978 \nL 455.239005 266.164391 \nL 459.022857 265.788036 \nL 462.786146 265.477286 \nL 472.21493 265.274752 \nL 474.096574 265.428227 \nL 475.978218 265.273547 \nL 477.880427 265.307325 \nL 479.762071 266.553046 \nL 483.525359 265.401041 \nL 485.407003 265.446996 \nL 487.309211 265.671754 \nL 489.190855 266.302026 \nL 491.072499 265.954282 \nL 492.954144 265.133805 \nL 494.835788 264.791554 \nL 496.737996 265.051035 \nL 498.61964 266.200491 \nL 500.501284 265.319402 \nL 504.264572 265.517737 \nL 506.166781 265.309082 \nL 508.048425 266.595832 \nL 509.930069 266.306604 \nL 511.811713 266.35489 \nL 513.693357 266.024021 \nL 515.595565 265.811878 \nL 517.477209 266.367248 \nL 519.358853 266.411474 \nL 521.240498 266.02206 \nL 525.02435 265.699901 \nL 526.905994 265.243871 \nL 528.787638 265.024638 \nL 530.669282 265.165097 \nL 532.550926 265.035302 \nL 534.453135 265.136256 \nL 536.334779 265.522235 \nL 538.216423 266.093433 \nL 541.979711 266.225083 \nL 543.881919 266.01935 \nL 545.763563 265.56988 \nL 549.526851 265.909221 \nL 551.408496 265.71508 \nL 553.310704 265.668028 \nL 555.192348 265.377674 \nL 557.073992 264.907176 \nL 558.955636 264.741971 \nL 562.739489 265.060834 \nL 562.739489 265.060834 \n\" clip-path=\"url(#p2e15e26969)\" style=\"fill: none; stroke: #1f77b4; stroke-width: 1.5; stroke-linecap: square\"/>\n   </g>\n   <g id=\"line2d_26\">\n    <path d=\"M 55.466761 53.101404 \nL 57.348405 43.661422 \nL 59.230049 39.786298 \nL 61.111694 37.488259 \nL 63.013902 35.737383 \nL 64.895546 26.741549 \nL 66.77719 26.302218 \nL 68.658834 25.998066 \nL 72.442687 26.022209 \nL 74.324331 23.745087 \nL 79.969263 24.19005 \nL 81.871471 24.187121 \nL 83.753115 22.34824 \nL 85.634759 22.596067 \nL 91.300256 23.049186 \nL 93.1819 21.875114 \nL 98.826832 21.920174 \nL 102.610685 22.032822 \nL 104.492329 21.604756 \nL 110.157825 21.816799 \nL 112.039469 21.356929 \nL 117.684401 21.469578 \nL 119.58661 21.501955 \nL 121.468254 20.681035 \nL 127.113186 21.002085 \nL 129.015395 21.097156 \nL 130.897039 20.500797 \nL 136.541971 20.512062 \nL 138.444179 20.678864 \nL 140.325823 20.298029 \nL 144.089111 20.726095 \nL 145.970755 20.799316 \nL 147.872964 21.002703 \nL 149.754608 20.771154 \nL 153.517896 20.756134 \nL 157.301749 20.773317 \nL 159.183393 20.252969 \nL 161.065037 20.196644 \nL 162.946681 20.403168 \nL 166.730533 20.435985 \nL 168.612177 20.09526 \nL 170.493821 20.14032 \nL 172.375465 20.320558 \nL 174.257109 20.326191 \nL 176.159318 20.521442 \nL 178.040962 20.455737 \nL 179.922606 20.590916 \nL 183.685894 20.551489 \nL 187.469747 20.613446 \nL 189.351391 20.343088 \nL 193.114679 20.168482 \nL 195.016887 20.269567 \nL 196.898531 19.869963 \nL 204.445672 20.247078 \nL 206.327316 20.09526 \nL 210.090604 20.350598 \nL 213.874456 20.296554 \nL 223.303241 20.4045 \nL 225.184885 19.960082 \nL 227.066529 20.16285 \nL 232.732026 20.296554 \nL 234.61367 20.14032 \nL 242.16081 20.040181 \nL 244.042454 20.906333 \nL 249.687387 20.382515 \nL 251.589595 20.350527 \nL 255.352883 19.993876 \nL 259.116171 20.055833 \nL 261.01838 20.139132 \nL 262.900024 20.388148 \nL 264.781668 20.129055 \nL 270.447164 19.995204 \nL 272.328808 19.779843 \nL 276.092097 20.072731 \nL 279.875949 20.193105 \nL 281.757593 20.027671 \nL 289.304734 20.031186 \nL 291.186378 19.869963 \nL 293.068022 19.836168 \nL 294.949666 19.945062 \nL 306.260095 19.875595 \nL 308.162303 19.972715 \nL 310.043947 19.824903 \nL 311.925591 19.813638 \nL 313.807235 20.012651 \nL 319.472732 20.027671 \nL 321.354376 19.892492 \nL 330.78316 19.881227 \nL 345.877442 20.031186 \nL 347.759086 19.802373 \nL 351.522374 19.787353 \nL 355.306226 19.914244 \nL 357.18787 19.644665 \nL 362.832802 19.8418 \nL 364.735011 19.927737 \nL 368.498299 19.824903 \nL 374.163796 19.905248 \nL 376.04544 19.712254 \nL 377.927084 19.757314 \nL 379.808728 19.667194 \nL 383.59258 19.837782 \nL 385.474224 20.343088 \nL 387.355868 20.399413 \nL 393.021365 20.247078 \nL 394.903009 19.915022 \nL 398.666297 19.892492 \nL 402.45015 19.792804 \nL 404.331794 19.554545 \nL 406.213438 19.700989 \nL 411.878934 19.819791 \nL 413.760578 20.500797 \nL 419.40551 20.365618 \nL 421.307719 20.287558 \nL 423.189363 19.960082 \nL 426.952651 19.787353 \nL 430.736503 19.765818 \nL 432.618148 19.644665 \nL 434.499792 19.644665 \nL 438.26308 19.853065 \nL 440.165288 19.918742 \nL 442.046932 19.757314 \nL 449.594073 19.855773 \nL 451.475717 19.599605 \nL 464.66779 19.915022 \nL 477.880427 19.869266 \nL 479.762071 19.622135 \nL 485.407003 19.858698 \nL 487.309211 19.8018 \nL 489.190855 19.622135 \nL 491.072499 19.700989 \nL 492.954144 19.900002 \nL 494.835788 19.982611 \nL 496.737996 19.932235 \nL 498.61964 19.757314 \nL 500.501284 19.948817 \nL 506.166781 19.909746 \nL 508.048425 19.622135 \nL 525.02435 19.797302 \nL 526.905994 19.734784 \nL 528.787638 19.858698 \nL 534.453135 19.914244 \nL 538.216423 19.689724 \nL 543.881919 19.725338 \nL 545.763563 19.802373 \nL 549.526851 19.727274 \nL 560.83728 19.943184 \nL 562.739489 19.887257 \nL 562.739489 19.887257 \n\" clip-path=\"url(#p2e15e26969)\" style=\"fill: none; stroke-dasharray: 5.55,2.4; stroke-dashoffset: 0; stroke: #bf00bf; stroke-width: 1.5\"/>\n   </g>\n   <g id=\"line2d_27\">\n    <path d=\"M 63.013902 27.996728 \nL 72.442687 26.388777 \nL 81.871471 25.522957 \nL 91.300256 25.102416 \nL 100.729041 26.042449 \nL 110.157825 25.077679 \nL 119.58661 25.399269 \nL 129.015395 25.151892 \nL 138.444179 24.360285 \nL 147.872964 24.830302 \nL 157.301749 24.657138 \nL 166.730533 24.31081 \nL 176.159318 24.879777 \nL 185.588102 25.325056 \nL 195.016887 23.989219 \nL 204.445672 24.731351 \nL 213.874456 24.756088 \nL 223.303241 24.533449 \nL 232.732026 23.915006 \nL 242.16081 24.731351 \nL 251.589595 25.151892 \nL 261.01838 25.300318 \nL 270.447164 24.434498 \nL 279.875949 24.706613 \nL 289.304734 23.989219 \nL 298.733518 24.31081 \nL 308.162303 23.494465 \nL 317.591088 24.187121 \nL 327.019872 24.385023 \nL 336.448657 24.013957 \nL 345.877442 24.483974 \nL 355.306226 24.855039 \nL 364.735011 24.657138 \nL 374.163796 23.791318 \nL 383.59258 24.385023 \nL 393.021365 24.236596 \nL 402.45015 23.543941 \nL 411.878934 24.211859 \nL 421.307719 24.657138 \nL 430.736503 24.013957 \nL 440.165288 24.211859 \nL 449.594073 24.063433 \nL 459.022857 24.40976 \nL 468.451642 23.865531 \nL 477.880427 24.360285 \nL 487.309211 23.618154 \nL 496.737996 23.76658 \nL 506.166781 23.964482 \nL 515.595565 24.137646 \nL 525.02435 24.360285 \nL 534.453135 24.261334 \nL 543.881919 24.211859 \nL 553.310704 23.717105 \nL 562.739489 23.024449 \n\" clip-path=\"url(#p2e15e26969)\" style=\"fill: none; stroke-dasharray: 9.6,2.4,1.5,2.4; stroke-dashoffset: 0; stroke: #008000; stroke-width: 1.5\"/>\n   </g>\n   <g id=\"patch_3\">\n    <path d=\"M 30.103125 279 \nL 30.103125 7.2 \n\" style=\"fill: none; stroke: #000000; stroke-width: 0.8; stroke-linejoin: miter; stroke-linecap: square\"/>\n   </g>\n   <g id=\"patch_4\">\n    <path d=\"M 588.103125 279 \nL 588.103125 7.2 \n\" style=\"fill: none; stroke: #000000; stroke-width: 0.8; stroke-linejoin: miter; stroke-linecap: square\"/>\n   </g>\n   <g id=\"patch_5\">\n    <path d=\"M 30.103125 279 \nL 588.103125 279 \n\" style=\"fill: none; stroke: #000000; stroke-width: 0.8; stroke-linejoin: miter; stroke-linecap: square\"/>\n   </g>\n   <g id=\"patch_6\">\n    <path d=\"M 30.103125 7.2 \nL 588.103125 7.2 \n\" style=\"fill: none; stroke: #000000; stroke-width: 0.8; stroke-linejoin: miter; stroke-linecap: square\"/>\n   </g>\n   <g id=\"legend_1\">\n    <g id=\"patch_7\">\n     <path d=\"M 479.565625 166.617188 \nL 581.103125 166.617188 \nQ 583.103125 166.617188 583.103125 164.617188 \nL 583.103125 121.582812 \nQ 583.103125 119.582812 581.103125 119.582812 \nL 479.565625 119.582812 \nQ 477.565625 119.582812 477.565625 121.582812 \nL 477.565625 164.617188 \nQ 477.565625 166.617188 479.565625 166.617188 \nz\n\" style=\"fill: #ffffff; opacity: 0.8; stroke: #cccccc; stroke-linejoin: miter\"/>\n    </g>\n    <g id=\"line2d_28\">\n     <path d=\"M 481.565625 127.68125 \nL 491.565625 127.68125 \nL 501.565625 127.68125 \n\" style=\"fill: none; stroke: #1f77b4; stroke-width: 1.5; stroke-linecap: square\"/>\n    </g>\n    <g id=\"text_14\">\n     <!-- train loss -->\n     <g transform=\"translate(509.565625 131.18125)scale(0.1 -0.1)\">\n      <defs>\n       <path id=\"DejaVuSans-74\" d=\"M 1172 4494 \nL 1172 3500 \nL 2356 3500 \nL 2356 3053 \nL 1172 3053 \nL 1172 1153 \nQ 1172 725 1289 603 \nQ 1406 481 1766 481 \nL 2356 481 \nL 2356 0 \nL 1766 0 \nQ 1100 0 847 248 \nQ 594 497 594 1153 \nL 594 3053 \nL 172 3053 \nL 172 3500 \nL 594 3500 \nL 594 4494 \nL 1172 4494 \nz\n\" transform=\"scale(0.015625)\"/>\n       <path id=\"DejaVuSans-72\" d=\"M 2631 2963 \nQ 2534 3019 2420 3045 \nQ 2306 3072 2169 3072 \nQ 1681 3072 1420 2755 \nQ 1159 2438 1159 1844 \nL 1159 0 \nL 581 0 \nL 581 3500 \nL 1159 3500 \nL 1159 2956 \nQ 1341 3275 1631 3429 \nQ 1922 3584 2338 3584 \nQ 2397 3584 2469 3576 \nQ 2541 3569 2628 3553 \nL 2631 2963 \nz\n\" transform=\"scale(0.015625)\"/>\n       <path id=\"DejaVuSans-61\" d=\"M 2194 1759 \nQ 1497 1759 1228 1600 \nQ 959 1441 959 1056 \nQ 959 750 1161 570 \nQ 1363 391 1709 391 \nQ 2188 391 2477 730 \nQ 2766 1069 2766 1631 \nL 2766 1759 \nL 2194 1759 \nz\nM 3341 1997 \nL 3341 0 \nL 2766 0 \nL 2766 531 \nQ 2569 213 2275 61 \nQ 1981 -91 1556 -91 \nQ 1019 -91 701 211 \nQ 384 513 384 1019 \nQ 384 1609 779 1909 \nQ 1175 2209 1959 2209 \nL 2766 2209 \nL 2766 2266 \nQ 2766 2663 2505 2880 \nQ 2244 3097 1772 3097 \nQ 1472 3097 1187 3025 \nQ 903 2953 641 2809 \nL 641 3341 \nQ 956 3463 1253 3523 \nQ 1550 3584 1831 3584 \nQ 2591 3584 2966 3190 \nQ 3341 2797 3341 1997 \nz\n\" transform=\"scale(0.015625)\"/>\n       <path id=\"DejaVuSans-69\" d=\"M 603 3500 \nL 1178 3500 \nL 1178 0 \nL 603 0 \nL 603 3500 \nz\nM 603 4863 \nL 1178 4863 \nL 1178 4134 \nL 603 4134 \nL 603 4863 \nz\n\" transform=\"scale(0.015625)\"/>\n       <path id=\"DejaVuSans-6e\" d=\"M 3513 2113 \nL 3513 0 \nL 2938 0 \nL 2938 2094 \nQ 2938 2591 2744 2837 \nQ 2550 3084 2163 3084 \nQ 1697 3084 1428 2787 \nQ 1159 2491 1159 1978 \nL 1159 0 \nL 581 0 \nL 581 3500 \nL 1159 3500 \nL 1159 2956 \nQ 1366 3272 1645 3428 \nQ 1925 3584 2291 3584 \nQ 2894 3584 3203 3211 \nQ 3513 2838 3513 2113 \nz\n\" transform=\"scale(0.015625)\"/>\n       <path id=\"DejaVuSans-20\" transform=\"scale(0.015625)\"/>\n       <path id=\"DejaVuSans-6c\" d=\"M 603 4863 \nL 1178 4863 \nL 1178 0 \nL 603 0 \nL 603 4863 \nz\n\" transform=\"scale(0.015625)\"/>\n       <path id=\"DejaVuSans-73\" d=\"M 2834 3397 \nL 2834 2853 \nQ 2591 2978 2328 3040 \nQ 2066 3103 1784 3103 \nQ 1356 3103 1142 2972 \nQ 928 2841 928 2578 \nQ 928 2378 1081 2264 \nQ 1234 2150 1697 2047 \nL 1894 2003 \nQ 2506 1872 2764 1633 \nQ 3022 1394 3022 966 \nQ 3022 478 2636 193 \nQ 2250 -91 1575 -91 \nQ 1294 -91 989 -36 \nQ 684 19 347 128 \nL 347 722 \nQ 666 556 975 473 \nQ 1284 391 1588 391 \nQ 1994 391 2212 530 \nQ 2431 669 2431 922 \nQ 2431 1156 2273 1281 \nQ 2116 1406 1581 1522 \nL 1381 1569 \nQ 847 1681 609 1914 \nQ 372 2147 372 2553 \nQ 372 3047 722 3315 \nQ 1072 3584 1716 3584 \nQ 2034 3584 2315 3537 \nQ 2597 3491 2834 3397 \nz\n\" transform=\"scale(0.015625)\"/>\n      </defs>\n      <use xlink:href=\"#DejaVuSans-74\"/>\n      <use xlink:href=\"#DejaVuSans-72\" x=\"39.208984\"/>\n      <use xlink:href=\"#DejaVuSans-61\" x=\"80.322266\"/>\n      <use xlink:href=\"#DejaVuSans-69\" x=\"141.601562\"/>\n      <use xlink:href=\"#DejaVuSans-6e\" x=\"169.384766\"/>\n      <use xlink:href=\"#DejaVuSans-20\" x=\"232.763672\"/>\n      <use xlink:href=\"#DejaVuSans-6c\" x=\"264.550781\"/>\n      <use xlink:href=\"#DejaVuSans-6f\" x=\"292.333984\"/>\n      <use xlink:href=\"#DejaVuSans-73\" x=\"353.515625\"/>\n      <use xlink:href=\"#DejaVuSans-73\" x=\"405.615234\"/>\n     </g>\n    </g>\n    <g id=\"line2d_29\">\n     <path d=\"M 481.565625 142.359375 \nL 491.565625 142.359375 \nL 501.565625 142.359375 \n\" style=\"fill: none; stroke-dasharray: 5.55,2.4; stroke-dashoffset: 0; stroke: #bf00bf; stroke-width: 1.5\"/>\n    </g>\n    <g id=\"text_15\">\n     <!-- train acc -->\n     <g transform=\"translate(509.565625 145.859375)scale(0.1 -0.1)\">\n      <use xlink:href=\"#DejaVuSans-74\"/>\n      <use xlink:href=\"#DejaVuSans-72\" x=\"39.208984\"/>\n      <use xlink:href=\"#DejaVuSans-61\" x=\"80.322266\"/>\n      <use xlink:href=\"#DejaVuSans-69\" x=\"141.601562\"/>\n      <use xlink:href=\"#DejaVuSans-6e\" x=\"169.384766\"/>\n      <use xlink:href=\"#DejaVuSans-20\" x=\"232.763672\"/>\n      <use xlink:href=\"#DejaVuSans-61\" x=\"264.550781\"/>\n      <use xlink:href=\"#DejaVuSans-63\" x=\"325.830078\"/>\n      <use xlink:href=\"#DejaVuSans-63\" x=\"380.810547\"/>\n     </g>\n    </g>\n    <g id=\"line2d_30\">\n     <path d=\"M 481.565625 157.0375 \nL 491.565625 157.0375 \nL 501.565625 157.0375 \n\" style=\"fill: none; stroke-dasharray: 9.6,2.4,1.5,2.4; stroke-dashoffset: 0; stroke: #008000; stroke-width: 1.5\"/>\n    </g>\n    <g id=\"text_16\">\n     <!-- validation acc -->\n     <g transform=\"translate(509.565625 160.5375)scale(0.1 -0.1)\">\n      <defs>\n       <path id=\"DejaVuSans-76\" d=\"M 191 3500 \nL 800 3500 \nL 1894 563 \nL 2988 3500 \nL 3597 3500 \nL 2284 0 \nL 1503 0 \nL 191 3500 \nz\n\" transform=\"scale(0.015625)\"/>\n       <path id=\"DejaVuSans-64\" d=\"M 2906 2969 \nL 2906 4863 \nL 3481 4863 \nL 3481 0 \nL 2906 0 \nL 2906 525 \nQ 2725 213 2448 61 \nQ 2172 -91 1784 -91 \nQ 1150 -91 751 415 \nQ 353 922 353 1747 \nQ 353 2572 751 3078 \nQ 1150 3584 1784 3584 \nQ 2172 3584 2448 3432 \nQ 2725 3281 2906 2969 \nz\nM 947 1747 \nQ 947 1113 1208 752 \nQ 1469 391 1925 391 \nQ 2381 391 2643 752 \nQ 2906 1113 2906 1747 \nQ 2906 2381 2643 2742 \nQ 2381 3103 1925 3103 \nQ 1469 3103 1208 2742 \nQ 947 2381 947 1747 \nz\n\" transform=\"scale(0.015625)\"/>\n      </defs>\n      <use xlink:href=\"#DejaVuSans-76\"/>\n      <use xlink:href=\"#DejaVuSans-61\" x=\"59.179688\"/>\n      <use xlink:href=\"#DejaVuSans-6c\" x=\"120.458984\"/>\n      <use xlink:href=\"#DejaVuSans-69\" x=\"148.242188\"/>\n      <use xlink:href=\"#DejaVuSans-64\" x=\"176.025391\"/>\n      <use xlink:href=\"#DejaVuSans-61\" x=\"239.501953\"/>\n      <use xlink:href=\"#DejaVuSans-74\" x=\"300.78125\"/>\n      <use xlink:href=\"#DejaVuSans-69\" x=\"339.990234\"/>\n      <use xlink:href=\"#DejaVuSans-6f\" x=\"367.773438\"/>\n      <use xlink:href=\"#DejaVuSans-6e\" x=\"428.955078\"/>\n      <use xlink:href=\"#DejaVuSans-20\" x=\"492.333984\"/>\n      <use xlink:href=\"#DejaVuSans-61\" x=\"524.121094\"/>\n      <use xlink:href=\"#DejaVuSans-63\" x=\"585.400391\"/>\n      <use xlink:href=\"#DejaVuSans-63\" x=\"640.380859\"/>\n     </g>\n    </g>\n   </g>\n  </g>\n </g>\n <defs>\n  <clipPath id=\"p2e15e26969\">\n   <rect x=\"30.103125\" y=\"7.2\" width=\"558\" height=\"271.8\"/>\n  </clipPath>\n </defs>\n</svg>\n"
          },
          "metadata": {
            "needs_background": "light"
          }
        }
      ]
    },
    {
      "cell_type": "markdown",
      "metadata": {
        "id": "0QWI0APIcedd"
      },
      "source": [
        "Yes, the results are similar, as can be seen from the training graph."
      ]
    },
    {
      "cell_type": "markdown",
      "metadata": {
        "id": "i27mYjQlcede"
      },
      "source": [
        "**(h) The paper uses a variant of 'early stopping'. How is this done? Implement it in your training loop.**\n",
        "\n",
        "Hint: A simple way to keep track of the best model is to create a model checkpoint in a file `\"checkpoints/model-...-best.pth\"`"
      ]
    },
    {
      "cell_type": "markdown",
      "metadata": {
        "id": "dpO_fQ8Ocede"
      },
      "source": [
        "The variant of 'early stopping' used is the iteration of minimum validation loss. This is done by identifying the common pattern for validation and test lost during training, then define the criterion to calculate minimum validation loss."
      ]
    },
    {
      "cell_type": "markdown",
      "metadata": {
        "id": "b_x2mIUpcede"
      },
      "source": [
        "## 7.4 Pruning\n",
        "\n",
        "Hint:\n",
        "Pruning is implemented already in PyTorch, in the module [torch.utils.prune](https://pytorch.org/docs/stable/nn.html#module-torch.nn.utils).\n",
        "The pruning method used in the paper corresponds is called [L1Unstructured](https://pytorch.org/docs/stable/generated/torch.nn.utils.prune.L1Unstructured.html#torch.nn.utils.prune.L1Unstructured) in PyTorch."
      ]
    },
    {
      "cell_type": "markdown",
      "metadata": {
        "id": "Bfuggsh5cede"
      },
      "source": [
        "**(a) The PyTorch pruning function accepts an amount to prune. Is that the amount of weights to set to 0 or the amount to keep nonzero? Is the paper using the same?**"
      ]
    },
    {
      "cell_type": "markdown",
      "metadata": {
        "id": "7nsSmgJvcedf"
      },
      "source": [
        "It's the amount to keep nonzero (the value is a float between .0 and 1.)\n",
        "Yes, the paper is using the same."
      ]
    },
    {
      "cell_type": "markdown",
      "metadata": {
        "id": "PoURNyzhcedf"
      },
      "source": [
        "**(b) Define a function to prune a network as used in the paper. It should take an amount to prune as an argument. Should all parameters be pruned or only weights?**\n",
        "\n",
        "Note: is the pruning rate the same for all types of layers?\n",
        "\n",
        "Hint: for a `Sequential` layer, you can access the layers as `net.children()`. For a layer, you can use `isinstance(layer, torch.nn.Linear)` to check if it is a linear layer."
      ]
    },
    {
      "cell_type": "markdown",
      "metadata": {
        "id": "I99Fgynzcedf"
      },
      "source": [
        "Only weight should be pruned, that is mentioned in the Lottery Winning Ticket algorithm. \" We identify a winning ticket by training a network and pruning its\n",
        "smallest-magnitude weights\""
      ]
    },
    {
      "cell_type": "markdown",
      "metadata": {
        "id": "hZ_apEWDcedf"
      },
      "source": [
        "**(c) Check your pruning function on a very simple neural network. Print the network parameters before and after pruning to make sure you understand what is going on.**"
      ]
    },
    {
      "cell_type": "code",
      "source": [
        "sample_net = torch.nn.Sequential(\n",
        "    torch.nn.Linear(3, 4),\n",
        "    torch.nn.Linear(4, 5)\n",
        ")\n",
        "\n",
        "print(\"---Before pruning---\")\n",
        "print(\"--params before--\")\n",
        "for name, params in sample_net.named_parameters():\n",
        "    print(name, params)\n",
        "\n",
        "# Prune\n",
        "prune_network_sequential(0.5, sample_net, 'l1')\n",
        "\n",
        "print(\"---After Pruning---\")\n",
        "print(\"--params after--\")\n",
        "for name, params in sample_net.named_parameters():\n",
        "    print(name, params)\n",
        "print(\"--buffers after--\")\n",
        "for name, buffers in sample_net.named_buffers():\n",
        "    print(name, buffers)\n",
        "print(\"--weight after--\")\n",
        "for i in range(len(sample_net)):\n",
        "    print(sample_net[i].weight)"
      ],
      "metadata": {
        "colab": {
          "base_uri": "https://localhost:8080/"
        },
        "id": "q2yobeFde6eq",
        "outputId": "66dcc5a5-c69b-4819-c3aa-808616942925"
      },
      "execution_count": null,
      "outputs": [
        {
          "output_type": "stream",
          "name": "stdout",
          "text": [
            "---Before pruning---\n",
            "--params before--\n",
            "0.weight Parameter containing:\n",
            "tensor([[ 0.2515,  0.1165, -0.5653],\n",
            "        [-0.3531,  0.4732,  0.2201],\n",
            "        [ 0.4374,  0.1265,  0.4902],\n",
            "        [ 0.2274,  0.2987,  0.4125]], requires_grad=True)\n",
            "0.bias Parameter containing:\n",
            "tensor([-0.5278,  0.5206, -0.2553,  0.3095], requires_grad=True)\n",
            "1.weight Parameter containing:\n",
            "tensor([[ 0.4859, -0.2759,  0.4525, -0.1007],\n",
            "        [-0.0063, -0.4551, -0.0233,  0.3741],\n",
            "        [-0.3532,  0.0340,  0.3627, -0.4875],\n",
            "        [ 0.1403,  0.3478,  0.0470, -0.1617],\n",
            "        [ 0.3906,  0.2971,  0.2061,  0.0121]], requires_grad=True)\n",
            "1.bias Parameter containing:\n",
            "tensor([-0.3988, -0.4745,  0.0963, -0.2129,  0.0330], requires_grad=True)\n",
            "---After Pruning---\n",
            "--params after--\n",
            "0.bias Parameter containing:\n",
            "tensor([-0.5278,  0.5206, -0.2553,  0.3095], requires_grad=True)\n",
            "0.weight_orig Parameter containing:\n",
            "tensor([[ 0.2515,  0.1165, -0.5653],\n",
            "        [-0.3531,  0.4732,  0.2201],\n",
            "        [ 0.4374,  0.1265,  0.4902],\n",
            "        [ 0.2274,  0.2987,  0.4125]], requires_grad=True)\n",
            "1.bias Parameter containing:\n",
            "tensor([-0.3988, -0.4745,  0.0963, -0.2129,  0.0330], requires_grad=True)\n",
            "1.weight_orig Parameter containing:\n",
            "tensor([[ 0.4859, -0.2759,  0.4525, -0.1007],\n",
            "        [-0.0063, -0.4551, -0.0233,  0.3741],\n",
            "        [-0.3532,  0.0340,  0.3627, -0.4875],\n",
            "        [ 0.1403,  0.3478,  0.0470, -0.1617],\n",
            "        [ 0.3906,  0.2971,  0.2061,  0.0121]], requires_grad=True)\n",
            "--buffers after--\n",
            "0.weight_mask tensor([[0., 0., 1.],\n",
            "        [1., 1., 0.],\n",
            "        [1., 0., 1.],\n",
            "        [0., 0., 1.]])\n",
            "1.weight_mask tensor([[1., 0., 1., 0.],\n",
            "        [0., 1., 0., 1.],\n",
            "        [1., 0., 1., 1.],\n",
            "        [0., 1., 0., 0.],\n",
            "        [1., 1., 0., 0.]])\n",
            "--weight after--\n",
            "tensor([[ 0.0000,  0.0000, -0.5653],\n",
            "        [-0.3531,  0.4732,  0.0000],\n",
            "        [ 0.4374,  0.0000,  0.4902],\n",
            "        [ 0.0000,  0.0000,  0.4125]], grad_fn=<MulBackward0>)\n",
            "tensor([[ 0.4859, -0.0000,  0.4525, -0.0000],\n",
            "        [-0.0000, -0.4551, -0.0000,  0.3741],\n",
            "        [-0.3532,  0.0000,  0.3627, -0.4875],\n",
            "        [ 0.0000,  0.3478,  0.0000, -0.0000],\n",
            "        [ 0.3906,  0.2971,  0.0000,  0.0000]], grad_fn=<MulBackward0>)\n"
          ]
        }
      ]
    },
    {
      "cell_type": "markdown",
      "metadata": {
        "id": "AfJDZ8yYcedf"
      },
      "source": [
        "**(d) Define a function that applies the pruning mask from a pruned network to another network of the same architecture.**\n",
        "\n",
        "This function should only do pruning (so some weights become 0), other weights should remain the same.\n",
        "\n",
        "Hint: the pruning functions already generate and store pruning masks. You should be able to extract these from a pruned network.\n",
        "\n",
        "Hint 2: `custom_from_mask`"
      ]
    },
    {
      "cell_type": "markdown",
      "metadata": {
        "id": "dGuC-0OZcedg"
      },
      "source": [
        "TODO: Function implemented as: `TODO` in `dl_assignment_7_common.py`"
      ]
    },
    {
      "cell_type": "markdown",
      "metadata": {
        "id": "lKrbnjVxcedg"
      },
      "source": [
        "**(e) Check your mask copy function on a very simple neural network. Check that only the pruning mask is copied.**"
      ]
    },
    {
      "cell_type": "code",
      "source": [
        "tobe_copied = torch.nn.Sequential(\n",
        "    torch.nn.Linear(3, 4),\n",
        "    torch.nn.Linear(4, 5)\n",
        ")\n",
        "\n",
        "print(\"---Before Copying---\")\n",
        "print(\"--buffers of pruned--\")\n",
        "for name, buffers in sample_net.named_buffers():\n",
        "    print(name, buffers)\n",
        "\n",
        "copy_pruning_mask(tobe_copied, sample_net)\n",
        "\n",
        "print(\"---After Copying---\")\n",
        "\n",
        "print(\"--buffers after--\")\n",
        "for name, buffers in tobe_copied.named_buffers():\n",
        "    print(name, buffers)"
      ],
      "metadata": {
        "colab": {
          "base_uri": "https://localhost:8080/"
        },
        "id": "rkwg2Rm9SVpJ",
        "outputId": "b6409176-1daa-4fdb-86a0-493453ea0a2c"
      },
      "execution_count": null,
      "outputs": [
        {
          "output_type": "stream",
          "name": "stdout",
          "text": [
            "---Before Copying---\n",
            "--buffers of pruned--\n",
            "0.weight_mask tensor([[0., 0., 1.],\n",
            "        [1., 1., 0.],\n",
            "        [1., 0., 1.],\n",
            "        [0., 0., 1.]])\n",
            "1.weight_mask tensor([[1., 0., 1., 0.],\n",
            "        [0., 1., 0., 1.],\n",
            "        [1., 0., 1., 1.],\n",
            "        [0., 1., 0., 0.],\n",
            "        [1., 1., 0., 0.]])\n",
            "---After Copying---\n",
            "--buffers after--\n",
            "0.weight_mask tensor([[0., 0., 1.],\n",
            "        [1., 1., 0.],\n",
            "        [1., 0., 1.],\n",
            "        [0., 0., 1.]])\n",
            "1.weight_mask tensor([[1., 0., 1., 0.],\n",
            "        [0., 1., 0., 1.],\n",
            "        [1., 0., 1., 1.],\n",
            "        [0., 1., 0., 0.],\n",
            "        [1., 1., 0., 0.]])\n"
          ]
        }
      ]
    },
    {
      "cell_type": "markdown",
      "metadata": {
        "id": "FXOrXyyDcedg"
      },
      "source": [
        "**(f) Define a function that randomly prunes a network.**"
      ]
    },
    {
      "cell_type": "markdown",
      "metadata": {
        "id": "rsQoamdAcedg"
      },
      "source": [
        "TODO: Function implemented as: `TODO` in `dl_assignment_7_common.py`"
      ]
    },
    {
      "cell_type": "markdown",
      "source": [
        "I already did that in 7.4b."
      ],
      "metadata": {
        "id": "IZVFid7iV9_a"
      }
    },
    {
      "cell_type": "markdown",
      "metadata": {
        "id": "Ighys9OTcedg"
      },
      "source": [
        "**(g) Check the above function.**"
      ]
    },
    {
      "cell_type": "code",
      "source": [
        "sample_net = torch.nn.Sequential(\n",
        "    torch.nn.Linear(3, 4),\n",
        "    torch.nn.Linear(4, 5)\n",
        ")\n",
        "\n",
        "print(\"---Before pruning---\")\n",
        "print(\"--params before--\")\n",
        "for name, params in sample_net.named_parameters():\n",
        "    print(name, params)\n",
        "\n",
        "# Prune\n",
        "prune_network_sequential(0.5, sample_net, 'random')\n",
        "\n",
        "print(\"---After Pruning---\")\n",
        "print(\"--params after--\")\n",
        "for name, params in sample_net.named_parameters():\n",
        "    print(name, params)\n",
        "print(\"--buffers after--\")\n",
        "for name, buffers in sample_net.named_buffers():\n",
        "    print(name, buffers)"
      ],
      "metadata": {
        "colab": {
          "base_uri": "https://localhost:8080/"
        },
        "id": "m_DFowLWWBp_",
        "outputId": "7aa759fc-8029-443d-b2cf-548a632ffd12"
      },
      "execution_count": null,
      "outputs": [
        {
          "output_type": "stream",
          "name": "stdout",
          "text": [
            "---Before pruning---\n",
            "--params before--\n",
            "0.weight Parameter containing:\n",
            "tensor([[-0.1896,  0.0911, -0.0737],\n",
            "        [ 0.2163, -0.2534, -0.5317],\n",
            "        [ 0.1506, -0.1028, -0.4850],\n",
            "        [-0.4158, -0.1259, -0.3367]], requires_grad=True)\n",
            "0.bias Parameter containing:\n",
            "tensor([-0.0549, -0.0887, -0.1204, -0.0215], requires_grad=True)\n",
            "1.weight Parameter containing:\n",
            "tensor([[-0.1710,  0.1532, -0.2800, -0.2991],\n",
            "        [ 0.0980,  0.2259, -0.0486,  0.1553],\n",
            "        [ 0.4274,  0.1329,  0.1664, -0.2229],\n",
            "        [-0.0914, -0.1669,  0.0301,  0.3862],\n",
            "        [ 0.1896, -0.4512, -0.2102,  0.2774]], requires_grad=True)\n",
            "1.bias Parameter containing:\n",
            "tensor([-0.0438, -0.1798, -0.3368,  0.1821,  0.4552], requires_grad=True)\n",
            "---After Pruning---\n",
            "--params after--\n",
            "0.bias Parameter containing:\n",
            "tensor([-0.0549, -0.0887, -0.1204, -0.0215], requires_grad=True)\n",
            "0.weight_orig Parameter containing:\n",
            "tensor([[-0.1896,  0.0911, -0.0737],\n",
            "        [ 0.2163, -0.2534, -0.5317],\n",
            "        [ 0.1506, -0.1028, -0.4850],\n",
            "        [-0.4158, -0.1259, -0.3367]], requires_grad=True)\n",
            "1.bias Parameter containing:\n",
            "tensor([-0.0438, -0.1798, -0.3368,  0.1821,  0.4552], requires_grad=True)\n",
            "1.weight_orig Parameter containing:\n",
            "tensor([[-0.1710,  0.1532, -0.2800, -0.2991],\n",
            "        [ 0.0980,  0.2259, -0.0486,  0.1553],\n",
            "        [ 0.4274,  0.1329,  0.1664, -0.2229],\n",
            "        [-0.0914, -0.1669,  0.0301,  0.3862],\n",
            "        [ 0.1896, -0.4512, -0.2102,  0.2774]], requires_grad=True)\n",
            "--buffers after--\n",
            "0.weight_mask tensor([[1., 0., 1.],\n",
            "        [0., 1., 0.],\n",
            "        [0., 1., 1.],\n",
            "        [0., 1., 0.]])\n",
            "1.weight_mask tensor([[0., 0., 1., 1.],\n",
            "        [1., 0., 1., 1.],\n",
            "        [0., 0., 1., 0.],\n",
            "        [0., 0., 1., 1.],\n",
            "        [0., 1., 0., 1.]])\n"
          ]
        }
      ]
    },
    {
      "cell_type": "markdown",
      "metadata": {
        "id": "bO-ujP9Hcedg"
      },
      "source": [
        "**(h) Define a function that performs the experiment described in Section 1 of the paper on a given dataset and with a given architecture**\n",
        "\n",
        "Save all needed results to a file, such as test loss and accuracy. This will make your job easier later on."
      ]
    },
    {
      "cell_type": "markdown",
      "metadata": {
        "id": "ZZLGOo6bcedh"
      },
      "source": [
        "TODO: Function implemented as: `TODO` in `dl_assignment_7_common.py`"
      ]
    },
    {
      "cell_type": "markdown",
      "metadata": {
        "id": "5sjcwF6Lcedh"
      },
      "source": [
        "## 7.5 Experiments from Section 1"
      ]
    },
    {
      "cell_type": "markdown",
      "metadata": {
        "id": "G_1cQz1Ccedh"
      },
      "source": [
        "**(a) Perform the experiments needed to reproduce the red line in Figure 1 from the paper**\n",
        "\n",
        "Hint: create a python script (`experiment1-{dataset}.py`) that does all the training as needed.\n",
        "Then load the checkpoint files and do your analysis here.\n",
        "You may also want to define more helper functions.\n",
        "\n",
        "Hint 2: look at previous assignments for how to plot. See also [documentation for `plt.errorbar`](https://matplotlib.org/stable/api/_as_gen/matplotlib.pyplot.errorbar.html)."
      ]
    },
    {
      "cell_type": "markdown",
      "metadata": {
        "id": "iSTLI27Acedh"
      },
      "source": [
        "TODO: Training implemented in `TODO.py`"
      ]
    },
    {
      "cell_type": "code",
      "execution_count": null,
      "metadata": {
        "id": "5g_EN9XFcedh",
        "colab": {
          "base_uri": "https://localhost:8080/"
        },
        "outputId": "ed738af9-06e1-4734-a8b2-0b04de9325ff"
      },
      "outputs": [
        {
          "output_type": "stream",
          "name": "stdout",
          "text": [
            "loss 0.007, train acc 0.998, test acc 0.982\n",
            "30136145.8 examples/sec on cuda:0\n",
            "loss 0.003, train acc 0.999, test acc 0.980\n",
            "27940867.2 examples/sec on cuda:0\n",
            "loss 0.003, train acc 0.999, test acc 0.981\n",
            "30698781.0 examples/sec on cuda:0\n",
            "loss 0.000, train acc 1.000, test acc 0.984\n",
            "28204694.5 examples/sec on cuda:0\n",
            "loss 0.004, train acc 0.999, test acc 0.979\n",
            "30645204.8 examples/sec on cuda:0\n",
            "loss 0.000, train acc 1.000, test acc 0.982\n",
            "28246999.1 examples/sec on cuda:0\n",
            "loss 0.005, train acc 0.999, test acc 0.979\n",
            "30812954.0 examples/sec on cuda:0\n",
            "loss 0.000, train acc 1.000, test acc 0.976\n",
            "28134447.2 examples/sec on cuda:0\n"
          ]
        }
      ],
      "source": [
        "section1_oneshot('mnist', 'lenet', 1, 0.2, 'l1', \"lenet/train_results_iteration_lenet.txt\")\n",
        "section1_oneshot('mnist', 'lenet', 2, 0.589, 'l1', \"lenet/train_results_iteration_lenet.txt\")\n",
        "section1_oneshot('mnist', 'lenet', 3, 0.831, 'l1', \"lenet/train_results_iteration_lenet.txt\")\n",
        "section1_oneshot('mnist', 'lenet', 4, 0.93, 'l1', \"lenet/train_results_iteration_lenet.txt\")"
      ]
    },
    {
      "cell_type": "code",
      "source": [
        "section1_oneshot('mnist', 'lenet', 5, 0.2, 'random', \"lenet/train_results_iteration_lenet_random.txt\")\n",
        "section1_oneshot('mnist', 'lenet', 6, 0.589, 'random', \"lenet/train_results_iteration_lenet_random.txt\")\n",
        "section1_oneshot('mnist', 'lenet', 7, 0.831, 'random', \"lenet/train_results_iteration_lenet_random.txt\")\n",
        "section1_oneshot('mnist', 'lenet', 8, 0.93, 'random', \"lenet/train_results_iteration_lenet_random.txt\")"
      ],
      "metadata": {
        "colab": {
          "base_uri": "https://localhost:8080/"
        },
        "id": "oI68vs1CV67d",
        "outputId": "5e3aab3b-92e3-4143-87be-28b02019383b"
      },
      "execution_count": null,
      "outputs": [
        {
          "output_type": "stream",
          "name": "stdout",
          "text": [
            "loss 0.005, train acc 0.999, test acc 0.980\n",
            "30799578.5 examples/sec on cuda:0\n",
            "loss 0.003, train acc 0.999, test acc 0.983\n",
            "28270000.3 examples/sec on cuda:0\n",
            "loss 0.006, train acc 0.998, test acc 0.984\n",
            "30792937.3 examples/sec on cuda:0\n",
            "loss 0.002, train acc 1.000, test acc 0.980\n",
            "28420581.6 examples/sec on cuda:0\n",
            "loss 0.003, train acc 0.999, test acc 0.981\n",
            "30895267.1 examples/sec on cuda:0\n",
            "loss 0.011, train acc 0.997, test acc 0.976\n",
            "28382314.2 examples/sec on cuda:0\n",
            "loss 0.003, train acc 0.999, test acc 0.982\n",
            "31105857.4 examples/sec on cuda:0\n",
            "loss 0.004, train acc 0.999, test acc 0.965\n",
            "28750365.7 examples/sec on cuda:0\n"
          ]
        }
      ]
    },
    {
      "cell_type": "code",
      "source": [
        "!cp -r \"/content/lenet\" \"/content/drive/MyDrive/\""
      ],
      "metadata": {
        "id": "N-u5jM8ad0Vl"
      },
      "execution_count": null,
      "outputs": []
    },
    {
      "cell_type": "markdown",
      "source": [
        "Plot the graphs"
      ],
      "metadata": {
        "id": "VoMoJB0Wd1eW"
      }
    },
    {
      "cell_type": "code",
      "source": [
        "percent_weight_remaining = []\n",
        "early_stopping_iter = []\n",
        "val_accs = []\n",
        "\n",
        "percent_weight_remaining_random = []\n",
        "early_stopping_iter_random = []\n",
        "val_accs_random = []\n",
        "with open('lenet/train_results_iteration_lenet.txt') as input_data:\n",
        "    prevLine = \"\"\n",
        "    for line in input_data:\n",
        "        if \"Writing\" in line:\n",
        "            per, it = map(float, prevLine.split(\",\"))\n",
        "            percent_weight_remaining.append(per)\n",
        "            early_stopping_iter.append(it)\n",
        "            next_line = next(input_data)\n",
        "            per, val_acc = map(float, next_line.split(\",\"))\n",
        "            val_accs.append(val_acc)\n",
        "        prevLine = line\n",
        "    input_data.close()\n",
        "with open('lenet/train_results_iteration_lenet_random.txt') as input_data:\n",
        "    prevLine = \"\"\n",
        "    for line in input_data:\n",
        "        if \"Writing\" in line:\n",
        "            per, it = map(float, prevLine.split(\",\"))\n",
        "            percent_weight_remaining_random.append(per)\n",
        "            early_stopping_iter_random.append(it)\n",
        "            next_line = next(input_data)\n",
        "            per, val_acc = map(float, next_line.split(\",\"))\n",
        "            val_accs_random.append(val_acc)\n",
        "        prevLine = line\n",
        "    input_data.close()\n",
        "fig, (ax1, ax2) = plt.subplots(nrows=1, ncols=2, figsize=(5, 3))\n",
        "\n",
        "ax1.errorbar(percent_weight_remaining, early_stopping_iter,\n",
        "             label ='Lenet', color='red')\n",
        "\n",
        "ax1.errorbar(percent_weight_remaining_random, early_stopping_iter_random,\n",
        "             label ='Lenet_rnd', color='red', linestyle ='dashed')\n",
        "ax1.set_xlabel('Percent of Weights Remaining')\n",
        "ax1.set_ylabel('Early stopping Iteration')\n",
        "combi = early_stopping_iter + early_stopping_iter_random\n",
        "y_min = np.min(combi)\n",
        "y_max = np.max(combi)\n",
        "ax1.axis([0.9, 0.1, y_min, y_max])\n",
        "ax1.legend(loc ='upper left')\n",
        "\n",
        "ax2.errorbar(percent_weight_remaining, val_accs,\n",
        "             label ='Lenet', color='red')\n",
        "\n",
        "ax2.errorbar(percent_weight_remaining_random, val_accs_random,\n",
        "             label ='Lenet_rnd', color='red', linestyle ='dashed')\n",
        "combi = val_accs + val_accs_random\n",
        "y_min = np.min(combi)\n",
        "y_max = np.max(combi)\n",
        "ax2.axis([0.9, 0.1, y_min, y_max])\n",
        "ax2.set_xlabel('Percent of Weights Remaining')\n",
        "ax2.set_ylabel('Accuracy at Early-Stop')\n",
        "ax2.legend(loc ='upper left')\n",
        "fig.tight_layout()"
      ],
      "metadata": {
        "colab": {
          "base_uri": "https://localhost:8080/",
          "height": 225
        },
        "id": "mMTL-d2dfSRp",
        "outputId": "152eefe8-dbaa-44e2-a663-95d1b95e87ae"
      },
      "execution_count": null,
      "outputs": [
        {
          "output_type": "display_data",
          "data": {
            "text/plain": [
              "<Figure size 360x216 with 2 Axes>"
            ],
            "image/png": "[encoded data removed]"
          },
          "metadata": {
            "needs_background": "light"
          }
        }
      ]
    },
    {
      "cell_type": "markdown",
      "metadata": {
        "id": "8aEeA8pFcedi"
      },
      "source": [
        "**(b) Do your results match the paper? Discuss similarities and differences**"
      ]
    },
    {
      "cell_type": "markdown",
      "metadata": {
        "id": "1c4VidqFcedi"
      },
      "source": [
        "My result is somewhat similar to the paper, the subnetwork pruned by random method has less accuracy at early stop and fluctuates more than the subnetwork pruned by `l1_unstructured`."
      ]
    },
    {
      "cell_type": "markdown",
      "metadata": {
        "id": "p1NtwAuPcedi"
      },
      "source": [
        "**(c) Perform the experiments needed to reproduce the rest of Figure 1 from the paper**\n",
        "\n",
        "Hint: create a python script (`experiment1-{dataset}.py`). Try to avoid duplicating code, by moving common things into function in the `dl_assignment_7_common.py` file."
      ]
    },
    {
      "cell_type": "markdown",
      "metadata": {
        "id": "0FicxXSKcedi"
      },
      "source": [
        "TODO: Training implemented in `TODO.py`"
      ]
    },
    {
      "cell_type": "markdown",
      "source": [
        "Training Conv-2"
      ],
      "metadata": {
        "id": "UTCRSDFMQyMj"
      }
    },
    {
      "cell_type": "code",
      "execution_count": null,
      "metadata": {
        "id": "zkdeSTafcedi"
      },
      "outputs": [],
      "source": [
        "section1_oneshot('cifar10', 'conv-2', 1, 0.2, 'l1', \"conv-2/train_results_iteration_conv-2.txt\")\n",
        "section1_oneshot('cifar10', 'conv-2', 2, 0.588, 'l1', \"conv-2/train_results_iteration_conv-2.txt\")\n",
        "section1_oneshot('cifar10', 'conv-2', 3, 0.83, 'l1', \"conv-2/train_results_iteration_conv-2.txt\")\n",
        "section1_oneshot('cifar10', 'conv-2', 4, 0.929, 'l1', \"conv-2/train_results_iteration_conv-2.txt\")"
      ]
    },
    {
      "cell_type": "code",
      "source": [
        "section1_oneshot('cifar10', 'conv-2', 5, 0.2, 'random', \"conv-2/train_results_iteration_conv-2_random.txt\")\n",
        "section1_oneshot('cifar10', 'conv-2', 6, 0.588, 'random', \"conv-2/train_results_iteration_conv-2_random.txt\")\n",
        "section1_oneshot('cifar10', 'conv-2', 7, 0.83, 'random', \"conv-2/train_results_iteration_conv-2_random.txt\")\n",
        "section1_oneshot('cifar10', 'conv-2', 8, 0.929, 'random', \"conv-2/train_results_iteration_conv-2_random.txt\")"
      ],
      "metadata": {
        "id": "QCYkm2i2R-kD"
      },
      "execution_count": null,
      "outputs": []
    },
    {
      "cell_type": "markdown",
      "source": [
        "Training Conv-4"
      ],
      "metadata": {
        "id": "a-bWWXMZQ1Nd"
      }
    },
    {
      "cell_type": "code",
      "source": [
        "section1_oneshot('cifar10', 'conv-4', 1, 0.2, 'l1', \"conv-4/train_results_iteration_conv-4.txt\")\n",
        "section1_oneshot('cifar10', 'conv-4', 2, 0.588, 'l1', \"conv-4/train_results_iteration_conv-4.txt\")\n",
        "section1_oneshot('cifar10', 'conv-4', 3, 0.83, 'l1', \"conv-4/train_results_iteration_conv-4.txt\")\n",
        "section1_oneshot('cifar10', 'conv-4', 4, 0.929, 'l1', \"conv-4/train_results_iteration_conv-4.txt\")"
      ],
      "metadata": {
        "colab": {
          "base_uri": "https://localhost:8080/"
        },
        "id": "svZewIyCQ36B",
        "outputId": "468d9075-b989-43fc-aa89-7f0fc6acf74f"
      },
      "execution_count": null,
      "outputs": [
        {
          "output_type": "stream",
          "name": "stdout",
          "text": [
            "Files already downloaded and verified\n",
            "Files already downloaded and verified\n",
            "loss 1.636, train acc 0.825, test acc 0.651\n",
            "3879034.3 examples/sec on cuda:0\n",
            "Files already downloaded and verified\n",
            "Files already downloaded and verified\n",
            "loss 1.604, train acc 0.857, test acc 0.709\n",
            "3783066.6 examples/sec on cuda:0\n",
            "Files already downloaded and verified\n",
            "Files already downloaded and verified\n",
            "Files already downloaded and verified\n",
            "Files already downloaded and verified\n",
            "loss 1.712, train acc 0.724, test acc 0.556\n",
            "3883619.3 examples/sec on cuda:0\n",
            "Files already downloaded and verified\n",
            "Files already downloaded and verified\n",
            "loss 1.604, train acc 0.843, test acc 0.639\n",
            "3790191.9 examples/sec on cuda:0\n",
            "Files already downloaded and verified\n",
            "Files already downloaded and verified\n",
            "Files already downloaded and verified\n",
            "Files already downloaded and verified\n",
            "loss 1.623, train acc 0.840, test acc 0.681\n",
            "3884334.0 examples/sec on cuda:0\n",
            "Files already downloaded and verified\n",
            "Files already downloaded and verified\n",
            "loss 1.539, train acc 0.922, test acc 0.703\n",
            "3793986.9 examples/sec on cuda:0\n",
            "Files already downloaded and verified\n",
            "Files already downloaded and verified\n",
            "Files already downloaded and verified\n",
            "Files already downloaded and verified\n",
            "loss 1.567, train acc 0.895, test acc 0.721\n",
            "3885370.6 examples/sec on cuda:0\n",
            "Files already downloaded and verified\n",
            "Files already downloaded and verified\n",
            "loss 1.671, train acc 0.787, test acc 0.647\n",
            "3800554.2 examples/sec on cuda:0\n",
            "Files already downloaded and verified\n",
            "Files already downloaded and verified\n"
          ]
        }
      ]
    },
    {
      "cell_type": "code",
      "source": [
        "section1_oneshot('cifar10', 'conv-4', 5, 0.2, 'random', \"conv-4/train_results_iteration_conv-4_random.txt\")\n",
        "section1_oneshot('cifar10', 'conv-4', 6, 0.588, 'random', \"conv-4/train_results_iteration_conv-4_random.txt\")\n",
        "section1_oneshot('cifar10', 'conv-4', 7, 0.83, 'random', \"conv-4/train_results_iteration_conv-4_random.txt\")\n",
        "section1_oneshot('cifar10', 'conv-4', 8, 0.929, 'random', \"conv-4/train_results_iteration_conv-4_random.txt\")"
      ],
      "metadata": {
        "colab": {
          "base_uri": "https://localhost:8080/"
        },
        "id": "zVKZzKMypyVO",
        "outputId": "cc161414-5897-4f67-d433-9e55771a7417"
      },
      "execution_count": null,
      "outputs": [
        {
          "output_type": "stream",
          "name": "stdout",
          "text": [
            "Files already downloaded and verified\n",
            "Files already downloaded and verified\n",
            "loss 1.561, train acc 0.901, test acc 0.705\n",
            "3881716.2 examples/sec on cuda:0\n",
            "Files already downloaded and verified\n",
            "Files already downloaded and verified\n",
            "loss 1.521, train acc 0.940, test acc 0.715\n",
            "3784252.1 examples/sec on cuda:0\n",
            "Files already downloaded and verified\n",
            "Files already downloaded and verified\n",
            "Files already downloaded and verified\n",
            "Files already downloaded and verified\n",
            "loss 1.641, train acc 0.809, test acc 0.636\n",
            "3889328.7 examples/sec on cuda:0\n",
            "Files already downloaded and verified\n",
            "Files already downloaded and verified\n",
            "loss 1.620, train acc 0.829, test acc 0.642\n",
            "3789968.4 examples/sec on cuda:0\n",
            "Files already downloaded and verified\n",
            "Files already downloaded and verified\n",
            "Files already downloaded and verified\n",
            "Files already downloaded and verified\n",
            "loss 1.624, train acc 0.837, test acc 0.682\n",
            "3883877.6 examples/sec on cuda:0\n",
            "Files already downloaded and verified\n",
            "Files already downloaded and verified\n",
            "loss 1.761, train acc 0.704, test acc 0.627\n",
            "3789522.3 examples/sec on cuda:0\n",
            "Files already downloaded and verified\n",
            "Files already downloaded and verified\n",
            "Files already downloaded and verified\n",
            "Files already downloaded and verified\n",
            "loss 1.642, train acc 0.807, test acc 0.608\n",
            "3887470.5 examples/sec on cuda:0\n",
            "Files already downloaded and verified\n",
            "Files already downloaded and verified\n",
            "loss 2.097, train acc 0.355, test acc 0.354\n",
            "3801864.9 examples/sec on cuda:0\n",
            "Files already downloaded and verified\n",
            "Files already downloaded and verified\n"
          ]
        }
      ]
    },
    {
      "cell_type": "markdown",
      "source": [
        "Training Conv-6"
      ],
      "metadata": {
        "id": "2DwYBlRBQ4K7"
      }
    },
    {
      "cell_type": "code",
      "source": [
        "section1_oneshot('cifar10', 'conv-6', 1, 0.2, 'l1', \"conv-6/train_results_iteration_conv-6.txt\")\n",
        "section1_oneshot('cifar10', 'conv-6', 2, 0.588, 'l1', \"conv-6/train_results_iteration_conv-6.txt\")\n",
        "section1_oneshot('cifar10', 'conv-6', 3, 0.83, 'l1', \"conv-6/train_results_iteration_conv-6.txt\")\n",
        "section1_oneshot('cifar10', 'conv-6', 4, 0.929, 'l1', \"conv-6/train_results_iteration_conv-6.txt\")"
      ],
      "metadata": {
        "colab": {
          "base_uri": "https://localhost:8080/"
        },
        "id": "RgCiYHe3RLa9",
        "outputId": "ea4b1b79-0700-4f4a-f54b-fd4a7b733f0c"
      },
      "execution_count": null,
      "outputs": [
        {
          "output_type": "stream",
          "name": "stdout",
          "text": [
            "Files already downloaded and verified\n",
            "Files already downloaded and verified\n",
            "loss 1.654, train acc 0.807, test acc 0.635\n",
            "3199091.5 examples/sec on cuda:0\n",
            "Files already downloaded and verified\n",
            "Files already downloaded and verified\n",
            "loss 1.641, train acc 0.820, test acc 0.637\n",
            "3174258.8 examples/sec on cuda:0\n",
            "Files already downloaded and verified\n",
            "Files already downloaded and verified\n",
            "Files already downloaded and verified\n",
            "Files already downloaded and verified\n",
            "loss 1.639, train acc 0.816, test acc 0.670\n",
            "3201523.0 examples/sec on cuda:0\n",
            "Files already downloaded and verified\n",
            "Files already downloaded and verified\n",
            "loss 1.605, train acc 0.845, test acc 0.677\n",
            "3176638.5 examples/sec on cuda:0\n",
            "Files already downloaded and verified\n",
            "Files already downloaded and verified\n",
            "Files already downloaded and verified\n",
            "Files already downloaded and verified\n",
            "loss 1.560, train acc 0.901, test acc 0.751\n",
            "3203834.5 examples/sec on cuda:0\n",
            "Files already downloaded and verified\n",
            "Files already downloaded and verified\n",
            "loss 1.518, train acc 0.943, test acc 0.756\n",
            "3176215.2 examples/sec on cuda:0\n",
            "Files already downloaded and verified\n",
            "Files already downloaded and verified\n",
            "Files already downloaded and verified\n",
            "Files already downloaded and verified\n",
            "loss 1.555, train acc 0.906, test acc 0.745\n",
            "3198561.3 examples/sec on cuda:0\n",
            "Files already downloaded and verified\n",
            "Files already downloaded and verified\n",
            "loss 1.554, train acc 0.909, test acc 0.753\n",
            "3175607.3 examples/sec on cuda:0\n",
            "Files already downloaded and verified\n",
            "Files already downloaded and verified\n"
          ]
        }
      ]
    },
    {
      "cell_type": "code",
      "source": [
        "section1_oneshot('cifar10', 'conv-6', 5, 0.2, 'random', \"conv-6/train_results_iteration_conv-6_random.txt\")\n",
        "section1_oneshot('cifar10', 'conv-6', 6, 0.588, 'random', \"conv-6/train_results_iteration_conv-6_random.txt\")\n",
        "section1_oneshot('cifar10', 'conv-6', 7, 0.83, 'random', \"conv-6/train_results_iteration_conv-6_random.txt\")\n",
        "section1_oneshot('cifar10', 'conv-6', 8, 0.929, 'random', \"conv-6/train_results_iteration_conv-6_random.txt\")"
      ],
      "metadata": {
        "colab": {
          "base_uri": "https://localhost:8080/"
        },
        "id": "ctMFMlGdqZfF",
        "outputId": "986fc1b3-0409-4502-b6bd-bd54a63cc819"
      },
      "execution_count": null,
      "outputs": [
        {
          "output_type": "stream",
          "name": "stdout",
          "text": [
            "Files already downloaded and verified\n",
            "Files already downloaded and verified\n",
            "loss 1.575, train acc 0.886, test acc 0.717\n",
            "3198887.9 examples/sec on cuda:0\n",
            "Files already downloaded and verified\n",
            "Files already downloaded and verified\n",
            "loss 1.530, train acc 0.931, test acc 0.743\n",
            "3170894.7 examples/sec on cuda:0\n",
            "Files already downloaded and verified\n",
            "Files already downloaded and verified\n",
            "Files already downloaded and verified\n",
            "Files already downloaded and verified\n",
            "loss 1.629, train acc 0.832, test acc 0.693\n",
            "3193340.5 examples/sec on cuda:0\n",
            "Files already downloaded and verified\n",
            "Files already downloaded and verified\n",
            "loss 1.589, train acc 0.864, test acc 0.698\n",
            "3170547.7 examples/sec on cuda:0\n",
            "Files already downloaded and verified\n",
            "Files already downloaded and verified\n",
            "Files already downloaded and verified\n",
            "Files already downloaded and verified\n",
            "loss 1.581, train acc 0.880, test acc 0.707\n",
            "3194430.9 examples/sec on cuda:0\n",
            "Files already downloaded and verified\n",
            "Files already downloaded and verified\n",
            "loss 1.802, train acc 0.661, test acc 0.546\n",
            "3174684.1 examples/sec on cuda:0\n",
            "Files already downloaded and verified\n",
            "Files already downloaded and verified\n",
            "Files already downloaded and verified\n",
            "Files already downloaded and verified\n",
            "loss 1.672, train acc 0.780, test acc 0.620\n",
            "3197083.0 examples/sec on cuda:0\n",
            "Files already downloaded and verified\n",
            "Files already downloaded and verified\n",
            "loss 2.036, train acc 0.424, test acc 0.411\n",
            "3179056.2 examples/sec on cuda:0\n",
            "Files already downloaded and verified\n",
            "Files already downloaded and verified\n"
          ]
        }
      ]
    },
    {
      "cell_type": "code",
      "source": [
        "!cp -r \"/content/conv-2\" \"/content/drive/MyDrive/\"\n",
        "!cp -r \"/content/conv-4\" \"/content/drive/MyDrive/\"\n",
        "!cp -r \"/content/conv-6\" \"/content/drive/MyDrive/\""
      ],
      "metadata": {
        "id": "BAgLWtFCkDyP"
      },
      "execution_count": null,
      "outputs": []
    },
    {
      "cell_type": "markdown",
      "source": [
        "Plots for `Conv-2`, `Conv-4` and `Conv-6` networks"
      ],
      "metadata": {
        "id": "IQSKLfOeHqyU"
      }
    },
    {
      "cell_type": "code",
      "source": [
        "# Conv-2\n",
        "percent_weight_remaining_conv2 = []\n",
        "early_stopping_iter_conv2 = []\n",
        "val_accs_conv2 = []\n",
        "\n",
        "percent_weight_remaining_conv2_random = []\n",
        "early_stopping_iter_conv2_random = []\n",
        "val_accs_conv2_random = []\n",
        "\n",
        "# Conv-4\n",
        "percent_weight_remaining_conv4 = []\n",
        "early_stopping_iter_conv4 = []\n",
        "val_accs_conv4 = []\n",
        "\n",
        "percent_weight_remaining_conv4_random = []\n",
        "early_stopping_iter_conv4_random = []\n",
        "val_accs_conv4_random = []\n",
        "\n",
        "# Conv-6\n",
        "percent_weight_remaining_conv6 = []\n",
        "early_stopping_iter_conv6 = []\n",
        "val_accs_conv6 = []\n",
        "\n",
        "percent_weight_remaining_conv6_random = []\n",
        "early_stopping_iter_conv6_random = []\n",
        "val_accs_conv6_random = []\n",
        "\n",
        "with open('conv-2/train_results_iteration_conv-2.txt') as input_data:\n",
        "    prevLine = \"\"\n",
        "    for line in input_data:\n",
        "        if \"Writing\" in line:\n",
        "            per, it = map(float, prevLine.split(\",\"))\n",
        "            percent_weight_remaining_conv2.append(per)\n",
        "            early_stopping_iter_conv2.append(it)\n",
        "            next_line = next(input_data)\n",
        "            per, val_acc = map(float, next_line.split(\",\"))\n",
        "            val_accs_conv2.append(val_acc)\n",
        "        prevLine = line\n",
        "    input_data.close()\n",
        "\n",
        "with open('conv-2/train_results_iteration_conv-2_random.txt') as input_data:\n",
        "    prevLine = \"\"\n",
        "    for line in input_data:\n",
        "        if \"Writing\" in line:\n",
        "            per, it = map(float, prevLine.split(\",\"))\n",
        "            percent_weight_remaining_conv2_random.append(per)\n",
        "            early_stopping_iter_conv2_random.append(it)\n",
        "            next_line = next(input_data)\n",
        "            per, val_acc = map(float, next_line.split(\",\"))\n",
        "            val_accs_conv2_random.append(val_acc)\n",
        "        prevLine = line\n",
        "    input_data.close()\n",
        "\n",
        "with open('conv-4/train_results_iteration_conv-4.txt') as input_data:\n",
        "    prevLine = \"\"\n",
        "    for line in input_data:\n",
        "        if \"Writing\" in line:\n",
        "            per, it = map(float, prevLine.split(\",\"))\n",
        "            percent_weight_remaining_conv4.append(per)\n",
        "            early_stopping_iter_conv4.append(it)\n",
        "            next_line = next(input_data)\n",
        "            per, val_acc = map(float, next_line.split(\",\"))\n",
        "            val_accs_conv4.append(val_acc)\n",
        "        prevLine = line\n",
        "    input_data.close()\n",
        "\n",
        "with open('conv-4/train_results_iteration_conv-4_random.txt') as input_data:\n",
        "    prevLine = \"\"\n",
        "    for line in input_data:\n",
        "        if \"Writing\" in line:\n",
        "            per, it = map(float, prevLine.split(\",\"))\n",
        "            percent_weight_remaining_conv4_random.append(per)\n",
        "            early_stopping_iter_conv4_random.append(it)\n",
        "            next_line = next(input_data)\n",
        "            per, val_acc = map(float, next_line.split(\",\"))\n",
        "            val_accs_conv4_random.append(val_acc)\n",
        "        prevLine = line\n",
        "    input_data.close()\n",
        "\n",
        "with open('conv-6/train_results_iteration_conv-6.txt') as input_data:\n",
        "    prevLine = \"\"\n",
        "    for line in input_data:\n",
        "        if \"Writing\" in line:\n",
        "            per, it = map(float, prevLine.split(\",\"))\n",
        "            percent_weight_remaining_conv6.append(per)\n",
        "            early_stopping_iter_conv6.append(it)\n",
        "            next_line = next(input_data)\n",
        "            per, val_acc = map(float, next_line.split(\",\"))\n",
        "            val_accs_conv6.append(val_acc)\n",
        "        prevLine = line\n",
        "    input_data.close()\n",
        "\n",
        "with open('conv-6/train_results_iteration_conv-6_random.txt') as input_data:\n",
        "    prevLine = \"\"\n",
        "    for line in input_data:\n",
        "        if \"Writing\" in line:\n",
        "            per, it = map(float, prevLine.split(\",\"))\n",
        "            percent_weight_remaining_conv6_random.append(per)\n",
        "            early_stopping_iter_conv6_random.append(it)\n",
        "            next_line = next(input_data)\n",
        "            per, val_acc = map(float, next_line.split(\",\"))\n",
        "            val_accs_conv6_random.append(val_acc)\n",
        "        prevLine = line\n",
        "    input_data.close()\n",
        "\n",
        "plt.errorbar(percent_weight_remaining_conv2, early_stopping_iter_conv2,\n",
        "             label ='conv-2', color='blue')\n",
        "\n",
        "plt.errorbar(percent_weight_remaining_conv2_random, early_stopping_iter_conv2_random,\n",
        "             label ='conv-2-rnd', color='blue', linestyle ='dashed')\n",
        "\n",
        "plt.errorbar(percent_weight_remaining_conv4, early_stopping_iter_conv4,\n",
        "             label ='conv-4', color='orange')\n",
        "\n",
        "plt.errorbar(percent_weight_remaining_conv4_random, early_stopping_iter_conv4_random,\n",
        "             label ='conv-4-rnd', color='orange', linestyle ='dashed')\n",
        "\n",
        "plt.errorbar(percent_weight_remaining_conv6, early_stopping_iter_conv6,\n",
        "             label ='conv-6', color='green')\n",
        "\n",
        "plt.errorbar(percent_weight_remaining_conv6_random, early_stopping_iter_conv6_random,\n",
        "             label ='conv-6-rnd', color='green', linestyle ='dashed')\n",
        "combi = early_stopping_iter_conv2 + early_stopping_iter_conv4 + early_stopping_iter_conv6 + early_stopping_iter_conv2_random + early_stopping_iter_conv4_random + early_stopping_iter_conv6_random\n",
        "y_max = np.max(combi)\n",
        "y_min = np.min(combi)\n",
        "\n",
        "plt.xlabel('Percent of Weights Remaining')\n",
        "plt.ylabel('Early stopping Iteration')\n",
        "plt.axis([0.9, 0.1, y_min, y_max])\n",
        "plt.legend(loc ='upper left')"
      ],
      "metadata": {
        "colab": {
          "base_uri": "https://localhost:8080/",
          "height": 297
        },
        "id": "kFKKorwmHxvY",
        "outputId": "a6f0b2b9-08ca-4a55-ab35-1eafa33e4d0b"
      },
      "execution_count": null,
      "outputs": [
        {
          "output_type": "execute_result",
          "data": {
            "text/plain": [
              "<matplotlib.legend.Legend at 0x7f304c1142d0>"
            ]
          },
          "metadata": {},
          "execution_count": 16
        },
        {
          "output_type": "display_data",
          "data": {
            "text/plain": [
              "<Figure size 432x288 with 1 Axes>"
            ],
            "image/png": "[encoded data removed]"
          },
          "metadata": {
            "needs_background": "light"
          }
        }
      ]
    },
    {
      "cell_type": "code",
      "source": [
        "plt.errorbar(percent_weight_remaining_conv2, val_accs_conv2,\n",
        "             label ='conv-2', color='blue')\n",
        "\n",
        "plt.errorbar(percent_weight_remaining_conv2_random, val_accs_conv2_random,\n",
        "             label ='conv-2', color='blue', linestyle ='dashed')\n",
        "\n",
        "plt.errorbar(percent_weight_remaining_conv4, val_accs_conv4,\n",
        "             label ='conv-4', color='orange')\n",
        "\n",
        "plt.errorbar(percent_weight_remaining_conv4_random, val_accs_conv4_random,\n",
        "             label ='conv-4', color='orange', linestyle ='dashed')\n",
        "\n",
        "plt.errorbar(percent_weight_remaining_conv6, val_accs_conv6,\n",
        "             label ='conv-6', color='green')\n",
        "\n",
        "plt.errorbar(percent_weight_remaining_conv6_random, val_accs_conv6_random,\n",
        "             label ='conv-6', color='green', linestyle ='dashed')\n",
        "combi = val_accs_conv2 + val_accs_conv4 + val_accs_conv6 + val_accs_conv2_random + val_accs_conv4_random + val_accs_conv6_random\n",
        "y_max = np.max(combi)\n",
        "y_min = np.min(combi)\n",
        "plt.xlabel('Percent of Weights Remaining')\n",
        "plt.ylabel('Validation Accuracy')\n",
        "plt.axis([0.9, 0.1, y_max, y_min])\n",
        "plt.legend(loc ='upper left')"
      ],
      "metadata": {
        "colab": {
          "base_uri": "https://localhost:8080/",
          "height": 297
        },
        "id": "VXVTBc-vTFoc",
        "outputId": "42e5d40f-b50d-46d4-da09-0db4c1ea787f"
      },
      "execution_count": null,
      "outputs": [
        {
          "output_type": "execute_result",
          "data": {
            "text/plain": [
              "<matplotlib.legend.Legend at 0x7f304c041e50>"
            ]
          },
          "metadata": {},
          "execution_count": 17
        },
        {
          "output_type": "display_data",
          "data": {
            "text/plain": [
              "<Figure size 432x288 with 1 Axes>"
            ],
            "image/png": "[encoded data removed]"
          },
          "metadata": {
            "needs_background": "light"
          }
        }
      ]
    },
    {
      "cell_type": "markdown",
      "metadata": {
        "id": "w3-e3bxQcedi"
      },
      "source": [
        "**(d) Do your results match the paper? Discuss similarities and differences**"
      ]
    },
    {
      "cell_type": "markdown",
      "metadata": {
        "id": "SZBc3LGOcedj"
      },
      "source": [
        "For the iteration at Early-stopping graph, it's similar, the lines follow the pattern of increasing iterations when the the percentage of unpruned weights gets lower, and the random pruned networks have higher iterations.\n",
        "\n",
        "For the other graph, the graph is also similar, when the random pruned network generally have lower validation accuracy."
      ]
    },
    {
      "cell_type": "markdown",
      "metadata": {
        "id": "6hVIuQhpcedj"
      },
      "source": [
        "**(e) What can you conclude from this experiment?**"
      ]
    },
    {
      "cell_type": "markdown",
      "metadata": {
        "id": "GyRKG6Gjcedj"
      },
      "source": [
        "I don't have enough time and resources to do five and ten trials for both training the winning tickets and the randomly pruned network, respectively. Some of my outcome graphs match the figure in the paper, some don't so I believe I recreated a part of this paper."
      ]
    },
    {
      "cell_type": "markdown",
      "metadata": {
        "id": "0iNEea_Ncedj"
      },
      "source": [
        "## 7.6 Experiments from Section 2"
      ]
    },
    {
      "cell_type": "markdown",
      "metadata": {
        "id": "tl9a-xldcedj"
      },
      "source": [
        "**(a) What is the difference between the experiment in Figure 1 and Figure 3 of the paper.**\n",
        "\n",
        "Hint: are there differences in the method, the architecture, or the dataset"
      ]
    },
    {
      "cell_type": "markdown",
      "metadata": {
        "id": "4xB5cVZgcedj"
      },
      "source": [
        "*   Figure 1 uses one-shot pruning, figure 3 uses iterative pruning\n",
        "*   The convolutional networks in Figure 3 aren't run and plotted\n",
        "*   Figure 1 measues validation accuracy, figure 3 measures test accuracy\n",
        "\n"
      ]
    },
    {
      "cell_type": "markdown",
      "metadata": {
        "id": "VHsli77Lcedk"
      },
      "source": [
        "**(b) Implement the iterative pruning method from the paper**"
      ]
    },
    {
      "cell_type": "markdown",
      "metadata": {
        "id": "uI9BzUl7cedk"
      },
      "source": [
        "TODO: Function implemented as: `TODO` in `dl_assignment_7_common.py`"
      ]
    },
    {
      "cell_type": "markdown",
      "metadata": {
        "id": "e0eafLj7cedk"
      },
      "source": [
        "**(c) Perform the experiments needed to reproduce Figure 3 from the paper**\n",
        "\n",
        "Hint: see previous section"
      ]
    },
    {
      "cell_type": "markdown",
      "metadata": {
        "id": "jULJQ8rqcedk"
      },
      "source": [
        "TODO: Training implemented in `TODO.py`"
      ]
    },
    {
      "cell_type": "code",
      "execution_count": null,
      "metadata": {
        "id": "SvD73jFncedk",
        "colab": {
          "base_uri": "https://localhost:8080/"
        },
        "outputId": "c157741e-cf80-4a33-8793-a4f61934792b"
      },
      "outputs": [
        {
          "output_type": "stream",
          "name": "stdout",
          "text": [
            "loss 0.009, train acc 0.997, test acc 0.981\n",
            "68202831.9 examples/sec on cuda:0\n",
            "loss 0.005, train acc 0.998, test acc 0.982\n",
            "61923460.9 examples/sec on cuda:0\n",
            "loss 0.006, train acc 0.998, test acc 0.982\n",
            "62055850.1 examples/sec on cuda:0\n",
            "loss 0.003, train acc 0.999, test acc 0.981\n",
            "62332510.9 examples/sec on cuda:0\n",
            "loss 0.004, train acc 0.999, test acc 0.982\n",
            "62459640.5 examples/sec on cuda:0\n",
            "loss 0.005, train acc 0.998, test acc 0.982\n",
            "62751096.7 examples/sec on cuda:0\n",
            "loss 0.011, train acc 0.997, test acc 0.978\n",
            "68903252.2 examples/sec on cuda:0\n",
            "loss 0.005, train acc 0.999, test acc 0.981\n",
            "62545708.5 examples/sec on cuda:0\n",
            "loss 0.003, train acc 0.999, test acc 0.982\n",
            "62259740.7 examples/sec on cuda:0\n",
            "loss 0.000, train acc 1.000, test acc 0.985\n",
            "62509515.2 examples/sec on cuda:0\n",
            "loss 0.000, train acc 1.000, test acc 0.984\n",
            "62437034.3 examples/sec on cuda:0\n",
            "loss 0.000, train acc 1.000, test acc 0.984\n",
            "61928664.8 examples/sec on cuda:0\n",
            "loss 0.008, train acc 0.997, test acc 0.980\n",
            "68569751.0 examples/sec on cuda:0\n",
            "loss 0.006, train acc 0.998, test acc 0.983\n",
            "62743987.4 examples/sec on cuda:0\n",
            "loss 0.001, train acc 1.000, test acc 0.980\n",
            "62763109.4 examples/sec on cuda:0\n",
            "loss 0.002, train acc 0.999, test acc 0.982\n",
            "62791753.5 examples/sec on cuda:0\n",
            "loss 0.000, train acc 1.000, test acc 0.985\n",
            "62597835.1 examples/sec on cuda:0\n",
            "loss 0.000, train acc 1.000, test acc 0.979\n",
            "63139895.8 examples/sec on cuda:0\n"
          ]
        }
      ],
      "source": [
        "# TODO: your code here\n",
        "remaining_weight_1,_ = section2_iterative('mnist', 'lenet', 1, 0.4, 5, 'l1', 'lenet/train_results_iteration_lenet_fig3.txt')\n",
        "remaining_weight_2,_ = section2_iterative('mnist', 'lenet', 1, 0.58, 5, 'l1', 'lenet/train_results_iteration_lenet_fig3.txt')\n",
        "remaining_weight_3,_ = section2_iterative('mnist', 'lenet', 1, 0.65, 5, 'l1', 'lenet/train_results_iteration_lenet_fig3.txt')\n"
      ]
    },
    {
      "cell_type": "code",
      "source": [
        "!cp -r \"/content/lenet\" \"/content/drive/MyDrive/\""
      ],
      "metadata": {
        "id": "5FulNXrt16lX"
      },
      "execution_count": null,
      "outputs": []
    },
    {
      "cell_type": "code",
      "source": [
        "training_iters = []\n",
        "test_accs = []\n",
        "\n",
        "with open('lenet/train_results_iteration_lenet_fig3.txt') as input_data:\n",
        "     for line in input_data:\n",
        "        if line.strip() == '------------------':\n",
        "            continue\n",
        "        test_acc, it = map(float, line.split(\",\"))\n",
        "        test_accs.append(test_acc)\n",
        "        training_iters.append(it)\n",
        "     input_data.close()\n",
        "\n",
        "iters1, accs1 = training_iters[:4], test_accs[:4]\n",
        "iters2, accs2 = training_iters[4:8], test_accs[4:8]\n",
        "iters3, accs3 = training_iters[8:], test_accs[8:]\n",
        "\n",
        "plt.errorbar(iters1, accs1,\n",
        "             label =\"51.3\", color='orange')\n",
        "\n",
        "plt.errorbar(iters2, accs2,\n",
        "             label =\"21.1\", color='green')\n",
        "\n",
        "plt.errorbar(iters3, accs3,\n",
        "             label =\"7.0\", color='red')\n",
        "\n",
        "plt.xlabel('Training iterations')\n",
        "plt.ylabel('Test Accuracy')\n",
        "plt.axis([5000, 20000, 0.97, 0.99])\n",
        "plt.legend(loc ='upper left')"
      ],
      "metadata": {
        "colab": {
          "base_uri": "https://localhost:8080/",
          "height": 301
        },
        "id": "49sspq1NtCvC",
        "outputId": "1729b39d-d32e-4fa4-ef8d-2c5e391e0c10"
      },
      "execution_count": null,
      "outputs": [
        {
          "output_type": "execute_result",
          "data": {
            "text/plain": [
              "<matplotlib.legend.Legend at 0x7fde21c24f90>"
            ]
          },
          "metadata": {},
          "execution_count": 14
        },
        {
          "output_type": "display_data",
          "data": {
            "text/plain": [
              "<Figure size 432x288 with 1 Axes>"
            ],
            "image/png": "[encoded data removed]"
          },
          "metadata": {
            "needs_background": "light"
          }
        }
      ]
    },
    {
      "cell_type": "markdown",
      "metadata": {
        "id": "EY-OLjWmcedk"
      },
      "source": [
        "**(d) Do your results match the paper? Discuss similarities and differences**"
      ]
    },
    {
      "cell_type": "markdown",
      "metadata": {
        "id": "QZgNGqR1cedl"
      },
      "source": [
        "My resultant graph is similar to figure 3 in the paper. The test accuracy falls around 0.98 for each of the pruning amount. I didn't have time to do the iterative pruning for all the amounts in figure 3, therefore I could only plot one graph with each of the lines from the figure's 3 graphs."
      ]
    },
    {
      "cell_type": "markdown",
      "metadata": {
        "id": "u1kl0O-Wcedl"
      },
      "source": [
        "**(e) Perform the experiments needed to reproduce Figure 4 from the paper**\n",
        "\n",
        "Hint: see previous section"
      ]
    },
    {
      "cell_type": "markdown",
      "metadata": {
        "id": "QwFee2_Ucedl"
      },
      "source": [
        "TODO: Training implemented in `TODO.py`"
      ]
    },
    {
      "cell_type": "code",
      "execution_count": null,
      "metadata": {
        "id": "Xo8W8SWvcedl",
        "colab": {
          "base_uri": "https://localhost:8080/",
          "height": 465
        },
        "outputId": "6e922dc2-5321-4f4d-b2af-6c2f858f4080"
      },
      "outputs": [
        {
          "output_type": "error",
          "ename": "KeyboardInterrupt",
          "evalue": "ignored",
          "traceback": [
            "\u001b[0;31m---------------------------------------------------------------------------\u001b[0m",
            "\u001b[0;31mKeyboardInterrupt\u001b[0m                         Traceback (most recent call last)",
            "\u001b[0;32m<ipython-input-6-c95be1756a28>\u001b[0m in \u001b[0;36m<module>\u001b[0;34m\u001b[0m\n\u001b[1;32m      1\u001b[0m \u001b[0;31m# TODO: your code here\u001b[0m\u001b[0;34m\u001b[0m\u001b[0;34m\u001b[0m\u001b[0;34m\u001b[0m\u001b[0m\n\u001b[0;32m----> 2\u001b[0;31m \u001b[0mfigure4\u001b[0m\u001b[0;34m(\u001b[0m\u001b[0;34m'mnist'\u001b[0m\u001b[0;34m,\u001b[0m \u001b[0;34m'lenet'\u001b[0m\u001b[0;34m,\u001b[0m \u001b[0;36m1\u001b[0m\u001b[0;34m,\u001b[0m \u001b[0;36m0.487\u001b[0m\u001b[0;34m,\u001b[0m \u001b[0;36m5\u001b[0m\u001b[0;34m,\u001b[0m \u001b[0;34m'lenet/train_results_combination_1.txt'\u001b[0m\u001b[0;34m)\u001b[0m\u001b[0;34m\u001b[0m\u001b[0;34m\u001b[0m\u001b[0m\n\u001b[0m\u001b[1;32m      3\u001b[0m \u001b[0mfigure4\u001b[0m\u001b[0;34m(\u001b[0m\u001b[0;34m'mnist'\u001b[0m\u001b[0;34m,\u001b[0m \u001b[0;34m'lenet'\u001b[0m\u001b[0;34m,\u001b[0m \u001b[0;36m1\u001b[0m\u001b[0;34m,\u001b[0m \u001b[0;36m0.789\u001b[0m\u001b[0;34m,\u001b[0m \u001b[0;36m5\u001b[0m\u001b[0;34m,\u001b[0m \u001b[0;34m'lenet/train_results_combination_2.txt'\u001b[0m\u001b[0;34m)\u001b[0m\u001b[0;34m\u001b[0m\u001b[0;34m\u001b[0m\u001b[0m\n\u001b[1;32m      4\u001b[0m \u001b[0mfigure4\u001b[0m\u001b[0;34m(\u001b[0m\u001b[0;34m'mnist'\u001b[0m\u001b[0;34m,\u001b[0m \u001b[0;34m'lenet'\u001b[0m\u001b[0;34m,\u001b[0m \u001b[0;36m1\u001b[0m\u001b[0;34m,\u001b[0m \u001b[0;36m0.93\u001b[0m\u001b[0;34m,\u001b[0m \u001b[0;36m5\u001b[0m\u001b[0;34m,\u001b[0m \u001b[0;34m'lenet/train_results_combination_3.txt'\u001b[0m\u001b[0;34m)\u001b[0m\u001b[0;34m\u001b[0m\u001b[0;34m\u001b[0m\u001b[0m\n\u001b[1;32m      5\u001b[0m \u001b[0mfigure4\u001b[0m\u001b[0;34m(\u001b[0m\u001b[0;34m'mnist'\u001b[0m\u001b[0;34m,\u001b[0m \u001b[0;34m'lenet'\u001b[0m\u001b[0;34m,\u001b[0m \u001b[0;36m1\u001b[0m\u001b[0;34m,\u001b[0m \u001b[0;36m0.964\u001b[0m\u001b[0;34m,\u001b[0m \u001b[0;36m5\u001b[0m\u001b[0;34m,\u001b[0m \u001b[0;34m'lenet/train_results_combination_4.txt'\u001b[0m\u001b[0;34m)\u001b[0m\u001b[0;34m\u001b[0m\u001b[0;34m\u001b[0m\u001b[0m\n",
            "\u001b[0;32m/content/dl_assignment_7_common.py\u001b[0m in \u001b[0;36mfigure4\u001b[0;34m(dataset_name, arch, cur_run, amount, n, file_name)\u001b[0m\n\u001b[1;32m    588\u001b[0m     \u001b[0;31m# original_model\u001b[0m\u001b[0;34m\u001b[0m\u001b[0;34m\u001b[0m\u001b[0;34m\u001b[0m\u001b[0m\n\u001b[1;32m    589\u001b[0m \u001b[0;34m\u001b[0m\u001b[0m\n\u001b[0;32m--> 590\u001b[0;31m     \u001b[0msection1_oneshot\u001b[0m\u001b[0;34m(\u001b[0m\u001b[0mdataset_name\u001b[0m\u001b[0;34m,\u001b[0m \u001b[0march\u001b[0m\u001b[0;34m,\u001b[0m \u001b[0mcur_run\u001b[0m\u001b[0;34m,\u001b[0m \u001b[0mamount\u001b[0m\u001b[0;34m,\u001b[0m \u001b[0;34m\"l1\"\u001b[0m\u001b[0;34m,\u001b[0m \u001b[0mfile_name\u001b[0m\u001b[0;34m,\u001b[0m \u001b[0;36m4\u001b[0m\u001b[0;34m,\u001b[0m \u001b[0mNOT_RANDOM_INIT\u001b[0m\u001b[0;34m)\u001b[0m\u001b[0;34m\u001b[0m\u001b[0;34m\u001b[0m\u001b[0m\n\u001b[0m\u001b[1;32m    591\u001b[0m \u001b[0;34m\u001b[0m\u001b[0m\n\u001b[1;32m    592\u001b[0m     \u001b[0;31m# Random Reinit 3 times - one shot\u001b[0m\u001b[0;34m\u001b[0m\u001b[0;34m\u001b[0m\u001b[0;34m\u001b[0m\u001b[0m\n",
            "\u001b[0;32m/content/dl_assignment_7_common.py\u001b[0m in \u001b[0;36msection1_oneshot\u001b[0;34m(dataset_name, arch, cur_run, amount, method, file_name, fig_num, random_init)\u001b[0m\n\u001b[1;32m    512\u001b[0m \u001b[0;34m\u001b[0m\u001b[0m\n\u001b[1;32m    513\u001b[0m \u001b[0;34m\u001b[0m\u001b[0m\n\u001b[0;32m--> 514\u001b[0;31m     \u001b[0mtrain_with_early_stop_calculations\u001b[0m\u001b[0;34m(\u001b[0m\u001b[0mnet\u001b[0m\u001b[0;34m,\u001b[0m \u001b[0march\u001b[0m\u001b[0;34m,\u001b[0m \u001b[0mcur_run\u001b[0m\u001b[0;34m,\u001b[0m \u001b[0mamount\u001b[0m\u001b[0;34m,\u001b[0m \u001b[0mparams\u001b[0m\u001b[0;34m,\u001b[0m \u001b[0mdataset_name\u001b[0m\u001b[0;34m,\u001b[0m \u001b[0mfile_name\u001b[0m\u001b[0;34m,\u001b[0m \u001b[0mNOT_WRITE_TO_FILE\u001b[0m\u001b[0;34m,\u001b[0m \u001b[0mORIGINAL_MODEL\u001b[0m\u001b[0;34m)\u001b[0m\u001b[0;34m\u001b[0m\u001b[0;34m\u001b[0m\u001b[0m\n\u001b[0m\u001b[1;32m    515\u001b[0m \u001b[0;34m\u001b[0m\u001b[0m\n\u001b[1;32m    516\u001b[0m     \u001b[0mbest_model\u001b[0m\u001b[0;34m,\u001b[0m \u001b[0m_\u001b[0m \u001b[0;34m=\u001b[0m \u001b[0mget_network_and_params\u001b[0m\u001b[0;34m(\u001b[0m\u001b[0march\u001b[0m\u001b[0;34m)\u001b[0m\u001b[0;34m\u001b[0m\u001b[0;34m\u001b[0m\u001b[0m\n",
            "\u001b[0;32m/content/dl_assignment_7_common.py\u001b[0m in \u001b[0;36mtrain_with_early_stop_calculations\u001b[0;34m(net, arch, cur_run, amount, params, dataset_name, file_name, write_to_file, original_model, iteration, fig_num)\u001b[0m\n\u001b[1;32m    448\u001b[0m                 \u001b[0;32mif\u001b[0m \u001b[0;34m(\u001b[0m\u001b[0mcurrent\u001b[0m \u001b[0;34m==\u001b[0m \u001b[0mthreshold\u001b[0m\u001b[0;34m)\u001b[0m\u001b[0;34m:\u001b[0m  \u001b[0;31m# threshold = 150\u001b[0m\u001b[0;34m\u001b[0m\u001b[0;34m\u001b[0m\u001b[0m\n\u001b[1;32m    449\u001b[0m                     \u001b[0mcurrent\u001b[0m \u001b[0;34m=\u001b[0m \u001b[0;36m0\u001b[0m\u001b[0;34m\u001b[0m\u001b[0;34m\u001b[0m\u001b[0m\n\u001b[0;32m--> 450\u001b[0;31m                     \u001b[0mval_loss\u001b[0m\u001b[0;34m,\u001b[0m \u001b[0m_\u001b[0m \u001b[0;34m=\u001b[0m \u001b[0mevaluate\u001b[0m\u001b[0;34m(\u001b[0m\u001b[0mnet\u001b[0m\u001b[0;34m,\u001b[0m \u001b[0mval_iter\u001b[0m\u001b[0;34m)\u001b[0m\u001b[0;34m\u001b[0m\u001b[0;34m\u001b[0m\u001b[0m\n\u001b[0m\u001b[1;32m    451\u001b[0m                     \u001b[0;32mif\u001b[0m \u001b[0mval_loss\u001b[0m \u001b[0;34m<\u001b[0m \u001b[0mtemp_val_loss\u001b[0m\u001b[0;34m:\u001b[0m\u001b[0;34m\u001b[0m\u001b[0;34m\u001b[0m\u001b[0m\n\u001b[1;32m    452\u001b[0m                         \u001b[0mtemp_val_loss\u001b[0m \u001b[0;34m=\u001b[0m \u001b[0mval_loss\u001b[0m\u001b[0;34m\u001b[0m\u001b[0;34m\u001b[0m\u001b[0m\n",
            "\u001b[0;32m/content/dl_assignment_7_common.py\u001b[0m in \u001b[0;36mevaluate\u001b[0;34m(net, dataset, device)\u001b[0m\n\u001b[1;32m    196\u001b[0m     \u001b[0mloss\u001b[0m \u001b[0;34m=\u001b[0m \u001b[0mnn\u001b[0m\u001b[0;34m.\u001b[0m\u001b[0mCrossEntropyLoss\u001b[0m\u001b[0;34m(\u001b[0m\u001b[0;34m)\u001b[0m\u001b[0;34m\u001b[0m\u001b[0;34m\u001b[0m\u001b[0m\n\u001b[1;32m    197\u001b[0m     \u001b[0mmetric\u001b[0m \u001b[0;34m=\u001b[0m \u001b[0md2l\u001b[0m\u001b[0;34m.\u001b[0m\u001b[0mAccumulator\u001b[0m\u001b[0;34m(\u001b[0m\u001b[0;36m3\u001b[0m\u001b[0;34m)\u001b[0m\u001b[0;34m\u001b[0m\u001b[0;34m\u001b[0m\u001b[0m\n\u001b[0;32m--> 198\u001b[0;31m     \u001b[0;32mfor\u001b[0m \u001b[0mi\u001b[0m\u001b[0;34m,\u001b[0m \u001b[0;34m(\u001b[0m\u001b[0mX\u001b[0m\u001b[0;34m,\u001b[0m \u001b[0my\u001b[0m\u001b[0;34m)\u001b[0m \u001b[0;32min\u001b[0m \u001b[0menumerate\u001b[0m\u001b[0;34m(\u001b[0m\u001b[0mdataset\u001b[0m\u001b[0;34m)\u001b[0m\u001b[0;34m:\u001b[0m\u001b[0;34m\u001b[0m\u001b[0;34m\u001b[0m\u001b[0m\n\u001b[0m\u001b[1;32m    199\u001b[0m         \u001b[0;32mwith\u001b[0m \u001b[0mtorch\u001b[0m\u001b[0;34m.\u001b[0m\u001b[0mno_grad\u001b[0m\u001b[0;34m(\u001b[0m\u001b[0;34m)\u001b[0m\u001b[0;34m:\u001b[0m\u001b[0;34m\u001b[0m\u001b[0;34m\u001b[0m\u001b[0m\n\u001b[1;32m    200\u001b[0m             \u001b[0mX\u001b[0m\u001b[0;34m,\u001b[0m \u001b[0my\u001b[0m \u001b[0;34m=\u001b[0m \u001b[0mX\u001b[0m\u001b[0;34m.\u001b[0m\u001b[0mto\u001b[0m\u001b[0;34m(\u001b[0m\u001b[0mdevice\u001b[0m\u001b[0;34m)\u001b[0m\u001b[0;34m,\u001b[0m \u001b[0my\u001b[0m\u001b[0;34m.\u001b[0m\u001b[0mto\u001b[0m\u001b[0;34m(\u001b[0m\u001b[0mdevice\u001b[0m\u001b[0;34m)\u001b[0m\u001b[0;34m\u001b[0m\u001b[0;34m\u001b[0m\u001b[0m\n",
            "\u001b[0;32m/usr/local/lib/python3.7/dist-packages/torch/utils/data/dataloader.py\u001b[0m in \u001b[0;36m__next__\u001b[0;34m(self)\u001b[0m\n\u001b[1;32m    679\u001b[0m                 \u001b[0;31m# TODO(https://github.com/pytorch/pytorch/issues/76750)\u001b[0m\u001b[0;34m\u001b[0m\u001b[0;34m\u001b[0m\u001b[0;34m\u001b[0m\u001b[0m\n\u001b[1;32m    680\u001b[0m                 \u001b[0mself\u001b[0m\u001b[0;34m.\u001b[0m\u001b[0m_reset\u001b[0m\u001b[0;34m(\u001b[0m\u001b[0;34m)\u001b[0m  \u001b[0;31m# type: ignore[call-arg]\u001b[0m\u001b[0;34m\u001b[0m\u001b[0;34m\u001b[0m\u001b[0m\n\u001b[0;32m--> 681\u001b[0;31m             \u001b[0mdata\u001b[0m \u001b[0;34m=\u001b[0m \u001b[0mself\u001b[0m\u001b[0;34m.\u001b[0m\u001b[0m_next_data\u001b[0m\u001b[0;34m(\u001b[0m\u001b[0;34m)\u001b[0m\u001b[0;34m\u001b[0m\u001b[0;34m\u001b[0m\u001b[0m\n\u001b[0m\u001b[1;32m    682\u001b[0m             \u001b[0mself\u001b[0m\u001b[0;34m.\u001b[0m\u001b[0m_num_yielded\u001b[0m \u001b[0;34m+=\u001b[0m \u001b[0;36m1\u001b[0m\u001b[0;34m\u001b[0m\u001b[0;34m\u001b[0m\u001b[0m\n\u001b[1;32m    683\u001b[0m             \u001b[0;32mif\u001b[0m \u001b[0mself\u001b[0m\u001b[0;34m.\u001b[0m\u001b[0m_dataset_kind\u001b[0m \u001b[0;34m==\u001b[0m \u001b[0m_DatasetKind\u001b[0m\u001b[0;34m.\u001b[0m\u001b[0mIterable\u001b[0m \u001b[0;32mand\u001b[0m\u001b[0;31m \u001b[0m\u001b[0;31m\\\u001b[0m\u001b[0;34m\u001b[0m\u001b[0;34m\u001b[0m\u001b[0m\n",
            "\u001b[0;32m/usr/local/lib/python3.7/dist-packages/torch/utils/data/dataloader.py\u001b[0m in \u001b[0;36m_next_data\u001b[0;34m(self)\u001b[0m\n\u001b[1;32m    719\u001b[0m     \u001b[0;32mdef\u001b[0m \u001b[0m_next_data\u001b[0m\u001b[0;34m(\u001b[0m\u001b[0mself\u001b[0m\u001b[0;34m)\u001b[0m\u001b[0;34m:\u001b[0m\u001b[0;34m\u001b[0m\u001b[0;34m\u001b[0m\u001b[0m\n\u001b[1;32m    720\u001b[0m         \u001b[0mindex\u001b[0m \u001b[0;34m=\u001b[0m \u001b[0mself\u001b[0m\u001b[0;34m.\u001b[0m\u001b[0m_next_index\u001b[0m\u001b[0;34m(\u001b[0m\u001b[0;34m)\u001b[0m  \u001b[0;31m# may raise StopIteration\u001b[0m\u001b[0;34m\u001b[0m\u001b[0;34m\u001b[0m\u001b[0m\n\u001b[0;32m--> 721\u001b[0;31m         \u001b[0mdata\u001b[0m \u001b[0;34m=\u001b[0m \u001b[0mself\u001b[0m\u001b[0;34m.\u001b[0m\u001b[0m_dataset_fetcher\u001b[0m\u001b[0;34m.\u001b[0m\u001b[0mfetch\u001b[0m\u001b[0;34m(\u001b[0m\u001b[0mindex\u001b[0m\u001b[0;34m)\u001b[0m  \u001b[0;31m# may raise StopIteration\u001b[0m\u001b[0;34m\u001b[0m\u001b[0;34m\u001b[0m\u001b[0m\n\u001b[0m\u001b[1;32m    722\u001b[0m         \u001b[0;32mif\u001b[0m \u001b[0mself\u001b[0m\u001b[0;34m.\u001b[0m\u001b[0m_pin_memory\u001b[0m\u001b[0;34m:\u001b[0m\u001b[0;34m\u001b[0m\u001b[0;34m\u001b[0m\u001b[0m\n\u001b[1;32m    723\u001b[0m             \u001b[0mdata\u001b[0m \u001b[0;34m=\u001b[0m \u001b[0m_utils\u001b[0m\u001b[0;34m.\u001b[0m\u001b[0mpin_memory\u001b[0m\u001b[0;34m.\u001b[0m\u001b[0mpin_memory\u001b[0m\u001b[0;34m(\u001b[0m\u001b[0mdata\u001b[0m\u001b[0;34m,\u001b[0m \u001b[0mself\u001b[0m\u001b[0;34m.\u001b[0m\u001b[0m_pin_memory_device\u001b[0m\u001b[0;34m)\u001b[0m\u001b[0;34m\u001b[0m\u001b[0;34m\u001b[0m\u001b[0m\n",
            "\u001b[0;32m/usr/local/lib/python3.7/dist-packages/torch/utils/data/_utils/fetch.py\u001b[0m in \u001b[0;36mfetch\u001b[0;34m(self, possibly_batched_index)\u001b[0m\n\u001b[1;32m     47\u001b[0m     \u001b[0;32mdef\u001b[0m \u001b[0mfetch\u001b[0m\u001b[0;34m(\u001b[0m\u001b[0mself\u001b[0m\u001b[0;34m,\u001b[0m \u001b[0mpossibly_batched_index\u001b[0m\u001b[0;34m)\u001b[0m\u001b[0;34m:\u001b[0m\u001b[0;34m\u001b[0m\u001b[0;34m\u001b[0m\u001b[0m\n\u001b[1;32m     48\u001b[0m         \u001b[0;32mif\u001b[0m \u001b[0mself\u001b[0m\u001b[0;34m.\u001b[0m\u001b[0mauto_collation\u001b[0m\u001b[0;34m:\u001b[0m\u001b[0;34m\u001b[0m\u001b[0;34m\u001b[0m\u001b[0m\n\u001b[0;32m---> 49\u001b[0;31m             \u001b[0mdata\u001b[0m \u001b[0;34m=\u001b[0m \u001b[0;34m[\u001b[0m\u001b[0mself\u001b[0m\u001b[0;34m.\u001b[0m\u001b[0mdataset\u001b[0m\u001b[0;34m[\u001b[0m\u001b[0midx\u001b[0m\u001b[0;34m]\u001b[0m \u001b[0;32mfor\u001b[0m \u001b[0midx\u001b[0m \u001b[0;32min\u001b[0m \u001b[0mpossibly_batched_index\u001b[0m\u001b[0;34m]\u001b[0m\u001b[0;34m\u001b[0m\u001b[0;34m\u001b[0m\u001b[0m\n\u001b[0m\u001b[1;32m     50\u001b[0m         \u001b[0;32melse\u001b[0m\u001b[0;34m:\u001b[0m\u001b[0;34m\u001b[0m\u001b[0;34m\u001b[0m\u001b[0m\n\u001b[1;32m     51\u001b[0m             \u001b[0mdata\u001b[0m \u001b[0;34m=\u001b[0m \u001b[0mself\u001b[0m\u001b[0;34m.\u001b[0m\u001b[0mdataset\u001b[0m\u001b[0;34m[\u001b[0m\u001b[0mpossibly_batched_index\u001b[0m\u001b[0;34m]\u001b[0m\u001b[0;34m\u001b[0m\u001b[0;34m\u001b[0m\u001b[0m\n",
            "\u001b[0;32m/usr/local/lib/python3.7/dist-packages/torch/utils/data/_utils/fetch.py\u001b[0m in \u001b[0;36m<listcomp>\u001b[0;34m(.0)\u001b[0m\n\u001b[1;32m     47\u001b[0m     \u001b[0;32mdef\u001b[0m \u001b[0mfetch\u001b[0m\u001b[0;34m(\u001b[0m\u001b[0mself\u001b[0m\u001b[0;34m,\u001b[0m \u001b[0mpossibly_batched_index\u001b[0m\u001b[0;34m)\u001b[0m\u001b[0;34m:\u001b[0m\u001b[0;34m\u001b[0m\u001b[0;34m\u001b[0m\u001b[0m\n\u001b[1;32m     48\u001b[0m         \u001b[0;32mif\u001b[0m \u001b[0mself\u001b[0m\u001b[0;34m.\u001b[0m\u001b[0mauto_collation\u001b[0m\u001b[0;34m:\u001b[0m\u001b[0;34m\u001b[0m\u001b[0;34m\u001b[0m\u001b[0m\n\u001b[0;32m---> 49\u001b[0;31m             \u001b[0mdata\u001b[0m \u001b[0;34m=\u001b[0m \u001b[0;34m[\u001b[0m\u001b[0mself\u001b[0m\u001b[0;34m.\u001b[0m\u001b[0mdataset\u001b[0m\u001b[0;34m[\u001b[0m\u001b[0midx\u001b[0m\u001b[0;34m]\u001b[0m \u001b[0;32mfor\u001b[0m \u001b[0midx\u001b[0m \u001b[0;32min\u001b[0m \u001b[0mpossibly_batched_index\u001b[0m\u001b[0;34m]\u001b[0m\u001b[0;34m\u001b[0m\u001b[0;34m\u001b[0m\u001b[0m\n\u001b[0m\u001b[1;32m     50\u001b[0m         \u001b[0;32melse\u001b[0m\u001b[0;34m:\u001b[0m\u001b[0;34m\u001b[0m\u001b[0;34m\u001b[0m\u001b[0m\n\u001b[1;32m     51\u001b[0m             \u001b[0mdata\u001b[0m \u001b[0;34m=\u001b[0m \u001b[0mself\u001b[0m\u001b[0;34m.\u001b[0m\u001b[0mdataset\u001b[0m\u001b[0;34m[\u001b[0m\u001b[0mpossibly_batched_index\u001b[0m\u001b[0;34m]\u001b[0m\u001b[0;34m\u001b[0m\u001b[0;34m\u001b[0m\u001b[0m\n",
            "\u001b[0;32m/usr/local/lib/python3.7/dist-packages/torch/utils/data/dataset.py\u001b[0m in \u001b[0;36m__getitem__\u001b[0;34m(self, idx)\u001b[0m\n\u001b[1;32m    288\u001b[0m         \u001b[0;32mif\u001b[0m \u001b[0misinstance\u001b[0m\u001b[0;34m(\u001b[0m\u001b[0midx\u001b[0m\u001b[0;34m,\u001b[0m \u001b[0mlist\u001b[0m\u001b[0;34m)\u001b[0m\u001b[0;34m:\u001b[0m\u001b[0;34m\u001b[0m\u001b[0;34m\u001b[0m\u001b[0m\n\u001b[1;32m    289\u001b[0m             \u001b[0;32mreturn\u001b[0m \u001b[0mself\u001b[0m\u001b[0;34m.\u001b[0m\u001b[0mdataset\u001b[0m\u001b[0;34m[\u001b[0m\u001b[0;34m[\u001b[0m\u001b[0mself\u001b[0m\u001b[0;34m.\u001b[0m\u001b[0mindices\u001b[0m\u001b[0;34m[\u001b[0m\u001b[0mi\u001b[0m\u001b[0;34m]\u001b[0m \u001b[0;32mfor\u001b[0m \u001b[0mi\u001b[0m \u001b[0;32min\u001b[0m \u001b[0midx\u001b[0m\u001b[0;34m]\u001b[0m\u001b[0;34m]\u001b[0m\u001b[0;34m\u001b[0m\u001b[0;34m\u001b[0m\u001b[0m\n\u001b[0;32m--> 290\u001b[0;31m         \u001b[0;32mreturn\u001b[0m \u001b[0mself\u001b[0m\u001b[0;34m.\u001b[0m\u001b[0mdataset\u001b[0m\u001b[0;34m[\u001b[0m\u001b[0mself\u001b[0m\u001b[0;34m.\u001b[0m\u001b[0mindices\u001b[0m\u001b[0;34m[\u001b[0m\u001b[0midx\u001b[0m\u001b[0;34m]\u001b[0m\u001b[0;34m]\u001b[0m\u001b[0;34m\u001b[0m\u001b[0;34m\u001b[0m\u001b[0m\n\u001b[0m\u001b[1;32m    291\u001b[0m \u001b[0;34m\u001b[0m\u001b[0m\n\u001b[1;32m    292\u001b[0m     \u001b[0;32mdef\u001b[0m \u001b[0m__len__\u001b[0m\u001b[0;34m(\u001b[0m\u001b[0mself\u001b[0m\u001b[0;34m)\u001b[0m\u001b[0;34m:\u001b[0m\u001b[0;34m\u001b[0m\u001b[0;34m\u001b[0m\u001b[0m\n",
            "\u001b[0;32m/usr/local/lib/python3.7/dist-packages/torchvision/datasets/mnist.py\u001b[0m in \u001b[0;36m__getitem__\u001b[0;34m(self, index)\u001b[0m\n\u001b[1;32m    140\u001b[0m         \u001b[0;31m# doing this so that it is consistent with all other datasets\u001b[0m\u001b[0;34m\u001b[0m\u001b[0;34m\u001b[0m\u001b[0;34m\u001b[0m\u001b[0m\n\u001b[1;32m    141\u001b[0m         \u001b[0;31m# to return a PIL Image\u001b[0m\u001b[0;34m\u001b[0m\u001b[0;34m\u001b[0m\u001b[0;34m\u001b[0m\u001b[0m\n\u001b[0;32m--> 142\u001b[0;31m         \u001b[0mimg\u001b[0m \u001b[0;34m=\u001b[0m \u001b[0mImage\u001b[0m\u001b[0;34m.\u001b[0m\u001b[0mfromarray\u001b[0m\u001b[0;34m(\u001b[0m\u001b[0mimg\u001b[0m\u001b[0;34m.\u001b[0m\u001b[0mnumpy\u001b[0m\u001b[0;34m(\u001b[0m\u001b[0;34m)\u001b[0m\u001b[0;34m,\u001b[0m \u001b[0mmode\u001b[0m\u001b[0;34m=\u001b[0m\u001b[0;34m\"L\"\u001b[0m\u001b[0;34m)\u001b[0m\u001b[0;34m\u001b[0m\u001b[0;34m\u001b[0m\u001b[0m\n\u001b[0m\u001b[1;32m    143\u001b[0m \u001b[0;34m\u001b[0m\u001b[0m\n\u001b[1;32m    144\u001b[0m         \u001b[0;32mif\u001b[0m \u001b[0mself\u001b[0m\u001b[0;34m.\u001b[0m\u001b[0mtransform\u001b[0m \u001b[0;32mis\u001b[0m \u001b[0;32mnot\u001b[0m \u001b[0;32mNone\u001b[0m\u001b[0;34m:\u001b[0m\u001b[0;34m\u001b[0m\u001b[0;34m\u001b[0m\u001b[0m\n",
            "\u001b[0;32m/usr/local/lib/python3.7/dist-packages/PIL/Image.py\u001b[0m in \u001b[0;36mfromarray\u001b[0;34m(obj, mode)\u001b[0m\n\u001b[1;32m   2733\u001b[0m             \u001b[0mobj\u001b[0m \u001b[0;34m=\u001b[0m \u001b[0mobj\u001b[0m\u001b[0;34m.\u001b[0m\u001b[0mtostring\u001b[0m\u001b[0;34m(\u001b[0m\u001b[0;34m)\u001b[0m\u001b[0;34m\u001b[0m\u001b[0;34m\u001b[0m\u001b[0m\n\u001b[1;32m   2734\u001b[0m \u001b[0;34m\u001b[0m\u001b[0m\n\u001b[0;32m-> 2735\u001b[0;31m     \u001b[0;32mreturn\u001b[0m \u001b[0mfrombuffer\u001b[0m\u001b[0;34m(\u001b[0m\u001b[0mmode\u001b[0m\u001b[0;34m,\u001b[0m \u001b[0msize\u001b[0m\u001b[0;34m,\u001b[0m \u001b[0mobj\u001b[0m\u001b[0;34m,\u001b[0m \u001b[0;34m\"raw\"\u001b[0m\u001b[0;34m,\u001b[0m \u001b[0mrawmode\u001b[0m\u001b[0;34m,\u001b[0m \u001b[0;36m0\u001b[0m\u001b[0;34m,\u001b[0m \u001b[0;36m1\u001b[0m\u001b[0;34m)\u001b[0m\u001b[0;34m\u001b[0m\u001b[0;34m\u001b[0m\u001b[0m\n\u001b[0m\u001b[1;32m   2736\u001b[0m \u001b[0;34m\u001b[0m\u001b[0m\n\u001b[1;32m   2737\u001b[0m \u001b[0;34m\u001b[0m\u001b[0m\n",
            "\u001b[0;32m/usr/local/lib/python3.7/dist-packages/PIL/Image.py\u001b[0m in \u001b[0;36mfrombuffer\u001b[0;34m(mode, size, data, decoder_name, *args)\u001b[0m\n\u001b[1;32m   2658\u001b[0m     \"\"\"\n\u001b[1;32m   2659\u001b[0m \u001b[0;34m\u001b[0m\u001b[0m\n\u001b[0;32m-> 2660\u001b[0;31m     \u001b[0m_check_size\u001b[0m\u001b[0;34m(\u001b[0m\u001b[0msize\u001b[0m\u001b[0;34m)\u001b[0m\u001b[0;34m\u001b[0m\u001b[0;34m\u001b[0m\u001b[0m\n\u001b[0m\u001b[1;32m   2661\u001b[0m \u001b[0;34m\u001b[0m\u001b[0m\n\u001b[1;32m   2662\u001b[0m     \u001b[0;31m# may pass tuple instead of argument list\u001b[0m\u001b[0;34m\u001b[0m\u001b[0;34m\u001b[0m\u001b[0;34m\u001b[0m\u001b[0m\n",
            "\u001b[0;32m/usr/local/lib/python3.7/dist-packages/PIL/Image.py\u001b[0m in \u001b[0;36m_check_size\u001b[0;34m(size)\u001b[0m\n\u001b[1;32m   2532\u001b[0m     \u001b[0;32mif\u001b[0m \u001b[0;32mnot\u001b[0m \u001b[0misinstance\u001b[0m\u001b[0;34m(\u001b[0m\u001b[0msize\u001b[0m\u001b[0;34m,\u001b[0m \u001b[0;34m(\u001b[0m\u001b[0mlist\u001b[0m\u001b[0;34m,\u001b[0m \u001b[0mtuple\u001b[0m\u001b[0;34m)\u001b[0m\u001b[0;34m)\u001b[0m\u001b[0;34m:\u001b[0m\u001b[0;34m\u001b[0m\u001b[0;34m\u001b[0m\u001b[0m\n\u001b[1;32m   2533\u001b[0m         \u001b[0;32mraise\u001b[0m \u001b[0mValueError\u001b[0m\u001b[0;34m(\u001b[0m\u001b[0;34m\"Size must be a tuple\"\u001b[0m\u001b[0;34m)\u001b[0m\u001b[0;34m\u001b[0m\u001b[0;34m\u001b[0m\u001b[0m\n\u001b[0;32m-> 2534\u001b[0;31m     \u001b[0;32mif\u001b[0m \u001b[0mlen\u001b[0m\u001b[0;34m(\u001b[0m\u001b[0msize\u001b[0m\u001b[0;34m)\u001b[0m \u001b[0;34m!=\u001b[0m \u001b[0;36m2\u001b[0m\u001b[0;34m:\u001b[0m\u001b[0;34m\u001b[0m\u001b[0;34m\u001b[0m\u001b[0m\n\u001b[0m\u001b[1;32m   2535\u001b[0m         \u001b[0;32mraise\u001b[0m \u001b[0mValueError\u001b[0m\u001b[0;34m(\u001b[0m\u001b[0;34m\"Size must be a tuple of length 2\"\u001b[0m\u001b[0;34m)\u001b[0m\u001b[0;34m\u001b[0m\u001b[0;34m\u001b[0m\u001b[0m\n\u001b[1;32m   2536\u001b[0m     \u001b[0;32mif\u001b[0m \u001b[0msize\u001b[0m\u001b[0;34m[\u001b[0m\u001b[0;36m0\u001b[0m\u001b[0;34m]\u001b[0m \u001b[0;34m<\u001b[0m \u001b[0;36m0\u001b[0m \u001b[0;32mor\u001b[0m \u001b[0msize\u001b[0m\u001b[0;34m[\u001b[0m\u001b[0;36m1\u001b[0m\u001b[0;34m]\u001b[0m \u001b[0;34m<\u001b[0m \u001b[0;36m0\u001b[0m\u001b[0;34m:\u001b[0m\u001b[0;34m\u001b[0m\u001b[0;34m\u001b[0m\u001b[0m\n",
            "\u001b[0;31mKeyboardInterrupt\u001b[0m: "
          ]
        }
      ],
      "source": [
        "# TODO: your code here\n",
        "figure4('mnist', 'lenet', 1, 0.487, 5, 'lenet/train_results_combination_1.txt')\n",
        "figure4('mnist', 'lenet', 1, 0.789, 5, 'lenet/train_results_combination_2.txt')\n",
        "figure4('mnist', 'lenet', 1, 0.93, 5, 'lenet/train_results_combination_3.txt')\n",
        "figure4('mnist', 'lenet', 1, 0.964, 5, 'lenet/train_results_combination_4.txt')"
      ]
    },
    {
      "cell_type": "code",
      "source": [
        "!cp -r \"/content/lenet\" \"/content/drive/MyDrive/\""
      ],
      "metadata": {
        "id": "8mun0WZ5ABwe"
      },
      "execution_count": null,
      "outputs": []
    },
    {
      "cell_type": "markdown",
      "metadata": {
        "id": "Abk7LhOycedl"
      },
      "source": [
        "**(f) Do your results match the paper? Discuss similarities and differences**"
      ]
    },
    {
      "cell_type": "markdown",
      "metadata": {
        "id": "VNfxTUg2cedl"
      },
      "source": [
        "I left my code for figure 4 run overnight, but the runtime was disconnected and it couldn't save the results file in my Drive, therefore, I could not make any plot for figure 4 in time."
      ]
    },
    {
      "cell_type": "markdown",
      "metadata": {
        "id": "p7JMAftycedm"
      },
      "source": [
        "**(g) What can you conclude from this experiment?**"
      ]
    },
    {
      "cell_type": "markdown",
      "metadata": {
        "id": "IvJ7X_zecedm"
      },
      "source": [
        "Iterative pruning and random initialization, when implemented correctly, are effective ways to improve the winning ticket on both train, test and validation accuracy."
      ]
    },
    {
      "cell_type": "markdown",
      "metadata": {
        "id": "QXx3Tg2Zcedm"
      },
      "source": [
        "## 7.7 Experiments from Section 3"
      ]
    },
    {
      "cell_type": "markdown",
      "metadata": {
        "id": "x_S7m-pYcedm"
      },
      "source": [
        "**(a) Perform the experiments needed to reproduce Figure 5 from the paper**"
      ]
    },
    {
      "cell_type": "markdown",
      "metadata": {
        "id": "Y1Hj05IMcedm"
      },
      "source": [
        "TODO: Training implemented in `TODO.py`"
      ]
    },
    {
      "cell_type": "code",
      "execution_count": null,
      "metadata": {
        "id": "-C2eKluTcedm"
      },
      "outputs": [],
      "source": [
        "# TODO: your code here"
      ]
    },
    {
      "cell_type": "markdown",
      "metadata": {
        "id": "75FDPO7hcedm"
      },
      "source": [
        "**(b) Do your results match the paper? Discuss similarities and differences**"
      ]
    },
    {
      "cell_type": "markdown",
      "metadata": {
        "id": "RaNjP78Pcedn"
      },
      "source": [
        "TODO: your answer here."
      ]
    },
    {
      "cell_type": "markdown",
      "metadata": {
        "id": "jOdsceG9cedn"
      },
      "source": [
        "**(c) Perform the experiments needed to reproduce Figure 6 from the paper**"
      ]
    },
    {
      "cell_type": "markdown",
      "metadata": {
        "id": "Oge_XKozcedn"
      },
      "source": [
        "TODO: Training implemented in `TODO.py`"
      ]
    },
    {
      "cell_type": "code",
      "execution_count": null,
      "metadata": {
        "id": "p3FZcWHKcedn"
      },
      "outputs": [],
      "source": [
        "# TODO: your code here"
      ]
    },
    {
      "cell_type": "markdown",
      "metadata": {
        "id": "TfS1H6nicedn"
      },
      "source": [
        "**(d) Do your results match the paper? Discuss similarities and differences**"
      ]
    },
    {
      "cell_type": "markdown",
      "metadata": {
        "id": "Ql_nlj2_cedn"
      },
      "source": [
        "TODO: your answer here."
      ]
    },
    {
      "cell_type": "markdown",
      "metadata": {
        "id": "YsaitDvhcedo"
      },
      "source": [
        "**(e) What can you conclude from this experiment? Is network depth related to how well the pruning works?**"
      ]
    },
    {
      "cell_type": "markdown",
      "metadata": {
        "id": "QYObNx_Acedo"
      },
      "source": [
        "TODO: your answer here."
      ]
    },
    {
      "cell_type": "markdown",
      "metadata": {
        "id": "DXD8B88Ncedo"
      },
      "source": [
        "## 7.8 Experiments from Section 4"
      ]
    },
    {
      "cell_type": "markdown",
      "metadata": {
        "id": "6NwRPMaIcedo"
      },
      "source": [
        "**(a) Section 4 of the paper describes a slightly different pruning method. Implement that method below**\n",
        "\n",
        "Hint: look at [`torch.nn.utils.prune.global_unstructured`](https://pytorch.org/docs/stable/generated/torch.nn.utils.prune.global_unstructured.html) and at the examples on that page.\n",
        "\n",
        "If you get stuck on this step, feel free to continue on with the same pruning methods as before."
      ]
    },
    {
      "cell_type": "markdown",
      "metadata": {
        "id": "rDcNaprxcedo"
      },
      "source": [
        "TODO: Function implemented as: `TODO` in `dl_assignment_7_common.py`"
      ]
    },
    {
      "cell_type": "markdown",
      "metadata": {
        "id": "1YWgllqfcedo"
      },
      "source": [
        "**(b) Perform the experiments needed to reproduce Figure 7 from the paper**\n",
        "\n",
        "Note: this will be computationally more expensive."
      ]
    },
    {
      "cell_type": "markdown",
      "metadata": {
        "id": "Xlpeb3kpcedo"
      },
      "source": [
        "TODO: Training implemented in `TODO.py`"
      ]
    },
    {
      "cell_type": "code",
      "execution_count": null,
      "metadata": {
        "id": "LlCHdJqWcedp"
      },
      "outputs": [],
      "source": [
        "# TODO: your code here"
      ]
    },
    {
      "cell_type": "markdown",
      "metadata": {
        "id": "Yz2vVRKNcedp"
      },
      "source": [
        "**(c) Do your results match the paper? Discuss similarities and differences**"
      ]
    },
    {
      "cell_type": "markdown",
      "metadata": {
        "id": "hKyQlpizcedp"
      },
      "source": [
        "TODO: your answer here."
      ]
    },
    {
      "cell_type": "markdown",
      "metadata": {
        "id": "eKtKvfp2cedp"
      },
      "source": [
        "**(d) Perform the experiments needed to reproduce Figure 8 from the paper**"
      ]
    },
    {
      "cell_type": "markdown",
      "metadata": {
        "id": "pXoA3K3fcedp"
      },
      "source": [
        "TODO: Training implemented in `TODO.py`"
      ]
    },
    {
      "cell_type": "code",
      "execution_count": null,
      "metadata": {
        "id": "97Ge9ZpLcedp"
      },
      "outputs": [],
      "source": [
        "# TODO: your code here"
      ]
    },
    {
      "cell_type": "markdown",
      "metadata": {
        "id": "dclDOuSTcedq"
      },
      "source": [
        "**(e) Do your results match the paper? Discuss similarities and differences**"
      ]
    },
    {
      "cell_type": "markdown",
      "metadata": {
        "id": "OsrvJxyWcedq"
      },
      "source": [
        "TODO: your answer here."
      ]
    },
    {
      "cell_type": "markdown",
      "metadata": {
        "id": "BqNMWho9cedq"
      },
      "source": [
        "## 7.9 Beyond the paper (optional)\n",
        "\n",
        "Here are some ideas to continue beyond the paper.\n",
        "These questions are optional, and you are free to come up with your own ideas.\n",
        "\n",
        "### Speech data\n",
        "Does the lottry ticket hypothesis also work on other types of data, for example speech?\n",
        "\n",
        "Repeat the experiments and compare the results.\n",
        "\n",
        "Hint: keep the dataset to a reasonable size.\n",
        "\n",
        "### Other architectures\n",
        "The paper has experimented with fully connected and convolutional networks.\n",
        "Can you extend this experiment to other architectures, such as RNNs or transformers?\n",
        "\n",
        "Hint: you may need to consider a different type of data\n",
        "\n",
        "Hint 2: keep the networks simple, just like what was done in the paper\n",
        "\n",
        "### Other aspects\n",
        "In the appendices, the paper considers many aspects of neural networks, such as dataset size, model size, hyperparameters etc. Pick one of these experiments and reproduce it. Feel free to give it your own twist."
      ]
    },
    {
      "cell_type": "markdown",
      "metadata": {
        "id": "lVUcdB7Jcedq"
      },
      "source": [
        "**(a) Describe the experiment that you want to perform.**"
      ]
    },
    {
      "cell_type": "markdown",
      "metadata": {
        "id": "x6dU4Pavcedq"
      },
      "source": [
        "TODO: your answer here."
      ]
    },
    {
      "cell_type": "markdown",
      "metadata": {
        "id": "XapS6qL8cedq"
      },
      "source": [
        "**(b) What result do you expect?**"
      ]
    },
    {
      "cell_type": "markdown",
      "metadata": {
        "id": "R7i-H88Ocedq"
      },
      "source": [
        "TODO: your answer here."
      ]
    },
    {
      "cell_type": "markdown",
      "metadata": {
        "id": "fQPz-xa5cedq"
      },
      "source": [
        "**(c) Perform the experiments needed to make a conclusion.**"
      ]
    },
    {
      "cell_type": "markdown",
      "metadata": {
        "id": "aXncFRWpcedr"
      },
      "source": [
        "TODO: Training implemented in `TODO.py`"
      ]
    },
    {
      "cell_type": "code",
      "execution_count": null,
      "metadata": {
        "id": "X4K64TUHcedr"
      },
      "outputs": [],
      "source": [
        "# TODO: your code here"
      ]
    },
    {
      "cell_type": "markdown",
      "metadata": {
        "id": "sz7aptW2cedr"
      },
      "source": [
        "**(d) What can you conclude from this experiment?**"
      ]
    },
    {
      "cell_type": "markdown",
      "metadata": {
        "id": "IVbcIU59cedr"
      },
      "source": [
        "TODO: your answer here."
      ]
    },
    {
      "cell_type": "markdown",
      "metadata": {
        "id": "XLlSaDuucedr"
      },
      "source": [
        "## The end\n",
        "\n",
        "Well done! Please double check the instructions at the top before you submit your results."
      ]
    }
  ],
  "metadata": {
    "kernelspec": {
      "display_name": "Python 3 (ipykernel)",
      "language": "python",
      "name": "python3"
    },
    "language_info": {
      "codemirror_mode": {
        "name": "ipython",
        "version": 3
      },
      "file_extension": ".py",
      "mimetype": "text/x-python",
      "name": "python",
      "nbconvert_exporter": "python",
      "pygments_lexer": "ipython3",
      "version": "3.10.5"
    },
    "colab": {
      "provenance": [],
      "collapsed_sections": [
        "BqNMWho9cedq",
        "XLlSaDuucedr"
      ],
      "machine_shape": "hm"
    },
    "gpuClass": "standard",
    "accelerator": "GPU"
  },
  "nbformat": 4,
  "nbformat_minor": 0
}